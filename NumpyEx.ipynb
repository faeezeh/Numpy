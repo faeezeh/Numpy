{
  "nbformat": 4,
  "nbformat_minor": 0,
  "metadata": {
    "colab": {
      "provenance": [],
      "authorship_tag": "ABX9TyPNDNJR2pGxqCm9Bz3+sdFo",
      "include_colab_link": true
    },
    "kernelspec": {
      "name": "python3",
      "display_name": "Python 3"
    },
    "language_info": {
      "name": "python"
    }
  },
  "cells": [
    {
      "cell_type": "markdown",
      "metadata": {
        "id": "view-in-github",
        "colab_type": "text"
      },
      "source": [
        "<a href=\"https://colab.research.google.com/github/faeezeh/Numpy/blob/main/NumpyEx.ipynb\" target=\"_parent\"><img src=\"https://colab.research.google.com/assets/colab-badge.svg\" alt=\"Open In Colab\"/></a>"
      ]
    },
    {
      "cell_type": "markdown",
      "source": [
        "**Numpy exercise**"
      ],
      "metadata": {
        "id": "DAIajLMdHjM5"
      }
    },
    {
      "cell_type": "markdown",
      "source": [
        "1. Every categorical variable must be quantified\n",
        "\n",
        "2. We need to change any text columns into numbers\n",
        "\n",
        "3. Positive or negative connotation "
      ],
      "metadata": {
        "id": "Vy68wSVFWtoX"
      }
    },
    {
      "cell_type": "code",
      "execution_count": 1,
      "metadata": {
        "id": "NwYOxAs3Hd7-"
      },
      "outputs": [],
      "source": [
        "import numpy as np "
      ]
    },
    {
      "cell_type": "markdown",
      "source": [],
      "metadata": {
        "id": "OVUt7xqeap6P"
      }
    },
    {
      "cell_type": "code",
      "source": [
        "np.set_printoptions( suppress = True , linewidth = 100 , precision = 2 )"
      ],
      "metadata": {
        "id": "Hun5xnBYaJqO"
      },
      "execution_count": 10,
      "outputs": []
    },
    {
      "cell_type": "code",
      "source": [
        "raw_data_np = np.genfromtxt(\"/content/sample_data/loan-data.csv\",\n",
        "                            delimiter=\";\",\n",
        "                            skip_header=1,\n",
        "                            autostrip=True,\n",
        "                            encoding=\"cp855\")\n",
        "raw_data_np"
      ],
      "metadata": {
        "colab": {
          "base_uri": "https://localhost:8080/"
        },
        "id": "kNHAqd3lZQjm",
        "outputId": "1453c85e-d034-4a2a-98de-4bfa9a068375"
      },
      "execution_count": 15,
      "outputs": [
        {
          "output_type": "execute_result",
          "data": {
            "text/plain": [
              "array([[48010226.  ,         nan,    35000.  , ...,         nan,         nan,     9452.96],\n",
              "       [57693261.  ,         nan,    30000.  , ...,         nan,         nan,     4679.7 ],\n",
              "       [59432726.  ,         nan,    15000.  , ...,         nan,         nan,     1969.83],\n",
              "       ...,\n",
              "       [50415990.  ,         nan,    10000.  , ...,         nan,         nan,     2185.64],\n",
              "       [46154151.  ,         nan,         nan, ...,         nan,         nan,     3199.4 ],\n",
              "       [66055249.  ,         nan,    10000.  , ...,         nan,         nan,      301.9 ]])"
            ]
          },
          "metadata": {},
          "execution_count": 15
        }
      ]
    },
    {
      "cell_type": "code",
      "source": [
        "np.isnan(raw_data_np).sum()"
      ],
      "metadata": {
        "colab": {
          "base_uri": "https://localhost:8080/"
        },
        "id": "NNJB1F4ucT_2",
        "outputId": "f53787ae-f07a-48af-8099-d9ca2b893d36"
      },
      "execution_count": 16,
      "outputs": [
        {
          "output_type": "execute_result",
          "data": {
            "text/plain": [
              "88005"
            ]
          },
          "metadata": {},
          "execution_count": 16
        }
      ]
    },
    {
      "cell_type": "code",
      "source": [
        "temp_mean =  np.nanmean(raw_data_np , axis=0)\n",
        "temp_min =  np.nanmin(raw_data_np , axis=0)\n",
        "temp_fill = np.nanmax(raw_data_np) + 1"
      ],
      "metadata": {
        "colab": {
          "base_uri": "https://localhost:8080/"
        },
        "id": "iP0rngoIc5e1",
        "outputId": "f57caa34-c020-45e4-bc1e-5696231122d1"
      },
      "execution_count": 26,
      "outputs": [
        {
          "output_type": "stream",
          "name": "stderr",
          "text": [
            "<ipython-input-26-d8c71dda0048>:1: RuntimeWarning: Mean of empty slice\n",
            "  temp_mean =  np.nanmean(raw_data_np , axis=0)\n",
            "<ipython-input-26-d8c71dda0048>:2: RuntimeWarning: All-NaN slice encountered\n",
            "  temp_min =  np.nanmin(raw_data_np , axis=0)\n"
          ]
        }
      ]
    },
    {
      "cell_type": "code",
      "source": [
        "temp_min"
      ],
      "metadata": {
        "colab": {
          "base_uri": "https://localhost:8080/"
        },
        "id": "ePzUqVqqfBM-",
        "outputId": "24f4eba2-5b61-416a-da05-6c01073e2463"
      },
      "execution_count": 28,
      "outputs": [
        {
          "output_type": "execute_result",
          "data": {
            "text/plain": [
              "array([373332.  ,       nan,   1000.  ,       nan,   1000.  ,       nan,      6.  ,     31.42,\n",
              "             nan,       nan,       nan,       nan,       nan,      0.  ])"
            ]
          },
          "metadata": {},
          "execution_count": 28
        }
      ]
    },
    {
      "cell_type": "code",
      "source": [
        "temp_mean"
      ],
      "metadata": {
        "colab": {
          "base_uri": "https://localhost:8080/"
        },
        "id": "AwnO3jwhdR81",
        "outputId": "98f62244-1649-48a0-af2d-9013b332ba39"
      },
      "execution_count": 27,
      "outputs": [
        {
          "output_type": "execute_result",
          "data": {
            "text/plain": [
              "array([54015809.19,         nan,    15273.46,         nan,    15311.04,         nan,       16.62,\n",
              "            440.92,         nan,         nan,         nan,         nan,         nan,     3143.85])"
            ]
          },
          "metadata": {},
          "execution_count": 27
        }
      ]
    },
    {
      "cell_type": "code",
      "source": [
        "temp_fill"
      ],
      "metadata": {
        "colab": {
          "base_uri": "https://localhost:8080/"
        },
        "id": "pcznMaa2d5A-",
        "outputId": "eb6e60ec-bf15-4e89-e8e6-700e4333b76e"
      },
      "execution_count": 21,
      "outputs": [
        {
          "output_type": "execute_result",
          "data": {
            "text/plain": [
              "68616520.0"
            ]
          },
          "metadata": {},
          "execution_count": 21
        }
      ]
    },
    {
      "cell_type": "code",
      "source": [
        "temp_sets = np.array([temp_min,temp_mean,temp_fill])"
      ],
      "metadata": {
        "colab": {
          "base_uri": "https://localhost:8080/"
        },
        "id": "3QU9RKxrd8FG",
        "outputId": "d29edbb0-d4ff-4c8a-b12b-4ed4eb115d01"
      },
      "execution_count": 34,
      "outputs": [
        {
          "output_type": "stream",
          "name": "stderr",
          "text": [
            "<ipython-input-34-10f5c992cf5e>:1: VisibleDeprecationWarning: Creating an ndarray from ragged nested sequences (which is a list-or-tuple of lists-or-tuples-or ndarrays with different lengths or shapes) is deprecated. If you meant to do this, you must specify 'dtype=object' when creating the ndarray.\n",
            "  temp_sets = np.array([temp_min,temp_mean,temp_fill])\n"
          ]
        }
      ]
    },
    {
      "cell_type": "code",
      "source": [
        "temp_sets"
      ],
      "metadata": {
        "colab": {
          "base_uri": "https://localhost:8080/"
        },
        "id": "DMg5BfwPfRWN",
        "outputId": "2b45a94b-7b0d-4d26-ea91-6cf76513dbe3"
      },
      "execution_count": 35,
      "outputs": [
        {
          "output_type": "execute_result",
          "data": {
            "text/plain": [
              "array([array([373332.  ,       nan,   1000.  ,       nan,   1000.  ,       nan,      6.  ,     31.42,\n",
              "                    nan,       nan,       nan,       nan,       nan,      0.  ])                     ,\n",
              "       array([54015809.19,         nan,    15273.46,         nan,    15311.04,         nan,       16.62,\n",
              "                   440.92,         nan,         nan,         nan,         nan,         nan,     3143.85]),\n",
              "       68616520.0], dtype=object)"
            ]
          },
          "metadata": {},
          "execution_count": 35
        }
      ]
    },
    {
      "cell_type": "code",
      "source": [
        "cols_string = np.argwhere(np.isnan(temp_mean)).squeeze()\n",
        "cols_string"
      ],
      "metadata": {
        "colab": {
          "base_uri": "https://localhost:8080/"
        },
        "id": "Gbcee_BtfULN",
        "outputId": "2c91b02d-b870-4db5-d824-8a1a71792810"
      },
      "execution_count": 40,
      "outputs": [
        {
          "output_type": "execute_result",
          "data": {
            "text/plain": [
              "array([ 1,  3,  5,  8,  9, 10, 11, 12])"
            ]
          },
          "metadata": {},
          "execution_count": 40
        }
      ]
    },
    {
      "cell_type": "code",
      "source": [
        "cols_numeric = np.argwhere(np.isnan(temp_mean) == False).squeeze()\n",
        "cols_numeric"
      ],
      "metadata": {
        "colab": {
          "base_uri": "https://localhost:8080/"
        },
        "id": "OXAbwu_7gwc9",
        "outputId": "1d406a10-6467-4ba9-be72-5228c56c93ce"
      },
      "execution_count": 41,
      "outputs": [
        {
          "output_type": "execute_result",
          "data": {
            "text/plain": [
              "array([ 0,  2,  4,  6,  7, 13])"
            ]
          },
          "metadata": {},
          "execution_count": 41
        }
      ]
    },
    {
      "cell_type": "code",
      "source": [
        "loan_data_string = np.genfromtxt(\"/content/sample_data/loan-data.csv\",\n",
        "                            delimiter=\";\",\n",
        "                            skip_header=1,\n",
        "                            autostrip=True,\n",
        "                            usecols = cols_string,\n",
        "                            encoding=\"cp855\",\n",
        "                            dtype = np.str)\n",
        "loan_data_string"
      ],
      "metadata": {
        "colab": {
          "base_uri": "https://localhost:8080/"
        },
        "id": "6hxHjW9ohJmN",
        "outputId": "e0d65139-1a4f-40f9-807c-717bbbc82e54"
      },
      "execution_count": 42,
      "outputs": [
        {
          "output_type": "stream",
          "name": "stderr",
          "text": [
            "<ipython-input-42-72b7ab78f43f>:7: DeprecationWarning: `np.str` is a deprecated alias for the builtin `str`. To silence this warning, use `str` by itself. Doing this will not modify any behavior and is safe. If you specifically wanted the numpy scalar type, use `np.str_` here.\n",
            "Deprecated in NumPy 1.20; for more details and guidance: https://numpy.org/devdocs/release/1.20.0-notes.html#deprecations\n",
            "  dtype = np.str)\n"
          ]
        },
        {
          "output_type": "execute_result",
          "data": {
            "text/plain": [
              "array([['May-15', 'Current', '36 months', ..., 'Verified',\n",
              "        'https://www.lendingclub.com/browse/loanDetail.action?loan_id=48010226', 'CA'],\n",
              "       ['', 'Current', '36 months', ..., 'Source Verified',\n",
              "        'https://www.lendingclub.com/browse/loanDetail.action?loan_id=57693261', 'NY'],\n",
              "       ['Sep-15', 'Current', '36 months', ..., 'Verified',\n",
              "        'https://www.lendingclub.com/browse/loanDetail.action?loan_id=59432726', 'PA'],\n",
              "       ...,\n",
              "       ['Jun-15', 'Current', '36 months', ..., 'Source Verified',\n",
              "        'https://www.lendingclub.com/browse/loanDetail.action?loan_id=50415990', 'CA'],\n",
              "       ['Apr-15', 'Current', '36 months', ..., 'Source Verified',\n",
              "        'https://www.lendingclub.com/browse/loanDetail.action?loan_id=46154151', 'OH'],\n",
              "       ['Dec-15', 'Current', '36 months', ..., '',\n",
              "        'https://www.lendingclub.com/browse/loanDetail.action?loan_id=66055249', 'IL']],\n",
              "      dtype='<U69')"
            ]
          },
          "metadata": {},
          "execution_count": 42
        }
      ]
    },
    {
      "cell_type": "code",
      "source": [
        "loan_data_num = np.genfromtxt(\"/content/sample_data/loan-data.csv\",\n",
        "                            delimiter=\";\",\n",
        "                            skip_header=1,\n",
        "                            autostrip=True,\n",
        "                            usecols = cols_numeric,\n",
        "                            encoding=\"cp855\",\n",
        "                            dtype = )\n",
        "loan_data_num"
      ],
      "metadata": {
        "colab": {
          "base_uri": "https://localhost:8080/"
        },
        "id": "vSUHQbswhy2h",
        "outputId": "f087c645-0826-4521-af8d-bc93b589d905"
      },
      "execution_count": 45,
      "outputs": [
        {
          "output_type": "execute_result",
          "data": {
            "text/plain": [
              "array([[48010226.  ,    35000.  ,    35000.  ,       13.33,     1184.86,     9452.96],\n",
              "       [57693261.  ,    30000.  ,    30000.  ,         nan,      938.57,     4679.7 ],\n",
              "       [59432726.  ,    15000.  ,    15000.  ,         nan,      494.86,     1969.83],\n",
              "       ...,\n",
              "       [50415990.  ,    10000.  ,    10000.  ,         nan,         nan,     2185.64],\n",
              "       [46154151.  ,         nan,    10000.  ,       16.55,      354.3 ,     3199.4 ],\n",
              "       [66055249.  ,    10000.  ,    10000.  ,         nan,      309.97,      301.9 ]])"
            ]
          },
          "metadata": {},
          "execution_count": 45
        }
      ]
    },
    {
      "cell_type": "code",
      "source": [
        "header = np.genfromtxt(\"/content/sample_data/loan-data.csv\",\n",
        "                             delimiter=\";\",\n",
        "                            skip_footer=raw_data_np.shape[0],\n",
        "                            autostrip=True,\n",
        "                            encoding=\"cp855\",\n",
        "                            dtype = np.str)\n",
        "header"
      ],
      "metadata": {
        "colab": {
          "base_uri": "https://localhost:8080/"
        },
        "id": "NcfhrHqniflO",
        "outputId": "f5bc2531-81eb-436a-ec34-cca8f6a8f511"
      },
      "execution_count": 49,
      "outputs": [
        {
          "output_type": "stream",
          "name": "stderr",
          "text": [
            "<ipython-input-49-20add4c119f6>:6: DeprecationWarning: `np.str` is a deprecated alias for the builtin `str`. To silence this warning, use `str` by itself. Doing this will not modify any behavior and is safe. If you specifically wanted the numpy scalar type, use `np.str_` here.\n",
            "Deprecated in NumPy 1.20; for more details and guidance: https://numpy.org/devdocs/release/1.20.0-notes.html#deprecations\n",
            "  dtype = np.str)\n"
          ]
        },
        {
          "output_type": "execute_result",
          "data": {
            "text/plain": [
              "array(['id', 'issue_d', 'loan_amnt', 'loan_status', 'funded_amnt', 'term', 'int_rate',\n",
              "       'installment', 'grade', 'sub_grade', 'verification_status', 'url', 'addr_state',\n",
              "       'total_pymnt'], dtype='<U19')"
            ]
          },
          "metadata": {},
          "execution_count": 49
        }
      ]
    },
    {
      "cell_type": "code",
      "source": [
        "str_header , num_header = header[cols_string],header[cols_numeric]"
      ],
      "metadata": {
        "id": "B3xiCcyyiAVl"
      },
      "execution_count": 53,
      "outputs": []
    },
    {
      "cell_type": "code",
      "source": [
        "str_header"
      ],
      "metadata": {
        "colab": {
          "base_uri": "https://localhost:8080/"
        },
        "id": "DW1qqGYjkJhh",
        "outputId": "7979fbd5-625f-4bdb-f174-9a1c6619d586"
      },
      "execution_count": 54,
      "outputs": [
        {
          "output_type": "execute_result",
          "data": {
            "text/plain": [
              "array(['issue_d', 'loan_status', 'term', 'grade', 'sub_grade', 'verification_status', 'url',\n",
              "       'addr_state'], dtype='<U19')"
            ]
          },
          "metadata": {},
          "execution_count": 54
        }
      ]
    },
    {
      "cell_type": "code",
      "source": [
        "num_header"
      ],
      "metadata": {
        "colab": {
          "base_uri": "https://localhost:8080/"
        },
        "id": "y1l9kn5-kStV",
        "outputId": "080632c6-b112-481a-9046-94cf3fd485bb"
      },
      "execution_count": 55,
      "outputs": [
        {
          "output_type": "execute_result",
          "data": {
            "text/plain": [
              "array(['id', 'loan_amnt', 'funded_amnt', 'int_rate', 'installment', 'total_pymnt'], dtype='<U19')"
            ]
          },
          "metadata": {},
          "execution_count": 55
        }
      ]
    },
    {
      "cell_type": "code",
      "source": [
        "def checkpoint ( file_name , checkpoint_header , checkpoint_data):\n",
        "  np.savez( file_name , header = checkpoint_header , data = checkpoint_data )\n",
        "  checkpoint_variable = np.load( file_name + \".npz\" )\n",
        "  return(checkpoint_variable)"
      ],
      "metadata": {
        "id": "57IvvhIekbo1"
      },
      "execution_count": 58,
      "outputs": []
    },
    {
      "cell_type": "code",
      "source": [
        "checkpoint_test = checkpoint(\"checkpoint_test\",str_header, loan_data_string)"
      ],
      "metadata": {
        "id": "lEJBcPTfqfE9"
      },
      "execution_count": 59,
      "outputs": []
    },
    {
      "cell_type": "code",
      "source": [
        "checkpoint_test['header']"
      ],
      "metadata": {
        "colab": {
          "base_uri": "https://localhost:8080/"
        },
        "id": "mlaKuWEJq4jb",
        "outputId": "9d12cc01-76bf-4cc5-b04c-3b426e949e2d"
      },
      "execution_count": 61,
      "outputs": [
        {
          "output_type": "execute_result",
          "data": {
            "text/plain": [
              "array(['issue_d', 'loan_status', 'term', 'grade', 'sub_grade', 'verification_status', 'url',\n",
              "       'addr_state'], dtype='<U19')"
            ]
          },
          "metadata": {},
          "execution_count": 61
        }
      ]
    },
    {
      "cell_type": "code",
      "source": [
        "checkpoint_test['data']"
      ],
      "metadata": {
        "colab": {
          "base_uri": "https://localhost:8080/"
        },
        "id": "bmFpbx6Nq-kL",
        "outputId": "bdc9921c-c44b-4262-d1c2-672828410a28"
      },
      "execution_count": 62,
      "outputs": [
        {
          "output_type": "execute_result",
          "data": {
            "text/plain": [
              "array([['May-15', 'Current', '36 months', ..., 'Verified',\n",
              "        'https://www.lendingclub.com/browse/loanDetail.action?loan_id=48010226', 'CA'],\n",
              "       ['', 'Current', '36 months', ..., 'Source Verified',\n",
              "        'https://www.lendingclub.com/browse/loanDetail.action?loan_id=57693261', 'NY'],\n",
              "       ['Sep-15', 'Current', '36 months', ..., 'Verified',\n",
              "        'https://www.lendingclub.com/browse/loanDetail.action?loan_id=59432726', 'PA'],\n",
              "       ...,\n",
              "       ['Jun-15', 'Current', '36 months', ..., 'Source Verified',\n",
              "        'https://www.lendingclub.com/browse/loanDetail.action?loan_id=50415990', 'CA'],\n",
              "       ['Apr-15', 'Current', '36 months', ..., 'Source Verified',\n",
              "        'https://www.lendingclub.com/browse/loanDetail.action?loan_id=46154151', 'OH'],\n",
              "       ['Dec-15', 'Current', '36 months', ..., '',\n",
              "        'https://www.lendingclub.com/browse/loanDetail.action?loan_id=66055249', 'IL']],\n",
              "      dtype='<U69')"
            ]
          },
          "metadata": {},
          "execution_count": 62
        }
      ]
    },
    {
      "cell_type": "code",
      "source": [
        "str_header[0] = \"issue_date\""
      ],
      "metadata": {
        "id": "ZX8i1aturO78"
      },
      "execution_count": 64,
      "outputs": []
    },
    {
      "cell_type": "code",
      "source": [
        "str_header"
      ],
      "metadata": {
        "colab": {
          "base_uri": "https://localhost:8080/"
        },
        "id": "v1G1bnN__cll",
        "outputId": "8eac0c13-d4e4-48ae-fb87-881f558d6f0e"
      },
      "execution_count": 65,
      "outputs": [
        {
          "output_type": "execute_result",
          "data": {
            "text/plain": [
              "array(['issue_date', 'loan_status', 'term', 'grade', 'sub_grade', 'verification_status', 'url',\n",
              "       'addr_state'], dtype='<U19')"
            ]
          },
          "metadata": {},
          "execution_count": 65
        }
      ]
    },
    {
      "cell_type": "code",
      "source": [
        "loan_data_string[:,:1]"
      ],
      "metadata": {
        "colab": {
          "base_uri": "https://localhost:8080/"
        },
        "id": "Wimk42FJ_zii",
        "outputId": "44f95464-39f9-41b4-ab16-759516e9a16b"
      },
      "execution_count": 66,
      "outputs": [
        {
          "output_type": "execute_result",
          "data": {
            "text/plain": [
              "array([['May-15'],\n",
              "       [''],\n",
              "       ['Sep-15'],\n",
              "       ...,\n",
              "       ['Jun-15'],\n",
              "       ['Apr-15'],\n",
              "       ['Dec-15']], dtype='<U69')"
            ]
          },
          "metadata": {},
          "execution_count": 66
        }
      ]
    },
    {
      "cell_type": "code",
      "source": [
        "np.unique(loan_data_string[:,:1])"
      ],
      "metadata": {
        "colab": {
          "base_uri": "https://localhost:8080/"
        },
        "id": "DUDK2pWr_vOa",
        "outputId": "26a0253e-2634-44b4-9ef4-907e28276481"
      },
      "execution_count": 67,
      "outputs": [
        {
          "output_type": "execute_result",
          "data": {
            "text/plain": [
              "array(['', 'Apr-15', 'Aug-15', 'Dec-15', 'Feb-15', 'Jan-15', 'Jul-15', 'Jun-15', 'Mar-15',\n",
              "       'May-15', 'Nov-15', 'Oct-15', 'Sep-15'], dtype='<U69')"
            ]
          },
          "metadata": {},
          "execution_count": 67
        }
      ]
    },
    {
      "cell_type": "code",
      "source": [
        "loan_data_string[:,:1] = np.sort(np.chararray.strip(loan_data_string[:,:1],\"-15\"))"
      ],
      "metadata": {
        "id": "fpqwZDFRAM0T"
      },
      "execution_count": 92,
      "outputs": []
    },
    {
      "cell_type": "code",
      "source": [
        "months = np.unique(np.sort(np.chararray.strip(loan_data_string[:,:1],\"-15\").squeeze()))"
      ],
      "metadata": {
        "id": "BZFldMgDBIH0"
      },
      "execution_count": 93,
      "outputs": []
    },
    {
      "cell_type": "code",
      "source": [
        "for i in range(13):\n",
        "  loan_data_string[:,0] = np.where(loan_data_string[:,0] == months[i] ,\n",
        "                                    i , \n",
        "                                    loan_data_string[:,0])\n"
      ],
      "metadata": {
        "id": "vxqrvHp7DFgC"
      },
      "execution_count": 94,
      "outputs": []
    },
    {
      "cell_type": "code",
      "source": [
        "np.unique(loan_data_string[:,0])"
      ],
      "metadata": {
        "colab": {
          "base_uri": "https://localhost:8080/"
        },
        "id": "NRBRa8YUGcqc",
        "outputId": "742395dc-79b9-48b6-87be-6140717dd8cb"
      },
      "execution_count": 95,
      "outputs": [
        {
          "output_type": "execute_result",
          "data": {
            "text/plain": [
              "array(['0', '1', '10', '11', '12', '2', '3', '4', '5', '6', '7', '8', '9'], dtype='<U69')"
            ]
          },
          "metadata": {},
          "execution_count": 95
        }
      ]
    },
    {
      "cell_type": "markdown",
      "source": [
        "GOOD  'Charged Off' , 'Default','Late (16-30 days)'\n",
        "==1\n",
        "\n",
        "\n",
        "\n",
        "BAD  'Current' ,  'Fully Paid', 'In Grace Period', 'Issued',  'Late (31-120 days)'\n",
        "==0\n"
      ],
      "metadata": {
        "id": "d4zqHYcBMF5R"
      }
    },
    {
      "cell_type": "code",
      "source": [
        "np.unique(loan_data_string[:,1])"
      ],
      "metadata": {
        "colab": {
          "base_uri": "https://localhost:8080/"
        },
        "id": "-FCMFeZmGoHh",
        "outputId": "3e65770c-d417-4e83-ead9-13255cd1e458"
      },
      "execution_count": 96,
      "outputs": [
        {
          "output_type": "execute_result",
          "data": {
            "text/plain": [
              "array(['', 'Charged Off', 'Current', 'Default', 'Fully Paid', 'In Grace Period', 'Issued',\n",
              "       'Late (16-30 days)', 'Late (31-120 days)'], dtype='<U69')"
            ]
          },
          "metadata": {},
          "execution_count": 96
        }
      ]
    },
    {
      "cell_type": "code",
      "source": [
        "status_bad = np.array(['','Charged Off' , 'Default','Late (16-30 days)'])"
      ],
      "metadata": {
        "id": "-dsxTPfrLeNp"
      },
      "execution_count": 99,
      "outputs": []
    },
    {
      "cell_type": "code",
      "source": [
        "loan_data_string[:,1] = np.where(np.isin(loan_data_string[:,1],status_bad),0,1)"
      ],
      "metadata": {
        "id": "C4v7W0XPNNkB"
      },
      "execution_count": 102,
      "outputs": []
    },
    {
      "cell_type": "code",
      "source": [
        "np.unique(loan_data_string[:,1])"
      ],
      "metadata": {
        "colab": {
          "base_uri": "https://localhost:8080/"
        },
        "id": "9MOqyUPoN-Cl",
        "outputId": "fec76ba9-7fff-4ad6-d4bc-231ba72bea57"
      },
      "execution_count": 104,
      "outputs": [
        {
          "output_type": "execute_result",
          "data": {
            "text/plain": [
              "array(['0', '1'], dtype='<U69')"
            ]
          },
          "metadata": {},
          "execution_count": 104
        }
      ]
    },
    {
      "cell_type": "code",
      "source": [
        "np.unique(loan_data_string[:,2])"
      ],
      "metadata": {
        "colab": {
          "base_uri": "https://localhost:8080/"
        },
        "id": "7C7yy7vKOWwY",
        "outputId": "60855c68-05fe-4ac1-ac34-86ca34968754"
      },
      "execution_count": 106,
      "outputs": [
        {
          "output_type": "execute_result",
          "data": {
            "text/plain": [
              "array(['', '36 months', '60 months'], dtype='<U69')"
            ]
          },
          "metadata": {},
          "execution_count": 106
        }
      ]
    },
    {
      "cell_type": "code",
      "source": [
        "loan_data_string[:,2] = np.chararray.strip(loan_data_string[:,2],'months')"
      ],
      "metadata": {
        "id": "IbppKkW7Onyg"
      },
      "execution_count": 107,
      "outputs": []
    },
    {
      "cell_type": "code",
      "source": [
        "str_header[2] = \"term_months\""
      ],
      "metadata": {
        "id": "mzZli3P1Pceh"
      },
      "execution_count": 110,
      "outputs": []
    },
    {
      "cell_type": "code",
      "source": [
        "str_header"
      ],
      "metadata": {
        "colab": {
          "base_uri": "https://localhost:8080/"
        },
        "id": "nQfuWBvIPx-F",
        "outputId": "2d44fcb5-109e-49d0-85a4-6d456a82e5da"
      },
      "execution_count": 111,
      "outputs": [
        {
          "output_type": "execute_result",
          "data": {
            "text/plain": [
              "array(['issue_date', 'loan_status', 'term_months', 'grade', 'sub_grade', 'verification_status',\n",
              "       'url', 'addr_state'], dtype='<U19')"
            ]
          },
          "metadata": {},
          "execution_count": 111
        }
      ]
    },
    {
      "cell_type": "code",
      "source": [
        "np.unique(loan_data_string[:,3])"
      ],
      "metadata": {
        "colab": {
          "base_uri": "https://localhost:8080/"
        },
        "id": "Rr9ot-RJQBxH",
        "outputId": "39cdafb4-8edd-42d6-e36f-d432ada9fdcf"
      },
      "execution_count": 112,
      "outputs": [
        {
          "output_type": "execute_result",
          "data": {
            "text/plain": [
              "array(['', 'A', 'B', 'C', 'D', 'E', 'F', 'G'], dtype='<U69')"
            ]
          },
          "metadata": {},
          "execution_count": 112
        }
      ]
    },
    {
      "cell_type": "code",
      "source": [
        "np.unique(loan_data_string[:,4])"
      ],
      "metadata": {
        "colab": {
          "base_uri": "https://localhost:8080/"
        },
        "id": "rUmcEhjVP9LZ",
        "outputId": "9c5c7290-7f63-43f1-b456-1722af809027"
      },
      "execution_count": 114,
      "outputs": [
        {
          "output_type": "execute_result",
          "data": {
            "text/plain": [
              "array(['', 'A1', 'A2', 'A3', 'A4', 'A5', 'B1', 'B2', 'B3', 'B4', 'B5', 'C1', 'C2', 'C3', 'C4',\n",
              "       'C5', 'D1', 'D2', 'D3', 'D4', 'D5', 'E1', 'E2', 'E3', 'E4', 'E5', 'F1', 'F2', 'F3', 'F4',\n",
              "       'F5', 'G1', 'G2', 'G3', 'G4', 'G5'], dtype='<U69')"
            ]
          },
          "metadata": {},
          "execution_count": 114
        }
      ]
    },
    {
      "cell_type": "code",
      "source": [
        "for i in np.unique(loan_data_string[:,3])[1:]:\n",
        "  loan_data_string[:,4] = np.where( (loan_data_string[:,4]=='') & (loan_data_string[:,3]==i),\n",
        "                                   i + '5' ,\n",
        "                                   loan_data_string[:,4])"
      ],
      "metadata": {
        "id": "r-c2560STbm4"
      },
      "execution_count": 118,
      "outputs": []
    },
    {
      "cell_type": "code",
      "source": [
        "np.unique(loan_data_string[:,4],return_counts=True)"
      ],
      "metadata": {
        "colab": {
          "base_uri": "https://localhost:8080/"
        },
        "id": "YKfyjCtNVWTK",
        "outputId": "6d4c90f4-d8b4-4df2-e3f8-c5847e644f1c"
      },
      "execution_count": 120,
      "outputs": [
        {
          "output_type": "execute_result",
          "data": {
            "text/plain": [
              "(array(['', 'A1', 'A2', 'A3', 'A4', 'A5', 'B1', 'B2', 'B3', 'B4', 'B5', 'C1', 'C2', 'C3', 'C4',\n",
              "        'C5', 'D1', 'D2', 'D3', 'D4', 'D5', 'E1', 'E2', 'E3', 'E4', 'E5', 'F1', 'F2', 'F3', 'F4',\n",
              "        'F5', 'G1', 'G2', 'G3', 'G4', 'G5'], dtype='<U69'),\n",
              " array([  9, 285, 278, 239, 323, 592, 509, 517, 530, 553, 633, 629, 567, 586, 564, 577, 391, 267,\n",
              "        250, 255, 288, 235, 162, 171, 139, 160,  94,  52,  34,  43,  24,  19,  10,   3,   7,   5]))"
            ]
          },
          "metadata": {},
          "execution_count": 120
        }
      ]
    },
    {
      "cell_type": "code",
      "source": [
        "for i in np.unique(loan_data_string[:,3])[1:]:\n",
        "  loan_data_string[:,4] = np.where( (loan_data_string[:,4]==''),\n",
        "                                   'H1',\n",
        "                                   loan_data_string[:,4])"
      ],
      "metadata": {
        "id": "vWDTMihCVust"
      },
      "execution_count": 121,
      "outputs": []
    },
    {
      "cell_type": "code",
      "source": [
        "np.unique(loan_data_string[:,4],return_counts=True)"
      ],
      "metadata": {
        "colab": {
          "base_uri": "https://localhost:8080/"
        },
        "id": "YtnsqX8FWrf8",
        "outputId": "efa49084-bb68-45a0-e6e6-9e5e14d04a83"
      },
      "execution_count": 122,
      "outputs": [
        {
          "output_type": "execute_result",
          "data": {
            "text/plain": [
              "(array(['A1', 'A2', 'A3', 'A4', 'A5', 'B1', 'B2', 'B3', 'B4', 'B5', 'C1', 'C2', 'C3', 'C4', 'C5',\n",
              "        'D1', 'D2', 'D3', 'D4', 'D5', 'E1', 'E2', 'E3', 'E4', 'E5', 'F1', 'F2', 'F3', 'F4', 'F5',\n",
              "        'G1', 'G2', 'G3', 'G4', 'G5', 'H1'], dtype='<U69'),\n",
              " array([285, 278, 239, 323, 592, 509, 517, 530, 553, 633, 629, 567, 586, 564, 577, 391, 267, 250,\n",
              "        255, 288, 235, 162, 171, 139, 160,  94,  52,  34,  43,  24,  19,  10,   3,   7,   5,   9]))"
            ]
          },
          "metadata": {},
          "execution_count": 122
        }
      ]
    },
    {
      "cell_type": "code",
      "source": [
        "loan_data_string = np.delete( loan_data_string , 3 , axis = 1)"
      ],
      "metadata": {
        "id": "Fpg_F5xOWu-3"
      },
      "execution_count": 126,
      "outputs": []
    },
    {
      "cell_type": "code",
      "source": [
        "str_header = np.delete(str_header, 3 )"
      ],
      "metadata": {
        "id": "2deqwhBSXZvg"
      },
      "execution_count": 128,
      "outputs": []
    },
    {
      "cell_type": "code",
      "source": [
        "loan_data_string"
      ],
      "metadata": {
        "colab": {
          "base_uri": "https://localhost:8080/"
        },
        "id": "4r6--wKEXhGa",
        "outputId": "6385c7fb-905f-4fa2-c439-c336ce42b52d"
      },
      "execution_count": 129,
      "outputs": [
        {
          "output_type": "execute_result",
          "data": {
            "text/plain": [
              "array([['9', '1', '36 ', ..., 'Verified',\n",
              "        'https://www.lendingclub.com/browse/loanDetail.action?loan_id=48010226', 'CA'],\n",
              "       ['0', '1', '36 ', ..., 'Source Verified',\n",
              "        'https://www.lendingclub.com/browse/loanDetail.action?loan_id=57693261', 'NY'],\n",
              "       ['12', '1', '36 ', ..., 'Verified',\n",
              "        'https://www.lendingclub.com/browse/loanDetail.action?loan_id=59432726', 'PA'],\n",
              "       ...,\n",
              "       ['7', '1', '36 ', ..., 'Source Verified',\n",
              "        'https://www.lendingclub.com/browse/loanDetail.action?loan_id=50415990', 'CA'],\n",
              "       ['1', '1', '36 ', ..., 'Source Verified',\n",
              "        'https://www.lendingclub.com/browse/loanDetail.action?loan_id=46154151', 'OH'],\n",
              "       ['3', '1', '36 ', ..., '',\n",
              "        'https://www.lendingclub.com/browse/loanDetail.action?loan_id=66055249', 'IL']],\n",
              "      dtype='<U69')"
            ]
          },
          "metadata": {},
          "execution_count": 129
        }
      ]
    },
    {
      "cell_type": "code",
      "source": [
        "str_header"
      ],
      "metadata": {
        "colab": {
          "base_uri": "https://localhost:8080/"
        },
        "id": "fhNSj--AYOqw",
        "outputId": "33427dd5-ee39-4c5a-ee9c-8f2927536594"
      },
      "execution_count": 130,
      "outputs": [
        {
          "output_type": "execute_result",
          "data": {
            "text/plain": [
              "array(['issue_date', 'loan_status', 'term_months', 'sub_grade', 'verification_status', 'url',\n",
              "       'addr_state'], dtype='<U19')"
            ]
          },
          "metadata": {},
          "execution_count": 130
        }
      ]
    },
    {
      "cell_type": "code",
      "source": [
        "np.unique(loan_data_string[:,4],return_counts=True)"
      ],
      "metadata": {
        "colab": {
          "base_uri": "https://localhost:8080/"
        },
        "id": "vSyh6DVnYTaH",
        "outputId": "025967e2-84f4-48cd-904d-6de66358eef1"
      },
      "execution_count": 132,
      "outputs": [
        {
          "output_type": "execute_result",
          "data": {
            "text/plain": [
              "(array(['', 'Not Verified', 'Source Verified', 'Verified'], dtype='<U69'),\n",
              " array([ 500, 2673, 4116, 2711]))"
            ]
          },
          "metadata": {},
          "execution_count": 132
        }
      ]
    },
    {
      "cell_type": "code",
      "source": [
        "keys  = list(np.unique(loan_data_string[:,3]))\n",
        "#keys"
      ],
      "metadata": {
        "id": "GO1j8m5cYhn3"
      },
      "execution_count": 137,
      "outputs": []
    },
    {
      "cell_type": "code",
      "source": [
        "values = list(range(1,np.unique(loan_data_string[:,3]).shape[0]+1))\n",
        "#values"
      ],
      "metadata": {
        "id": "oABVrerSe3xh"
      },
      "execution_count": 140,
      "outputs": []
    },
    {
      "cell_type": "code",
      "source": [
        "dict_sub_grade = dict(zip(keys,values))\n",
        "#dict_sub_grade"
      ],
      "metadata": {
        "id": "_rQFNa0jfhov"
      },
      "execution_count": 143,
      "outputs": []
    },
    {
      "cell_type": "code",
      "source": [
        "for i in np.unique(loan_data_string[:,3]):\n",
        "  loan_data_string[:,3] = np.where(loan_data_string[:,3] == i ,\n",
        "                                   dict_sub_grade[i],\n",
        "                                   loan_data_string[:,3])"
      ],
      "metadata": {
        "id": "6jTfpoNmgEIJ"
      },
      "execution_count": 144,
      "outputs": []
    },
    {
      "cell_type": "code",
      "source": [
        "np.unique(loan_data_string[:,3])"
      ],
      "metadata": {
        "colab": {
          "base_uri": "https://localhost:8080/"
        },
        "id": "GqzUeLDAhSWX",
        "outputId": "c01626c3-fcee-4c8e-a724-b37e5d4cd296"
      },
      "execution_count": 145,
      "outputs": [
        {
          "output_type": "execute_result",
          "data": {
            "text/plain": [
              "array(['1', '10', '11', '12', '13', '14', '15', '16', '17', '18', '19', '2', '20', '21', '22',\n",
              "       '23', '24', '25', '26', '27', '28', '29', '3', '30', '31', '32', '33', '34', '35', '36',\n",
              "       '4', '5', '6', '7', '8', '9'], dtype='<U69')"
            ]
          },
          "metadata": {},
          "execution_count": 145
        }
      ]
    },
    {
      "cell_type": "code",
      "source": [
        "loan_data_string[:,3]"
      ],
      "metadata": {
        "colab": {
          "base_uri": "https://localhost:8080/"
        },
        "id": "MCMV1hkrhlsG",
        "outputId": "17d36fbf-2b85-478a-ead6-f37319373f31"
      },
      "execution_count": 146,
      "outputs": [
        {
          "output_type": "execute_result",
          "data": {
            "text/plain": [
              "array(['13', '5', '10', ..., '5', '17', '4'], dtype='<U69')"
            ]
          },
          "metadata": {},
          "execution_count": 146
        }
      ]
    },
    {
      "cell_type": "code",
      "source": [],
      "metadata": {
        "id": "k_Ii2T2qhv8I"
      },
      "execution_count": null,
      "outputs": []
    }
  ]
}