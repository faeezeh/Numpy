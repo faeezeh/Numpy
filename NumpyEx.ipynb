{
  "nbformat": 4,
  "nbformat_minor": 0,
  "metadata": {
    "colab": {
      "provenance": [],
      "authorship_tag": "ABX9TyO6tsI0YILb3/KBSziH2kDc",
      "include_colab_link": true
    },
    "kernelspec": {
      "name": "python3",
      "display_name": "Python 3"
    },
    "language_info": {
      "name": "python"
    }
  },
  "cells": [
    {
      "cell_type": "markdown",
      "metadata": {
        "id": "view-in-github",
        "colab_type": "text"
      },
      "source": [
        "<a href=\"https://colab.research.google.com/github/faeezeh/Numpy/blob/main/NumpyEx.ipynb\" target=\"_parent\"><img src=\"https://colab.research.google.com/assets/colab-badge.svg\" alt=\"Open In Colab\"/></a>"
      ]
    },
    {
      "cell_type": "markdown",
      "source": [
        "**Numpy exercise**"
      ],
      "metadata": {
        "id": "DAIajLMdHjM5"
      }
    },
    {
      "cell_type": "markdown",
      "source": [
        "1. Every categorical variable must be quantified\n",
        "\n",
        "2. We need to change any text columns into numbers\n",
        "\n",
        "3. Positive or negative connotation "
      ],
      "metadata": {
        "id": "Vy68wSVFWtoX"
      }
    },
    {
      "cell_type": "code",
      "execution_count": 372,
      "metadata": {
        "id": "NwYOxAs3Hd7-"
      },
      "outputs": [],
      "source": [
        "import numpy as np "
      ]
    },
    {
      "cell_type": "markdown",
      "source": [],
      "metadata": {
        "id": "OVUt7xqeap6P"
      }
    },
    {
      "cell_type": "code",
      "source": [
        "np.set_printoptions( suppress = True , linewidth = 100 , precision = 2 )"
      ],
      "metadata": {
        "id": "Hun5xnBYaJqO"
      },
      "execution_count": 373,
      "outputs": []
    },
    {
      "cell_type": "code",
      "source": [
        "raw_data_np = np.genfromtxt(\"/content/sample_data/loan-data.csv\",\n",
        "                            delimiter=\";\",\n",
        "                            skip_header=1,\n",
        "                            autostrip=True,\n",
        "                            encoding=\"cp855\")\n",
        "raw_data_np"
      ],
      "metadata": {
        "colab": {
          "base_uri": "https://localhost:8080/"
        },
        "id": "kNHAqd3lZQjm",
        "outputId": "5ae1310f-7554-4a08-fa9b-795dbbab2aa8"
      },
      "execution_count": 374,
      "outputs": [
        {
          "output_type": "execute_result",
          "data": {
            "text/plain": [
              "array([[48010226.  ,         nan,    35000.  , ...,         nan,         nan,     9452.96],\n",
              "       [57693261.  ,         nan,    30000.  , ...,         nan,         nan,     4679.7 ],\n",
              "       [59432726.  ,         nan,    15000.  , ...,         nan,         nan,     1969.83],\n",
              "       ...,\n",
              "       [50415990.  ,         nan,    10000.  , ...,         nan,         nan,     2185.64],\n",
              "       [46154151.  ,         nan,         nan, ...,         nan,         nan,     3199.4 ],\n",
              "       [66055249.  ,         nan,    10000.  , ...,         nan,         nan,      301.9 ]])"
            ]
          },
          "metadata": {},
          "execution_count": 374
        }
      ]
    },
    {
      "cell_type": "code",
      "source": [
        "np.isnan(raw_data_np).sum()"
      ],
      "metadata": {
        "colab": {
          "base_uri": "https://localhost:8080/"
        },
        "id": "NNJB1F4ucT_2",
        "outputId": "467ace74-b842-4dbd-996e-93b8bb3ede7f"
      },
      "execution_count": 375,
      "outputs": [
        {
          "output_type": "execute_result",
          "data": {
            "text/plain": [
              "88005"
            ]
          },
          "metadata": {},
          "execution_count": 375
        }
      ]
    },
    {
      "cell_type": "code",
      "source": [
        "temp_mean =  np.nanmean(raw_data_np , axis=0)\n",
        "temp_min =  np.nanmin(raw_data_np , axis=0)\n",
        "temp_fill = np.nanmax(raw_data_np) + 1"
      ],
      "metadata": {
        "colab": {
          "base_uri": "https://localhost:8080/"
        },
        "id": "iP0rngoIc5e1",
        "outputId": "cf2f408e-2ec9-456a-bcb0-230dbd16b438"
      },
      "execution_count": 376,
      "outputs": [
        {
          "output_type": "stream",
          "name": "stderr",
          "text": [
            "<ipython-input-376-d8c71dda0048>:1: RuntimeWarning: Mean of empty slice\n",
            "  temp_mean =  np.nanmean(raw_data_np , axis=0)\n",
            "<ipython-input-376-d8c71dda0048>:2: RuntimeWarning: All-NaN slice encountered\n",
            "  temp_min =  np.nanmin(raw_data_np , axis=0)\n"
          ]
        }
      ]
    },
    {
      "cell_type": "code",
      "source": [
        "temp_min"
      ],
      "metadata": {
        "colab": {
          "base_uri": "https://localhost:8080/"
        },
        "id": "ePzUqVqqfBM-",
        "outputId": "bb4032d1-a177-4de0-98e2-384e4ea31c17"
      },
      "execution_count": 377,
      "outputs": [
        {
          "output_type": "execute_result",
          "data": {
            "text/plain": [
              "array([373332.  ,       nan,   1000.  ,       nan,   1000.  ,       nan,      6.  ,     31.42,\n",
              "             nan,       nan,       nan,       nan,       nan,      0.  ])"
            ]
          },
          "metadata": {},
          "execution_count": 377
        }
      ]
    },
    {
      "cell_type": "code",
      "source": [
        "temp_mean"
      ],
      "metadata": {
        "colab": {
          "base_uri": "https://localhost:8080/"
        },
        "id": "AwnO3jwhdR81",
        "outputId": "1cc76d9e-9df8-4871-d7ef-132e16535b37"
      },
      "execution_count": 378,
      "outputs": [
        {
          "output_type": "execute_result",
          "data": {
            "text/plain": [
              "array([54015809.19,         nan,    15273.46,         nan,    15311.04,         nan,       16.62,\n",
              "            440.92,         nan,         nan,         nan,         nan,         nan,     3143.85])"
            ]
          },
          "metadata": {},
          "execution_count": 378
        }
      ]
    },
    {
      "cell_type": "code",
      "source": [
        "temp_fill"
      ],
      "metadata": {
        "colab": {
          "base_uri": "https://localhost:8080/"
        },
        "id": "pcznMaa2d5A-",
        "outputId": "afa07b5b-67c3-4ca7-85ea-76be249a3761"
      },
      "execution_count": 379,
      "outputs": [
        {
          "output_type": "execute_result",
          "data": {
            "text/plain": [
              "68616520.0"
            ]
          },
          "metadata": {},
          "execution_count": 379
        }
      ]
    },
    {
      "cell_type": "code",
      "source": [
        "temp_sets = np.array([temp_min,temp_mean,temp_fill])"
      ],
      "metadata": {
        "colab": {
          "base_uri": "https://localhost:8080/"
        },
        "id": "3QU9RKxrd8FG",
        "outputId": "33823b6d-7095-4b10-9970-968d56ed379a"
      },
      "execution_count": 380,
      "outputs": [
        {
          "output_type": "stream",
          "name": "stderr",
          "text": [
            "<ipython-input-380-10f5c992cf5e>:1: VisibleDeprecationWarning: Creating an ndarray from ragged nested sequences (which is a list-or-tuple of lists-or-tuples-or ndarrays with different lengths or shapes) is deprecated. If you meant to do this, you must specify 'dtype=object' when creating the ndarray.\n",
            "  temp_sets = np.array([temp_min,temp_mean,temp_fill])\n"
          ]
        }
      ]
    },
    {
      "cell_type": "code",
      "source": [
        "temp_sets"
      ],
      "metadata": {
        "colab": {
          "base_uri": "https://localhost:8080/"
        },
        "id": "DMg5BfwPfRWN",
        "outputId": "98b1ea02-42de-443b-eccd-886dcd620526"
      },
      "execution_count": 381,
      "outputs": [
        {
          "output_type": "execute_result",
          "data": {
            "text/plain": [
              "array([array([373332.  ,       nan,   1000.  ,       nan,   1000.  ,       nan,      6.  ,     31.42,\n",
              "                    nan,       nan,       nan,       nan,       nan,      0.  ])                     ,\n",
              "       array([54015809.19,         nan,    15273.46,         nan,    15311.04,         nan,       16.62,\n",
              "                   440.92,         nan,         nan,         nan,         nan,         nan,     3143.85]),\n",
              "       68616520.0], dtype=object)"
            ]
          },
          "metadata": {},
          "execution_count": 381
        }
      ]
    },
    {
      "cell_type": "code",
      "source": [
        "cols_string = np.argwhere(np.isnan(temp_mean)).squeeze()\n",
        "cols_string"
      ],
      "metadata": {
        "colab": {
          "base_uri": "https://localhost:8080/"
        },
        "id": "Gbcee_BtfULN",
        "outputId": "cab3e68b-47e2-4528-b397-c27e14ea7cf7"
      },
      "execution_count": 382,
      "outputs": [
        {
          "output_type": "execute_result",
          "data": {
            "text/plain": [
              "array([ 1,  3,  5,  8,  9, 10, 11, 12])"
            ]
          },
          "metadata": {},
          "execution_count": 382
        }
      ]
    },
    {
      "cell_type": "code",
      "source": [
        "cols_numeric = np.argwhere(np.isnan(temp_mean) == False).squeeze()\n",
        "cols_numeric"
      ],
      "metadata": {
        "colab": {
          "base_uri": "https://localhost:8080/"
        },
        "id": "OXAbwu_7gwc9",
        "outputId": "2c987b7c-36db-4200-8193-05f3392475d6"
      },
      "execution_count": 383,
      "outputs": [
        {
          "output_type": "execute_result",
          "data": {
            "text/plain": [
              "array([ 0,  2,  4,  6,  7, 13])"
            ]
          },
          "metadata": {},
          "execution_count": 383
        }
      ]
    },
    {
      "cell_type": "code",
      "source": [
        "loan_data_string = np.genfromtxt(\"/content/sample_data/loan-data.csv\",\n",
        "                            delimiter=\";\",\n",
        "                            skip_header=1,\n",
        "                            autostrip=True,\n",
        "                            usecols = cols_string,\n",
        "                            encoding=\"cp855\",\n",
        "                            dtype = np.str)\n",
        "loan_data_string"
      ],
      "metadata": {
        "colab": {
          "base_uri": "https://localhost:8080/"
        },
        "id": "6hxHjW9ohJmN",
        "outputId": "0a0113b4-eb59-48b7-c9f3-bfd2d0ccb051"
      },
      "execution_count": 384,
      "outputs": [
        {
          "output_type": "stream",
          "name": "stderr",
          "text": [
            "<ipython-input-384-72b7ab78f43f>:7: DeprecationWarning: `np.str` is a deprecated alias for the builtin `str`. To silence this warning, use `str` by itself. Doing this will not modify any behavior and is safe. If you specifically wanted the numpy scalar type, use `np.str_` here.\n",
            "Deprecated in NumPy 1.20; for more details and guidance: https://numpy.org/devdocs/release/1.20.0-notes.html#deprecations\n",
            "  dtype = np.str)\n"
          ]
        },
        {
          "output_type": "execute_result",
          "data": {
            "text/plain": [
              "array([['May-15', 'Current', '36 months', ..., 'Verified',\n",
              "        'https://www.lendingclub.com/browse/loanDetail.action?loan_id=48010226', 'CA'],\n",
              "       ['', 'Current', '36 months', ..., 'Source Verified',\n",
              "        'https://www.lendingclub.com/browse/loanDetail.action?loan_id=57693261', 'NY'],\n",
              "       ['Sep-15', 'Current', '36 months', ..., 'Verified',\n",
              "        'https://www.lendingclub.com/browse/loanDetail.action?loan_id=59432726', 'PA'],\n",
              "       ...,\n",
              "       ['Jun-15', 'Current', '36 months', ..., 'Source Verified',\n",
              "        'https://www.lendingclub.com/browse/loanDetail.action?loan_id=50415990', 'CA'],\n",
              "       ['Apr-15', 'Current', '36 months', ..., 'Source Verified',\n",
              "        'https://www.lendingclub.com/browse/loanDetail.action?loan_id=46154151', 'OH'],\n",
              "       ['Dec-15', 'Current', '36 months', ..., '',\n",
              "        'https://www.lendingclub.com/browse/loanDetail.action?loan_id=66055249', 'IL']],\n",
              "      dtype='<U69')"
            ]
          },
          "metadata": {},
          "execution_count": 384
        }
      ]
    },
    {
      "cell_type": "code",
      "source": [
        "loan_data_num = np.genfromtxt(\"/content/sample_data/loan-data.csv\",\n",
        "                            delimiter=\";\",\n",
        "                            skip_header=1,\n",
        "                            autostrip=True,\n",
        "                            usecols = cols_numeric,\n",
        "                            encoding=\"cp855\")\n",
        "loan_data_num"
      ],
      "metadata": {
        "colab": {
          "base_uri": "https://localhost:8080/"
        },
        "id": "vSUHQbswhy2h",
        "outputId": "0aa47ddf-19a7-46d4-ace7-c7723e4f22a5"
      },
      "execution_count": 385,
      "outputs": [
        {
          "output_type": "execute_result",
          "data": {
            "text/plain": [
              "array([[48010226.  ,    35000.  ,    35000.  ,       13.33,     1184.86,     9452.96],\n",
              "       [57693261.  ,    30000.  ,    30000.  ,         nan,      938.57,     4679.7 ],\n",
              "       [59432726.  ,    15000.  ,    15000.  ,         nan,      494.86,     1969.83],\n",
              "       ...,\n",
              "       [50415990.  ,    10000.  ,    10000.  ,         nan,         nan,     2185.64],\n",
              "       [46154151.  ,         nan,    10000.  ,       16.55,      354.3 ,     3199.4 ],\n",
              "       [66055249.  ,    10000.  ,    10000.  ,         nan,      309.97,      301.9 ]])"
            ]
          },
          "metadata": {},
          "execution_count": 385
        }
      ]
    },
    {
      "cell_type": "code",
      "source": [
        "header = np.genfromtxt(\"/content/sample_data/loan-data.csv\",\n",
        "                             delimiter=\";\",\n",
        "                            skip_footer=raw_data_np.shape[0],\n",
        "                            autostrip=True,\n",
        "                            encoding=\"cp855\",\n",
        "                            dtype = np.str)\n",
        "header"
      ],
      "metadata": {
        "colab": {
          "base_uri": "https://localhost:8080/"
        },
        "id": "NcfhrHqniflO",
        "outputId": "351a9b85-c20b-4aa0-b74c-cecd2b4f4a6a"
      },
      "execution_count": 386,
      "outputs": [
        {
          "output_type": "stream",
          "name": "stderr",
          "text": [
            "<ipython-input-386-20add4c119f6>:6: DeprecationWarning: `np.str` is a deprecated alias for the builtin `str`. To silence this warning, use `str` by itself. Doing this will not modify any behavior and is safe. If you specifically wanted the numpy scalar type, use `np.str_` here.\n",
            "Deprecated in NumPy 1.20; for more details and guidance: https://numpy.org/devdocs/release/1.20.0-notes.html#deprecations\n",
            "  dtype = np.str)\n"
          ]
        },
        {
          "output_type": "execute_result",
          "data": {
            "text/plain": [
              "array(['id', 'issue_d', 'loan_amnt', 'loan_status', 'funded_amnt', 'term', 'int_rate',\n",
              "       'installment', 'grade', 'sub_grade', 'verification_status', 'url', 'addr_state',\n",
              "       'total_pymnt'], dtype='<U19')"
            ]
          },
          "metadata": {},
          "execution_count": 386
        }
      ]
    },
    {
      "cell_type": "code",
      "source": [
        "str_header , num_header = header[cols_string],header[cols_numeric]"
      ],
      "metadata": {
        "id": "B3xiCcyyiAVl"
      },
      "execution_count": 387,
      "outputs": []
    },
    {
      "cell_type": "code",
      "source": [
        "str_header"
      ],
      "metadata": {
        "colab": {
          "base_uri": "https://localhost:8080/"
        },
        "id": "DW1qqGYjkJhh",
        "outputId": "3806d9d4-cc3e-4e42-cfac-c13fa0c268da"
      },
      "execution_count": 388,
      "outputs": [
        {
          "output_type": "execute_result",
          "data": {
            "text/plain": [
              "array(['issue_d', 'loan_status', 'term', 'grade', 'sub_grade', 'verification_status', 'url',\n",
              "       'addr_state'], dtype='<U19')"
            ]
          },
          "metadata": {},
          "execution_count": 388
        }
      ]
    },
    {
      "cell_type": "code",
      "source": [
        "num_header"
      ],
      "metadata": {
        "colab": {
          "base_uri": "https://localhost:8080/"
        },
        "id": "y1l9kn5-kStV",
        "outputId": "1997d18e-16ce-4509-8e59-a11d16468b05"
      },
      "execution_count": 389,
      "outputs": [
        {
          "output_type": "execute_result",
          "data": {
            "text/plain": [
              "array(['id', 'loan_amnt', 'funded_amnt', 'int_rate', 'installment', 'total_pymnt'], dtype='<U19')"
            ]
          },
          "metadata": {},
          "execution_count": 389
        }
      ]
    },
    {
      "cell_type": "code",
      "source": [
        "def checkpoint ( file_name , checkpoint_header , checkpoint_data):\n",
        "  np.savez( file_name , header = checkpoint_header , data = checkpoint_data )\n",
        "  checkpoint_variable = np.load( file_name + \".npz\" )\n",
        "  return(checkpoint_variable)"
      ],
      "metadata": {
        "id": "57IvvhIekbo1"
      },
      "execution_count": 390,
      "outputs": []
    },
    {
      "cell_type": "code",
      "source": [
        "checkpoint_test = checkpoint(\"checkpoint_test\",str_header, loan_data_string)"
      ],
      "metadata": {
        "id": "lEJBcPTfqfE9"
      },
      "execution_count": 391,
      "outputs": []
    },
    {
      "cell_type": "code",
      "source": [
        "checkpoint_test['header']"
      ],
      "metadata": {
        "colab": {
          "base_uri": "https://localhost:8080/"
        },
        "id": "mlaKuWEJq4jb",
        "outputId": "3a9cffc9-a066-4aca-92f9-beebb50d099f"
      },
      "execution_count": 392,
      "outputs": [
        {
          "output_type": "execute_result",
          "data": {
            "text/plain": [
              "array(['issue_d', 'loan_status', 'term', 'grade', 'sub_grade', 'verification_status', 'url',\n",
              "       'addr_state'], dtype='<U19')"
            ]
          },
          "metadata": {},
          "execution_count": 392
        }
      ]
    },
    {
      "cell_type": "code",
      "source": [
        "checkpoint_test['data']"
      ],
      "metadata": {
        "colab": {
          "base_uri": "https://localhost:8080/"
        },
        "id": "bmFpbx6Nq-kL",
        "outputId": "c06bf128-bccb-458c-8027-b24f7fdf20ad"
      },
      "execution_count": 393,
      "outputs": [
        {
          "output_type": "execute_result",
          "data": {
            "text/plain": [
              "array([['May-15', 'Current', '36 months', ..., 'Verified',\n",
              "        'https://www.lendingclub.com/browse/loanDetail.action?loan_id=48010226', 'CA'],\n",
              "       ['', 'Current', '36 months', ..., 'Source Verified',\n",
              "        'https://www.lendingclub.com/browse/loanDetail.action?loan_id=57693261', 'NY'],\n",
              "       ['Sep-15', 'Current', '36 months', ..., 'Verified',\n",
              "        'https://www.lendingclub.com/browse/loanDetail.action?loan_id=59432726', 'PA'],\n",
              "       ...,\n",
              "       ['Jun-15', 'Current', '36 months', ..., 'Source Verified',\n",
              "        'https://www.lendingclub.com/browse/loanDetail.action?loan_id=50415990', 'CA'],\n",
              "       ['Apr-15', 'Current', '36 months', ..., 'Source Verified',\n",
              "        'https://www.lendingclub.com/browse/loanDetail.action?loan_id=46154151', 'OH'],\n",
              "       ['Dec-15', 'Current', '36 months', ..., '',\n",
              "        'https://www.lendingclub.com/browse/loanDetail.action?loan_id=66055249', 'IL']],\n",
              "      dtype='<U69')"
            ]
          },
          "metadata": {},
          "execution_count": 393
        }
      ]
    },
    {
      "cell_type": "code",
      "source": [
        "str_header[0] = \"issue_date\""
      ],
      "metadata": {
        "id": "ZX8i1aturO78"
      },
      "execution_count": 394,
      "outputs": []
    },
    {
      "cell_type": "code",
      "source": [
        "str_header"
      ],
      "metadata": {
        "colab": {
          "base_uri": "https://localhost:8080/"
        },
        "id": "v1G1bnN__cll",
        "outputId": "9465ace6-6c08-447d-f92c-679842c05990"
      },
      "execution_count": 395,
      "outputs": [
        {
          "output_type": "execute_result",
          "data": {
            "text/plain": [
              "array(['issue_date', 'loan_status', 'term', 'grade', 'sub_grade', 'verification_status', 'url',\n",
              "       'addr_state'], dtype='<U19')"
            ]
          },
          "metadata": {},
          "execution_count": 395
        }
      ]
    },
    {
      "cell_type": "markdown",
      "source": [
        "**issue_date**"
      ],
      "metadata": {
        "id": "NFX9bY2XKMyt"
      }
    },
    {
      "cell_type": "code",
      "source": [
        "loan_data_string[:,:1]"
      ],
      "metadata": {
        "colab": {
          "base_uri": "https://localhost:8080/"
        },
        "id": "Wimk42FJ_zii",
        "outputId": "6a7888c8-7f0a-412a-ff11-af0f8cc0cc16"
      },
      "execution_count": 396,
      "outputs": [
        {
          "output_type": "execute_result",
          "data": {
            "text/plain": [
              "array([['May-15'],\n",
              "       [''],\n",
              "       ['Sep-15'],\n",
              "       ...,\n",
              "       ['Jun-15'],\n",
              "       ['Apr-15'],\n",
              "       ['Dec-15']], dtype='<U69')"
            ]
          },
          "metadata": {},
          "execution_count": 396
        }
      ]
    },
    {
      "cell_type": "code",
      "source": [
        "np.unique(loan_data_string[:,:1])"
      ],
      "metadata": {
        "colab": {
          "base_uri": "https://localhost:8080/"
        },
        "id": "DUDK2pWr_vOa",
        "outputId": "04474550-4a6f-4a23-d25f-9810e51a34f2"
      },
      "execution_count": 397,
      "outputs": [
        {
          "output_type": "execute_result",
          "data": {
            "text/plain": [
              "array(['', 'Apr-15', 'Aug-15', 'Dec-15', 'Feb-15', 'Jan-15', 'Jul-15', 'Jun-15', 'Mar-15',\n",
              "       'May-15', 'Nov-15', 'Oct-15', 'Sep-15'], dtype='<U69')"
            ]
          },
          "metadata": {},
          "execution_count": 397
        }
      ]
    },
    {
      "cell_type": "code",
      "source": [
        "loan_data_string[:,:1] = np.sort(np.chararray.strip(loan_data_string[:,:1],\"-15\"))"
      ],
      "metadata": {
        "id": "fpqwZDFRAM0T"
      },
      "execution_count": 398,
      "outputs": []
    },
    {
      "cell_type": "code",
      "source": [
        "months = np.unique(np.sort(np.chararray.strip(loan_data_string[:,:1],\"-15\").squeeze()))"
      ],
      "metadata": {
        "id": "BZFldMgDBIH0"
      },
      "execution_count": 399,
      "outputs": []
    },
    {
      "cell_type": "code",
      "source": [
        "for i in range(13):\n",
        "  loan_data_string[:,0] = np.where(loan_data_string[:,0] == months[i] ,\n",
        "                                    i , \n",
        "                                    loan_data_string[:,0])\n"
      ],
      "metadata": {
        "id": "vxqrvHp7DFgC"
      },
      "execution_count": 400,
      "outputs": []
    },
    {
      "cell_type": "code",
      "source": [
        "np.unique(loan_data_string[:,0])"
      ],
      "metadata": {
        "colab": {
          "base_uri": "https://localhost:8080/"
        },
        "id": "NRBRa8YUGcqc",
        "outputId": "f6099430-55a6-4dcc-88a5-397a653e188b"
      },
      "execution_count": 401,
      "outputs": [
        {
          "output_type": "execute_result",
          "data": {
            "text/plain": [
              "array(['0', '1', '10', '11', '12', '2', '3', '4', '5', '6', '7', '8', '9'], dtype='<U69')"
            ]
          },
          "metadata": {},
          "execution_count": 401
        }
      ]
    },
    {
      "cell_type": "markdown",
      "source": [
        "**loan_status**"
      ],
      "metadata": {
        "id": "ZdwbaXokJq68"
      }
    },
    {
      "cell_type": "markdown",
      "source": [
        "GOOD  'Charged Off' , 'Default','Late (16-30 days)'\n",
        "==1\n",
        "\n",
        "\n",
        "\n",
        "BAD  'Current' ,  'Fully Paid', 'In Grace Period', 'Issued',  'Late (31-120 days)'\n",
        "==0\n"
      ],
      "metadata": {
        "id": "d4zqHYcBMF5R"
      }
    },
    {
      "cell_type": "code",
      "source": [
        "np.unique(loan_data_string[:,1])"
      ],
      "metadata": {
        "colab": {
          "base_uri": "https://localhost:8080/"
        },
        "id": "-FCMFeZmGoHh",
        "outputId": "4385ff7a-09de-4e76-ffc1-a0478a6dae37"
      },
      "execution_count": 402,
      "outputs": [
        {
          "output_type": "execute_result",
          "data": {
            "text/plain": [
              "array(['', 'Charged Off', 'Current', 'Default', 'Fully Paid', 'In Grace Period', 'Issued',\n",
              "       'Late (16-30 days)', 'Late (31-120 days)'], dtype='<U69')"
            ]
          },
          "metadata": {},
          "execution_count": 402
        }
      ]
    },
    {
      "cell_type": "code",
      "source": [
        "status_bad = np.array(['','Charged Off' , 'Default','Late (16-30 days)'])"
      ],
      "metadata": {
        "id": "-dsxTPfrLeNp"
      },
      "execution_count": 403,
      "outputs": []
    },
    {
      "cell_type": "code",
      "source": [
        "loan_data_string[:,1] = np.where(np.isin(loan_data_string[:,1],status_bad),0,1)"
      ],
      "metadata": {
        "id": "C4v7W0XPNNkB"
      },
      "execution_count": 404,
      "outputs": []
    },
    {
      "cell_type": "code",
      "source": [
        "np.unique(loan_data_string[:,1])"
      ],
      "metadata": {
        "colab": {
          "base_uri": "https://localhost:8080/"
        },
        "id": "9MOqyUPoN-Cl",
        "outputId": "af63f8e2-bdd7-40ae-c967-b263335bf994"
      },
      "execution_count": 405,
      "outputs": [
        {
          "output_type": "execute_result",
          "data": {
            "text/plain": [
              "array(['0', '1'], dtype='<U69')"
            ]
          },
          "metadata": {},
          "execution_count": 405
        }
      ]
    },
    {
      "cell_type": "markdown",
      "source": [
        "**term_months**"
      ],
      "metadata": {
        "id": "tppCLqhHJgUp"
      }
    },
    {
      "cell_type": "code",
      "source": [
        "np.unique(loan_data_string[:,2])"
      ],
      "metadata": {
        "colab": {
          "base_uri": "https://localhost:8080/"
        },
        "id": "7C7yy7vKOWwY",
        "outputId": "42c4c2fb-1255-4926-f9e4-aa21e729d114"
      },
      "execution_count": 406,
      "outputs": [
        {
          "output_type": "execute_result",
          "data": {
            "text/plain": [
              "array(['', '36 months', '60 months'], dtype='<U69')"
            ]
          },
          "metadata": {},
          "execution_count": 406
        }
      ]
    },
    {
      "cell_type": "code",
      "source": [
        "loan_data_string[:,2] = np.chararray.strip(loan_data_string[:,2],'months ')"
      ],
      "metadata": {
        "id": "IbppKkW7Onyg"
      },
      "execution_count": 407,
      "outputs": []
    },
    {
      "cell_type": "code",
      "source": [
        "str_header[2] = \"term_months\""
      ],
      "metadata": {
        "id": "mzZli3P1Pceh"
      },
      "execution_count": 408,
      "outputs": []
    },
    {
      "cell_type": "markdown",
      "source": [
        "**sub_grade**"
      ],
      "metadata": {
        "id": "-1u7K39OJZut"
      }
    },
    {
      "cell_type": "code",
      "source": [
        "str_header"
      ],
      "metadata": {
        "colab": {
          "base_uri": "https://localhost:8080/"
        },
        "id": "nQfuWBvIPx-F",
        "outputId": "bee437ea-91df-41f3-d8eb-e514e1159dbc"
      },
      "execution_count": 409,
      "outputs": [
        {
          "output_type": "execute_result",
          "data": {
            "text/plain": [
              "array(['issue_date', 'loan_status', 'term_months', 'grade', 'sub_grade', 'verification_status',\n",
              "       'url', 'addr_state'], dtype='<U19')"
            ]
          },
          "metadata": {},
          "execution_count": 409
        }
      ]
    },
    {
      "cell_type": "code",
      "source": [
        "np.unique(loan_data_string[:,3])"
      ],
      "metadata": {
        "colab": {
          "base_uri": "https://localhost:8080/"
        },
        "id": "Rr9ot-RJQBxH",
        "outputId": "7fc1c7ec-7fe8-4222-ce48-bedc3a2c6caf"
      },
      "execution_count": 410,
      "outputs": [
        {
          "output_type": "execute_result",
          "data": {
            "text/plain": [
              "array(['', 'A', 'B', 'C', 'D', 'E', 'F', 'G'], dtype='<U69')"
            ]
          },
          "metadata": {},
          "execution_count": 410
        }
      ]
    },
    {
      "cell_type": "code",
      "source": [
        "np.unique(loan_data_string[:,4])"
      ],
      "metadata": {
        "colab": {
          "base_uri": "https://localhost:8080/"
        },
        "id": "rUmcEhjVP9LZ",
        "outputId": "927489bc-1308-4812-dde3-13be4bb23517"
      },
      "execution_count": 411,
      "outputs": [
        {
          "output_type": "execute_result",
          "data": {
            "text/plain": [
              "array(['', 'A1', 'A2', 'A3', 'A4', 'A5', 'B1', 'B2', 'B3', 'B4', 'B5', 'C1', 'C2', 'C3', 'C4',\n",
              "       'C5', 'D1', 'D2', 'D3', 'D4', 'D5', 'E1', 'E2', 'E3', 'E4', 'E5', 'F1', 'F2', 'F3', 'F4',\n",
              "       'F5', 'G1', 'G2', 'G3', 'G4', 'G5'], dtype='<U69')"
            ]
          },
          "metadata": {},
          "execution_count": 411
        }
      ]
    },
    {
      "cell_type": "code",
      "source": [
        "for i in np.unique(loan_data_string[:,3])[1:]:\n",
        "  loan_data_string[:,4] = np.where( (loan_data_string[:,4]=='') & (loan_data_string[:,3]==i),\n",
        "                                   i + '5' ,\n",
        "                                   loan_data_string[:,4])"
      ],
      "metadata": {
        "id": "r-c2560STbm4"
      },
      "execution_count": 412,
      "outputs": []
    },
    {
      "cell_type": "code",
      "source": [
        "np.unique(loan_data_string[:,4],return_counts=True)"
      ],
      "metadata": {
        "colab": {
          "base_uri": "https://localhost:8080/"
        },
        "id": "YKfyjCtNVWTK",
        "outputId": "709e9e7c-49fb-4727-a476-efa3c9d0a9f2"
      },
      "execution_count": 413,
      "outputs": [
        {
          "output_type": "execute_result",
          "data": {
            "text/plain": [
              "(array(['', 'A1', 'A2', 'A3', 'A4', 'A5', 'B1', 'B2', 'B3', 'B4', 'B5', 'C1', 'C2', 'C3', 'C4',\n",
              "        'C5', 'D1', 'D2', 'D3', 'D4', 'D5', 'E1', 'E2', 'E3', 'E4', 'E5', 'F1', 'F2', 'F3', 'F4',\n",
              "        'F5', 'G1', 'G2', 'G3', 'G4', 'G5'], dtype='<U69'),\n",
              " array([  9, 285, 278, 239, 323, 592, 509, 517, 530, 553, 633, 629, 567, 586, 564, 577, 391, 267,\n",
              "        250, 255, 288, 235, 162, 171, 139, 160,  94,  52,  34,  43,  24,  19,  10,   3,   7,   5]))"
            ]
          },
          "metadata": {},
          "execution_count": 413
        }
      ]
    },
    {
      "cell_type": "code",
      "source": [
        "for i in np.unique(loan_data_string[:,3])[1:]:\n",
        "  loan_data_string[:,4] = np.where( (loan_data_string[:,4]==''),\n",
        "                                   'H1',\n",
        "                                   loan_data_string[:,4])"
      ],
      "metadata": {
        "id": "vWDTMihCVust"
      },
      "execution_count": 414,
      "outputs": []
    },
    {
      "cell_type": "code",
      "source": [
        "np.unique(loan_data_string[:,4],return_counts=True)"
      ],
      "metadata": {
        "colab": {
          "base_uri": "https://localhost:8080/"
        },
        "id": "YtnsqX8FWrf8",
        "outputId": "811bf5a2-5bc6-47b9-fbbb-7dff71f9b6fb"
      },
      "execution_count": 415,
      "outputs": [
        {
          "output_type": "execute_result",
          "data": {
            "text/plain": [
              "(array(['A1', 'A2', 'A3', 'A4', 'A5', 'B1', 'B2', 'B3', 'B4', 'B5', 'C1', 'C2', 'C3', 'C4', 'C5',\n",
              "        'D1', 'D2', 'D3', 'D4', 'D5', 'E1', 'E2', 'E3', 'E4', 'E5', 'F1', 'F2', 'F3', 'F4', 'F5',\n",
              "        'G1', 'G2', 'G3', 'G4', 'G5', 'H1'], dtype='<U69'),\n",
              " array([285, 278, 239, 323, 592, 509, 517, 530, 553, 633, 629, 567, 586, 564, 577, 391, 267, 250,\n",
              "        255, 288, 235, 162, 171, 139, 160,  94,  52,  34,  43,  24,  19,  10,   3,   7,   5,   9]))"
            ]
          },
          "metadata": {},
          "execution_count": 415
        }
      ]
    },
    {
      "cell_type": "code",
      "source": [
        "loan_data_string = np.delete( loan_data_string , 3 , axis = 1)"
      ],
      "metadata": {
        "id": "Fpg_F5xOWu-3"
      },
      "execution_count": 416,
      "outputs": []
    },
    {
      "cell_type": "code",
      "source": [
        "str_header = np.delete(str_header, 3 )"
      ],
      "metadata": {
        "id": "2deqwhBSXZvg"
      },
      "execution_count": 417,
      "outputs": []
    },
    {
      "cell_type": "code",
      "source": [
        "loan_data_string"
      ],
      "metadata": {
        "colab": {
          "base_uri": "https://localhost:8080/"
        },
        "id": "4r6--wKEXhGa",
        "outputId": "e2c5496b-9578-4857-8901-03dd6880914d"
      },
      "execution_count": 418,
      "outputs": [
        {
          "output_type": "execute_result",
          "data": {
            "text/plain": [
              "array([['9', '1', '36', ..., 'Verified',\n",
              "        'https://www.lendingclub.com/browse/loanDetail.action?loan_id=48010226', 'CA'],\n",
              "       ['0', '1', '36', ..., 'Source Verified',\n",
              "        'https://www.lendingclub.com/browse/loanDetail.action?loan_id=57693261', 'NY'],\n",
              "       ['12', '1', '36', ..., 'Verified',\n",
              "        'https://www.lendingclub.com/browse/loanDetail.action?loan_id=59432726', 'PA'],\n",
              "       ...,\n",
              "       ['7', '1', '36', ..., 'Source Verified',\n",
              "        'https://www.lendingclub.com/browse/loanDetail.action?loan_id=50415990', 'CA'],\n",
              "       ['1', '1', '36', ..., 'Source Verified',\n",
              "        'https://www.lendingclub.com/browse/loanDetail.action?loan_id=46154151', 'OH'],\n",
              "       ['3', '1', '36', ..., '',\n",
              "        'https://www.lendingclub.com/browse/loanDetail.action?loan_id=66055249', 'IL']],\n",
              "      dtype='<U69')"
            ]
          },
          "metadata": {},
          "execution_count": 418
        }
      ]
    },
    {
      "cell_type": "code",
      "source": [
        "str_header"
      ],
      "metadata": {
        "colab": {
          "base_uri": "https://localhost:8080/"
        },
        "id": "fhNSj--AYOqw",
        "outputId": "a92da9f5-51ce-46da-a34f-25d0e3861bb2"
      },
      "execution_count": 419,
      "outputs": [
        {
          "output_type": "execute_result",
          "data": {
            "text/plain": [
              "array(['issue_date', 'loan_status', 'term_months', 'sub_grade', 'verification_status', 'url',\n",
              "       'addr_state'], dtype='<U19')"
            ]
          },
          "metadata": {},
          "execution_count": 419
        }
      ]
    },
    {
      "cell_type": "code",
      "source": [
        "np.unique(loan_data_string[:,4],return_counts=True)"
      ],
      "metadata": {
        "colab": {
          "base_uri": "https://localhost:8080/"
        },
        "id": "vSyh6DVnYTaH",
        "outputId": "44420f9a-7268-4be9-eafe-e778a08dac09"
      },
      "execution_count": 420,
      "outputs": [
        {
          "output_type": "execute_result",
          "data": {
            "text/plain": [
              "(array(['', 'Not Verified', 'Source Verified', 'Verified'], dtype='<U69'),\n",
              " array([ 500, 2673, 4116, 2711]))"
            ]
          },
          "metadata": {},
          "execution_count": 420
        }
      ]
    },
    {
      "cell_type": "code",
      "source": [
        "keys  = list(np.unique(loan_data_string[:,3]))\n",
        "#keys"
      ],
      "metadata": {
        "id": "GO1j8m5cYhn3"
      },
      "execution_count": 421,
      "outputs": []
    },
    {
      "cell_type": "code",
      "source": [
        "values = list(range(1,np.unique(loan_data_string[:,3]).shape[0]+1))\n",
        "#values"
      ],
      "metadata": {
        "id": "oABVrerSe3xh"
      },
      "execution_count": 422,
      "outputs": []
    },
    {
      "cell_type": "code",
      "source": [
        "dict_sub_grade = dict(zip(keys,values))\n",
        "#dict_sub_grade"
      ],
      "metadata": {
        "id": "_rQFNa0jfhov"
      },
      "execution_count": 423,
      "outputs": []
    },
    {
      "cell_type": "code",
      "source": [
        "for i in np.unique(loan_data_string[:,3]):\n",
        "  loan_data_string[:,3] = np.where(loan_data_string[:,3] == i ,\n",
        "                                   dict_sub_grade[i],\n",
        "                                   loan_data_string[:,3])"
      ],
      "metadata": {
        "id": "6jTfpoNmgEIJ"
      },
      "execution_count": 424,
      "outputs": []
    },
    {
      "cell_type": "code",
      "source": [
        "np.unique(loan_data_string[:,3])"
      ],
      "metadata": {
        "colab": {
          "base_uri": "https://localhost:8080/"
        },
        "id": "GqzUeLDAhSWX",
        "outputId": "f4a5d4db-c0af-4a43-e294-23a5c59b5d8e"
      },
      "execution_count": 425,
      "outputs": [
        {
          "output_type": "execute_result",
          "data": {
            "text/plain": [
              "array(['1', '10', '11', '12', '13', '14', '15', '16', '17', '18', '19', '2', '20', '21', '22',\n",
              "       '23', '24', '25', '26', '27', '28', '29', '3', '30', '31', '32', '33', '34', '35', '36',\n",
              "       '4', '5', '6', '7', '8', '9'], dtype='<U69')"
            ]
          },
          "metadata": {},
          "execution_count": 425
        }
      ]
    },
    {
      "cell_type": "code",
      "source": [
        "loan_data_string[:,3]"
      ],
      "metadata": {
        "colab": {
          "base_uri": "https://localhost:8080/"
        },
        "id": "MCMV1hkrhlsG",
        "outputId": "28969320-0e5f-4eba-afbf-15feec3032a2"
      },
      "execution_count": 426,
      "outputs": [
        {
          "output_type": "execute_result",
          "data": {
            "text/plain": [
              "array(['13', '5', '10', ..., '5', '17', '4'], dtype='<U69')"
            ]
          },
          "metadata": {},
          "execution_count": 426
        }
      ]
    },
    {
      "cell_type": "code",
      "source": [
        "loan_data_string[:,1]"
      ],
      "metadata": {
        "id": "k_Ii2T2qhv8I",
        "colab": {
          "base_uri": "https://localhost:8080/"
        },
        "outputId": "c6fd44d3-0139-45ee-f3aa-57e473031c54"
      },
      "execution_count": 427,
      "outputs": [
        {
          "output_type": "execute_result",
          "data": {
            "text/plain": [
              "array(['1', '1', '1', ..., '1', '1', '1'], dtype='<U69')"
            ]
          },
          "metadata": {},
          "execution_count": 427
        }
      ]
    },
    {
      "cell_type": "markdown",
      "source": [
        "**verification_status**"
      ],
      "metadata": {
        "id": "EBhsfDnUJJiH"
      }
    },
    {
      "cell_type": "markdown",
      "source": [
        "'', 'Not Verified'  ----> 0\n",
        "'Source Verified', 'Verified' ----->1"
      ],
      "metadata": {
        "id": "wDGTjEx8HQrd"
      }
    },
    {
      "cell_type": "code",
      "source": [
        "str_header"
      ],
      "metadata": {
        "colab": {
          "base_uri": "https://localhost:8080/"
        },
        "id": "uV3L8Xm6GGGm",
        "outputId": "693fb9e2-62e2-4dc4-c4f9-2ab755d08a5e"
      },
      "execution_count": 428,
      "outputs": [
        {
          "output_type": "execute_result",
          "data": {
            "text/plain": [
              "array(['issue_date', 'loan_status', 'term_months', 'sub_grade', 'verification_status', 'url',\n",
              "       'addr_state'], dtype='<U19')"
            ]
          },
          "metadata": {},
          "execution_count": 428
        }
      ]
    },
    {
      "cell_type": "code",
      "source": [
        "np.unique(loan_data_string[:,4])"
      ],
      "metadata": {
        "colab": {
          "base_uri": "https://localhost:8080/"
        },
        "id": "jCwLx4sVGWEk",
        "outputId": "e07fcf60-4dfc-4c8a-d05b-ec89cb4c792d"
      },
      "execution_count": 429,
      "outputs": [
        {
          "output_type": "execute_result",
          "data": {
            "text/plain": [
              "array(['', 'Not Verified', 'Source Verified', 'Verified'], dtype='<U69')"
            ]
          },
          "metadata": {},
          "execution_count": 429
        }
      ]
    },
    {
      "cell_type": "code",
      "source": [
        "loan_data_string[:,4] = np.where((loan_data_string[:,4] == '')|(loan_data_string[:,4] =='Not Verified'), 0 ,1)"
      ],
      "metadata": {
        "id": "Q68FhewEGs8e"
      },
      "execution_count": 430,
      "outputs": []
    },
    {
      "cell_type": "code",
      "source": [
        "loan_data_string[:,4]"
      ],
      "metadata": {
        "colab": {
          "base_uri": "https://localhost:8080/"
        },
        "id": "C6FDxPFYIb0P",
        "outputId": "ba51ef6a-2035-4c8a-e6f5-0f9973fb82af"
      },
      "execution_count": 431,
      "outputs": [
        {
          "output_type": "execute_result",
          "data": {
            "text/plain": [
              "array(['1', '1', '1', ..., '1', '1', '0'], dtype='<U69')"
            ]
          },
          "metadata": {},
          "execution_count": 431
        }
      ]
    },
    {
      "cell_type": "markdown",
      "source": [
        "**URL**"
      ],
      "metadata": {
        "id": "eMPVMMdQJA7G"
      }
    },
    {
      "cell_type": "code",
      "source": [
        "loan_data_string[:1,5]"
      ],
      "metadata": {
        "colab": {
          "base_uri": "https://localhost:8080/"
        },
        "id": "MceaqSHWIwm9",
        "outputId": "fad1b5fb-4188-455b-c56c-46ac93a76f1d"
      },
      "execution_count": 432,
      "outputs": [
        {
          "output_type": "execute_result",
          "data": {
            "text/plain": [
              "array(['https://www.lendingclub.com/browse/loanDetail.action?loan_id=48010226'], dtype='<U69')"
            ]
          },
          "metadata": {},
          "execution_count": 432
        }
      ]
    },
    {
      "cell_type": "code",
      "source": [
        "loan_data_string[:,5] = np.chararray.strip( loan_data_string[:,5],\"https://www.lendingclub.com/browse/loanDetail.action?loan_id=\")"
      ],
      "metadata": {
        "id": "g3LY8MnsI7JF"
      },
      "execution_count": 433,
      "outputs": []
    },
    {
      "cell_type": "code",
      "source": [
        "loan_data_string[:,5].astype(dtype = np.int32)"
      ],
      "metadata": {
        "colab": {
          "base_uri": "https://localhost:8080/"
        },
        "id": "ny9OVUCELPLk",
        "outputId": "289bb9b5-4d6e-4447-d8a1-f9aea86325a7"
      },
      "execution_count": 434,
      "outputs": [
        {
          "output_type": "execute_result",
          "data": {
            "text/plain": [
              "array([48010226, 57693261, 59432726, ..., 50415990, 46154151, 66055249], dtype=int32)"
            ]
          },
          "metadata": {},
          "execution_count": 434
        }
      ]
    },
    {
      "cell_type": "code",
      "source": [
        "loan_data_string[:,5]"
      ],
      "metadata": {
        "colab": {
          "base_uri": "https://localhost:8080/"
        },
        "id": "_o6anzjfMBVM",
        "outputId": "240b4e39-92da-48cd-d6af-dbeceb71aeb0"
      },
      "execution_count": 435,
      "outputs": [
        {
          "output_type": "execute_result",
          "data": {
            "text/plain": [
              "array(['48010226', '57693261', '59432726', ..., '50415990', '46154151', '66055249'], dtype='<U69')"
            ]
          },
          "metadata": {},
          "execution_count": 435
        }
      ]
    },
    {
      "cell_type": "markdown",
      "source": [
        " id and url is as same as each other"
      ],
      "metadata": {
        "id": "xyp5_paEONhb"
      }
    },
    {
      "cell_type": "code",
      "source": [
        "num_header"
      ],
      "metadata": {
        "colab": {
          "base_uri": "https://localhost:8080/"
        },
        "id": "XpWxeUCIN4ZF",
        "outputId": "a90e5aa3-ccc1-461c-9bdd-8a01d635a6e0"
      },
      "execution_count": 436,
      "outputs": [
        {
          "output_type": "execute_result",
          "data": {
            "text/plain": [
              "array(['id', 'loan_amnt', 'funded_amnt', 'int_rate', 'installment', 'total_pymnt'], dtype='<U19')"
            ]
          },
          "metadata": {},
          "execution_count": 436
        }
      ]
    },
    {
      "cell_type": "code",
      "source": [
        "loan_data_num[:,0]"
      ],
      "metadata": {
        "colab": {
          "base_uri": "https://localhost:8080/"
        },
        "id": "tCmbRxScMbIH",
        "outputId": "fee1d36c-f110-413e-eb9b-673f38b5f725"
      },
      "execution_count": 437,
      "outputs": [
        {
          "output_type": "execute_result",
          "data": {
            "text/plain": [
              "array([48010226., 57693261., 59432726., ..., 50415990., 46154151., 66055249.])"
            ]
          },
          "metadata": {},
          "execution_count": 437
        }
      ]
    },
    {
      "cell_type": "code",
      "source": [
        "str_header = np.delete(str_header,5)"
      ],
      "metadata": {
        "id": "sxZ9bT_1O3ur"
      },
      "execution_count": 438,
      "outputs": []
    },
    {
      "cell_type": "code",
      "source": [
        "loan_data_string = np.delete(loan_data_string,5,axis=1)"
      ],
      "metadata": {
        "id": "uKUmEBCuNcJN"
      },
      "execution_count": 439,
      "outputs": []
    },
    {
      "cell_type": "markdown",
      "source": [
        "**addr_state**"
      ],
      "metadata": {
        "id": "EA6wuK_lQFnj"
      }
    },
    {
      "cell_type": "code",
      "source": [
        "str_header[5]"
      ],
      "metadata": {
        "colab": {
          "base_uri": "https://localhost:8080/",
          "height": 37
        },
        "id": "VTiC14VxO1_U",
        "outputId": "e5184b4f-b562-43b6-fdb7-788d47155228"
      },
      "execution_count": 440,
      "outputs": [
        {
          "output_type": "execute_result",
          "data": {
            "text/plain": [
              "'addr_state'"
            ],
            "application/vnd.google.colaboratory.intrinsic+json": {
              "type": "string"
            }
          },
          "metadata": {},
          "execution_count": 440
        }
      ]
    },
    {
      "cell_type": "markdown",
      "source": [
        "50 states in america"
      ],
      "metadata": {
        "id": "XYTGyZjtRg6z"
      }
    },
    {
      "cell_type": "code",
      "source": [
        "np.unique(loan_data_string[:,5])"
      ],
      "metadata": {
        "colab": {
          "base_uri": "https://localhost:8080/"
        },
        "id": "SjFAiFKvQqCN",
        "outputId": "b424ac10-d830-4bc4-ef35-21ae77bac8fc"
      },
      "execution_count": 441,
      "outputs": [
        {
          "output_type": "execute_result",
          "data": {
            "text/plain": [
              "array(['', 'AK', 'AL', 'AR', 'AZ', 'CA', 'CO', 'CT', 'DC', 'DE', 'FL', 'GA', 'HI', 'IL', 'IN',\n",
              "       'KS', 'KY', 'LA', 'MA', 'MD', 'ME', 'MI', 'MN', 'MO', 'MS', 'MT', 'NC', 'ND', 'NE', 'NH',\n",
              "       'NJ', 'NM', 'NV', 'NY', 'OH', 'OK', 'OR', 'PA', 'RI', 'SC', 'SD', 'TN', 'TX', 'UT', 'VA',\n",
              "       'VT', 'WA', 'WI', 'WV', 'WY'], dtype='<U69')"
            ]
          },
          "metadata": {},
          "execution_count": 441
        }
      ]
    },
    {
      "cell_type": "code",
      "source": [
        "np.unique(loan_data_string[:,5]).shape"
      ],
      "metadata": {
        "colab": {
          "base_uri": "https://localhost:8080/"
        },
        "id": "i3PvicDUP8h0",
        "outputId": "ab9dd80b-4cf3-4042-90b5-cc3a2cde39ef"
      },
      "execution_count": 442,
      "outputs": [
        {
          "output_type": "execute_result",
          "data": {
            "text/plain": [
              "(50,)"
            ]
          },
          "metadata": {},
          "execution_count": 442
        }
      ]
    },
    {
      "cell_type": "code",
      "source": [
        "loan_data_string[:,5] = np.where(loan_data_string[:,5]=='',\n",
        "                                 0,\n",
        "                                 loan_data_string[:,5])"
      ],
      "metadata": {
        "id": "NrgO854vP-7z"
      },
      "execution_count": 443,
      "outputs": []
    },
    {
      "cell_type": "code",
      "execution_count": 444,
      "metadata": {
        "id": "20ZHFQ9EUxmM"
      },
      "outputs": [],
      "source": [
        "states_west = np.array(['WA', 'OR','CA','NV','ID','MT', 'WY','UT','CO', 'AZ','NM','HI','AK'])\n",
        "states_south = np.array(['TX','OK','AR','LA','MS','AL','TN','KY','FL','GA','SC','NC','VA','WV','MD','DE','DC'])\n",
        "states_midwest = np.array(['ND','SD','NE','KS','MN','IA','MO','WI','IL','IN','MI','OH'])\n",
        "states_east = np.array(['PA','NY','NJ','CT','MA','VT','NH','ME','RI'])"
      ]
    },
    {
      "cell_type": "code",
      "source": [
        "loan_data_string[:,5] = np.where(np.isin(loan_data_string[:,5], states_west), 1, loan_data_string[:,5])\n",
        "loan_data_string[:,5] = np.where(np.isin(loan_data_string[:,5], states_south), 2, loan_data_string[:,5])\n",
        "loan_data_string[:,5] = np.where(np.isin(loan_data_string[:,5], states_midwest), 3, loan_data_string[:,5])\n",
        "loan_data_string[:,5] = np.where(np.isin(loan_data_string[:,5], states_east), 4, loan_data_string[:,5])"
      ],
      "metadata": {
        "id": "iju1izT7U6tE"
      },
      "execution_count": 445,
      "outputs": []
    },
    {
      "cell_type": "code",
      "source": [
        "np.unique(loan_data_string[:,5])"
      ],
      "metadata": {
        "colab": {
          "base_uri": "https://localhost:8080/"
        },
        "id": "z0f9O5ZjVAbb",
        "outputId": "cbb11286-ea69-4acc-ba35-e4f68af322b4"
      },
      "execution_count": 446,
      "outputs": [
        {
          "output_type": "execute_result",
          "data": {
            "text/plain": [
              "array(['0', '1', '2', '3', '4'], dtype='<U69')"
            ]
          },
          "metadata": {},
          "execution_count": 446
        }
      ]
    },
    {
      "cell_type": "markdown",
      "source": [
        "change all data to int"
      ],
      "metadata": {
        "id": "MGCaBsRoVshr"
      }
    },
    {
      "cell_type": "code",
      "source": [
        "print(loan_data_string)"
      ],
      "metadata": {
        "colab": {
          "base_uri": "https://localhost:8080/"
        },
        "id": "3c8vB2e0Vcqj",
        "outputId": "0289a1ad-b560-46c1-8dfb-0cb7d74b5f4b"
      },
      "execution_count": 447,
      "outputs": [
        {
          "output_type": "stream",
          "name": "stdout",
          "text": [
            "[['9' '1' '36' '13' '1' '1']\n",
            " ['0' '1' '36' '5' '1' '4']\n",
            " ['12' '1' '36' '10' '1' '4']\n",
            " ...\n",
            " ['7' '1' '36' '5' '1' '1']\n",
            " ['1' '1' '36' '17' '1' '3']\n",
            " ['3' '1' '36' '4' '0' '3']]\n"
          ]
        }
      ]
    },
    {
      "cell_type": "code",
      "source": [
        "#numpy.ndarray\n",
        "loan_data_string "
      ],
      "metadata": {
        "colab": {
          "base_uri": "https://localhost:8080/"
        },
        "id": "jk0YYxq4Xz0j",
        "outputId": "b41715f6-2d2d-49a8-aa76-097e244f76bc"
      },
      "execution_count": 448,
      "outputs": [
        {
          "output_type": "execute_result",
          "data": {
            "text/plain": [
              "array([['9', '1', '36', '13', '1', '1'],\n",
              "       ['0', '1', '36', '5', '1', '4'],\n",
              "       ['12', '1', '36', '10', '1', '4'],\n",
              "       ...,\n",
              "       ['7', '1', '36', '5', '1', '1'],\n",
              "       ['1', '1', '36', '17', '1', '3'],\n",
              "       ['3', '1', '36', '4', '0', '3']], dtype='<U69')"
            ]
          },
          "metadata": {},
          "execution_count": 448
        }
      ]
    },
    {
      "cell_type": "code",
      "source": [
        "type(raw_data_np)"
      ],
      "metadata": {
        "colab": {
          "base_uri": "https://localhost:8080/"
        },
        "id": "7gf9bFPJhz0N",
        "outputId": "664cdf7c-2a09-41fa-cfc4-28bb2e1a0d2e"
      },
      "execution_count": 449,
      "outputs": [
        {
          "output_type": "execute_result",
          "data": {
            "text/plain": [
              "numpy.ndarray"
            ]
          },
          "metadata": {},
          "execution_count": 449
        }
      ]
    },
    {
      "cell_type": "code",
      "source": [
        "type(loan_data_string)"
      ],
      "metadata": {
        "colab": {
          "base_uri": "https://localhost:8080/"
        },
        "id": "PQEweyVZjdCL",
        "outputId": "106cb833-c68c-45d1-ae93-31fb1c933ae2"
      },
      "execution_count": 450,
      "outputs": [
        {
          "output_type": "execute_result",
          "data": {
            "text/plain": [
              "numpy.ndarray"
            ]
          },
          "metadata": {},
          "execution_count": 450
        }
      ]
    },
    {
      "cell_type": "code",
      "source": [
        "np.isnan(raw_data_np).sum()"
      ],
      "metadata": {
        "colab": {
          "base_uri": "https://localhost:8080/"
        },
        "outputId": "2c20a48b-77ca-44af-a68b-3f5a4da92aba",
        "id": "P4Pk1FtLjKAs"
      },
      "execution_count": 451,
      "outputs": [
        {
          "output_type": "execute_result",
          "data": {
            "text/plain": [
              "88005"
            ]
          },
          "metadata": {},
          "execution_count": 451
        }
      ]
    },
    {
      "cell_type": "code",
      "source": [
        "import pandas as pd\n",
        "\n",
        "# Assuming 'loan_data_string' is a pandas DataFrame\n",
        "loan_data_string = pd.DataFrame(loan_data_string)\n",
        "\n",
        "# Check for NaN values in the DataFrame\n",
        "nan_count = loan_data_string.isnull().sum()\n",
        "\n",
        "print(\"Number of NaN values:\", nan_count)"
      ],
      "metadata": {
        "colab": {
          "base_uri": "https://localhost:8080/"
        },
        "id": "Ysqc5P78jn77",
        "outputId": "9ad0924f-bbfe-451a-acca-8c5845389edc"
      },
      "execution_count": 452,
      "outputs": [
        {
          "output_type": "stream",
          "name": "stdout",
          "text": [
            "Number of NaN values: 0    0\n",
            "1    0\n",
            "2    0\n",
            "3    0\n",
            "4    0\n",
            "5    0\n",
            "dtype: int64\n"
          ]
        }
      ]
    },
    {
      "cell_type": "code",
      "source": [
        "type(loan_data_string[1])\n"
      ],
      "metadata": {
        "colab": {
          "base_uri": "https://localhost:8080/"
        },
        "id": "ubyBRP4qk3QC",
        "outputId": "75aedec1-26b8-4b76-b182-140ef0a810b0"
      },
      "execution_count": 453,
      "outputs": [
        {
          "output_type": "execute_result",
          "data": {
            "text/plain": [
              "pandas.core.series.Series"
            ]
          },
          "metadata": {},
          "execution_count": 453
        }
      ]
    },
    {
      "cell_type": "code",
      "source": [
        "type(loan_data_string)"
      ],
      "metadata": {
        "colab": {
          "base_uri": "https://localhost:8080/"
        },
        "id": "Bkq-7KtFkB8a",
        "outputId": "05770cf6-b41b-4883-fdda-3a61c76df31b"
      },
      "execution_count": 454,
      "outputs": [
        {
          "output_type": "execute_result",
          "data": {
            "text/plain": [
              "pandas.core.frame.DataFrame"
            ]
          },
          "metadata": {},
          "execution_count": 454
        }
      ]
    },
    {
      "cell_type": "code",
      "source": [
        "loan_data_string = loan_data_string.to_numpy()"
      ],
      "metadata": {
        "id": "YO3sGVBlkK5f"
      },
      "execution_count": 455,
      "outputs": []
    },
    {
      "cell_type": "code",
      "source": [
        "type(loan_data_string[:,1])"
      ],
      "metadata": {
        "colab": {
          "base_uri": "https://localhost:8080/"
        },
        "id": "Ef_1dey6kqhz",
        "outputId": "11e6cfbe-d811-402b-a9eb-ec250ef180de"
      },
      "execution_count": 456,
      "outputs": [
        {
          "output_type": "execute_result",
          "data": {
            "text/plain": [
              "numpy.ndarray"
            ]
          },
          "metadata": {},
          "execution_count": 456
        }
      ]
    },
    {
      "cell_type": "code",
      "source": [
        "loan_data_string"
      ],
      "metadata": {
        "colab": {
          "base_uri": "https://localhost:8080/"
        },
        "id": "3kY-WLJUkxZC",
        "outputId": "1de322f5-0110-4622-8c18-8f19db70ecca"
      },
      "execution_count": 457,
      "outputs": [
        {
          "output_type": "execute_result",
          "data": {
            "text/plain": [
              "array([['9', '1', '36', '13', '1', '1'],\n",
              "       ['0', '1', '36', '5', '1', '4'],\n",
              "       ['12', '1', '36', '10', '1', '4'],\n",
              "       ...,\n",
              "       ['7', '1', '36', '5', '1', '1'],\n",
              "       ['1', '1', '36', '17', '1', '3'],\n",
              "       ['3', '1', '36', '4', '0', '3']], dtype=object)"
            ]
          },
          "metadata": {},
          "execution_count": 457
        }
      ]
    },
    {
      "cell_type": "code",
      "source": [
        "checkpoint_string = checkpoint(\"checkpoint_test\",str_header, loan_data_string)"
      ],
      "metadata": {
        "id": "fbBOmlOZmv35"
      },
      "execution_count": 458,
      "outputs": []
    },
    {
      "cell_type": "code",
      "source": [
        "checkpoint_string"
      ],
      "metadata": {
        "colab": {
          "base_uri": "https://localhost:8080/"
        },
        "id": "17_n1YVSlz7T",
        "outputId": "dcdc9a64-2582-4dc0-c04e-a5e592461c65"
      },
      "execution_count": 459,
      "outputs": [
        {
          "output_type": "execute_result",
          "data": {
            "text/plain": [
              "<numpy.lib.npyio.NpzFile at 0x7f295a880b50>"
            ]
          },
          "metadata": {},
          "execution_count": 459
        }
      ]
    },
    {
      "cell_type": "code",
      "source": [
        "checkpoint_string[\"header\"]"
      ],
      "metadata": {
        "colab": {
          "base_uri": "https://localhost:8080/"
        },
        "id": "vu2GcgeDm0VZ",
        "outputId": "55cbe545-03f7-40fc-da52-784c466fae41"
      },
      "execution_count": 460,
      "outputs": [
        {
          "output_type": "execute_result",
          "data": {
            "text/plain": [
              "array(['issue_date', 'loan_status', 'term_months', 'sub_grade', 'verification_status',\n",
              "       'addr_state'], dtype='<U19')"
            ]
          },
          "metadata": {},
          "execution_count": 460
        }
      ]
    },
    {
      "cell_type": "code",
      "source": [
        "np.isnan(loan_data_num).sum()"
      ],
      "metadata": {
        "colab": {
          "base_uri": "https://localhost:8080/"
        },
        "id": "6pSvb5cNm5_5",
        "outputId": "9d1827dd-6602-4593-b8da-24b667aee4f5"
      },
      "execution_count": 465,
      "outputs": [
        {
          "output_type": "execute_result",
          "data": {
            "text/plain": [
              "8005"
            ]
          },
          "metadata": {},
          "execution_count": 465
        }
      ]
    },
    {
      "cell_type": "code",
      "source": [
        "num_header"
      ],
      "metadata": {
        "colab": {
          "base_uri": "https://localhost:8080/"
        },
        "id": "q2GtZKdo5frf",
        "outputId": "ddcd64cf-61a9-4d4d-c9e4-6b4eb7367234"
      },
      "execution_count": 474,
      "outputs": [
        {
          "output_type": "execute_result",
          "data": {
            "text/plain": [
              "array(['id', 'loan_amnt', 'funded_amnt', 'int_rate', 'installment', 'total_pymnt'], dtype='<U19')"
            ]
          },
          "metadata": {},
          "execution_count": 474
        }
      ]
    },
    {
      "cell_type": "code",
      "execution_count": 475,
      "metadata": {
        "colab": {
          "base_uri": "https://localhost:8080/"
        },
        "id": "uhptVVGkciFe",
        "outputId": "04e7613d-cbc7-43aa-d790-4b1241724e17"
      },
      "outputs": [
        {
          "output_type": "stream",
          "name": "stderr",
          "text": [
            "<ipython-input-475-eeff3b704aa1>:2: RuntimeWarning: Mean of empty slice\n",
            "  temporary_mean = np.nanmean(raw_data_np, axis = 0)\n"
          ]
        }
      ],
      "source": [
        "temporary_fill = np.nanmax(raw_data_np) + 1\n",
        "temporary_mean = np.nanmean(raw_data_np, axis = 0)"
      ]
    },
    {
      "cell_type": "code",
      "source": [
        "loan_data_num[:,0]"
      ],
      "metadata": {
        "colab": {
          "base_uri": "https://localhost:8080/"
        },
        "id": "en4FlavB7Hx3",
        "outputId": "bc718b13-74c1-42d4-f33f-8d2784fdcc78"
      },
      "execution_count": 472,
      "outputs": [
        {
          "output_type": "execute_result",
          "data": {
            "text/plain": [
              "array([  373332.,   575239.,   707689., ..., 68614880., 68615915., 68616519.])"
            ]
          },
          "metadata": {},
          "execution_count": 472
        }
      ]
    },
    {
      "cell_type": "code",
      "source": [
        "temporary_fill"
      ],
      "metadata": {
        "colab": {
          "base_uri": "https://localhost:8080/"
        },
        "id": "7q75cn3_6zWx",
        "outputId": "fa360de9-4aa2-41f1-b897-ac86a031434e"
      },
      "execution_count": 476,
      "outputs": [
        {
          "output_type": "execute_result",
          "data": {
            "text/plain": [
              "68616520.0"
            ]
          },
          "metadata": {},
          "execution_count": 476
        }
      ]
    },
    {
      "cell_type": "code",
      "source": [
        "np.isin(loan_data_num[:,0],temporary_fill)"
      ],
      "metadata": {
        "colab": {
          "base_uri": "https://localhost:8080/"
        },
        "id": "M_ob_jA25rwY",
        "outputId": "0e78f0e3-80f7-48dc-cab2-d0eff45181d5"
      },
      "execution_count": 477,
      "outputs": [
        {
          "output_type": "execute_result",
          "data": {
            "text/plain": [
              "array([False, False, False, ..., False, False, False])"
            ]
          },
          "metadata": {},
          "execution_count": 477
        }
      ]
    },
    {
      "cell_type": "code",
      "source": [
        "loan_data_num[:,1]"
      ],
      "metadata": {
        "colab": {
          "base_uri": "https://localhost:8080/"
        },
        "id": "8DtFklJs63uw",
        "outputId": "1792f866-995f-4fee-d55e-6ba4142c86d4"
      },
      "execution_count": 478,
      "outputs": [
        {
          "output_type": "execute_result",
          "data": {
            "text/plain": [
              "array([35000., 30000., 15000., ..., 10000.,    nan, 10000.])"
            ]
          },
          "metadata": {},
          "execution_count": 478
        }
      ]
    },
    {
      "cell_type": "markdown",
      "source": [
        "max/min/max/max/max"
      ],
      "metadata": {
        "id": "rWDeA8q_7hy3"
      }
    },
    {
      "cell_type": "code",
      "execution_count": 486,
      "metadata": {
        "scrolled": true,
        "colab": {
          "base_uri": "https://localhost:8080/"
        },
        "id": "p6a7yqqVciFf",
        "outputId": "3638e418-a8cd-4d93-87b1-94e21037fda2"
      },
      "outputs": [
        {
          "output_type": "stream",
          "name": "stderr",
          "text": [
            "<ipython-input-486-f918bd68decf>:1: RuntimeWarning: All-NaN slice encountered\n",
            "  temporary_stats = np.array([np.nanmin(raw_data_np, axis = 0),\n",
            "<ipython-input-486-f918bd68decf>:3: RuntimeWarning: All-NaN slice encountered\n",
            "  np.nanmax(raw_data_np, axis = 0)])\n"
          ]
        }
      ],
      "source": [
        "temporary_stats = np.array([np.nanmin(raw_data_np, axis = 0),\n",
        "                           temporary_mean,\n",
        "                           np.nanmax(raw_data_np, axis = 0)])"
      ]
    },
    {
      "cell_type": "code",
      "source": [
        "columns_strings = np.argwhere(np.isnan(temporary_mean)).squeeze()\n",
        "columns_strings"
      ],
      "metadata": {
        "colab": {
          "base_uri": "https://localhost:8080/"
        },
        "id": "tQn_aDsi-fvv",
        "outputId": "8aaf37f5-ab98-4620-83b2-a2f402feba3f"
      },
      "execution_count": 488,
      "outputs": [
        {
          "output_type": "execute_result",
          "data": {
            "text/plain": [
              "array([ 1,  3,  5,  8,  9, 10, 11, 12])"
            ]
          },
          "metadata": {},
          "execution_count": 488
        }
      ]
    },
    {
      "cell_type": "code",
      "source": [
        "columns_numeric = np.argwhere(np.isnan(temporary_mean) == False).squeeze()\n",
        "columns_numeric"
      ],
      "metadata": {
        "colab": {
          "base_uri": "https://localhost:8080/"
        },
        "id": "F7U3r-wW_3zH",
        "outputId": "e17d5f6b-189c-4aa3-c271-4805b8386f27"
      },
      "execution_count": 489,
      "outputs": [
        {
          "output_type": "execute_result",
          "data": {
            "text/plain": [
              "array([ 0,  2,  4,  6,  7, 13])"
            ]
          },
          "metadata": {},
          "execution_count": 489
        }
      ]
    },
    {
      "cell_type": "code",
      "source": [
        "temporary_stats[:,columns_numeric]"
      ],
      "metadata": {
        "colab": {
          "base_uri": "https://localhost:8080/"
        },
        "id": "mLGfpK0Q9XQH",
        "outputId": "fd1e8aaa-f6b8-40c6-ea17-73d2d3c6a7b7"
      },
      "execution_count": 490,
      "outputs": [
        {
          "output_type": "execute_result",
          "data": {
            "text/plain": [
              "array([[  373332.  ,     1000.  ,     1000.  ,        6.  ,       31.42,        0.  ],\n",
              "       [54015809.19,    15273.46,    15311.04,       16.62,      440.92,     3143.85],\n",
              "       [68616519.  ,    35000.  ,    35000.  ,       28.99,     1372.97,    41913.62]])"
            ]
          },
          "metadata": {},
          "execution_count": 490
        }
      ]
    },
    {
      "cell_type": "code",
      "source": [
        "loan_data_num[:,2] = np.where( loan_data_num[:,2] == temporary_fill,\n",
        "                             temporary_stats[0,columns_numeric[2]],\n",
        "                             loan_data_num[:,2])\n",
        "loan_data_num[:,2]"
      ],
      "metadata": {
        "colab": {
          "base_uri": "https://localhost:8080/"
        },
        "id": "GhAyFGum_8te",
        "outputId": "93cf5b43-81db-4e26-e980-a5ba9923ac17"
      },
      "execution_count": 494,
      "outputs": [
        {
          "output_type": "execute_result",
          "data": {
            "text/plain": [
              "array([35000., 30000., 15000., ..., 10000., 10000., 10000.])"
            ]
          },
          "metadata": {},
          "execution_count": 494
        }
      ]
    },
    {
      "cell_type": "code",
      "source": [
        "loan_data_num[:,3]"
      ],
      "metadata": {
        "colab": {
          "base_uri": "https://localhost:8080/"
        },
        "id": "POfGnwtNCDCx",
        "outputId": "7b7e6fac-3600-40ee-d684-fae6531d941c"
      },
      "execution_count": 497,
      "outputs": [
        {
          "output_type": "execute_result",
          "data": {
            "text/plain": [
              "array([13.33,   nan,   nan, ...,   nan, 16.55,   nan])"
            ]
          },
          "metadata": {},
          "execution_count": 497
        }
      ]
    },
    {
      "cell_type": "code",
      "source": [
        "temporary_stats[0,columns_numeric[3]]"
      ],
      "metadata": {
        "colab": {
          "base_uri": "https://localhost:8080/"
        },
        "id": "8Bfx6UykCnPY",
        "outputId": "2bf7fc03-3881-461e-ba6f-d3465e205092"
      },
      "execution_count": 498,
      "outputs": [
        {
          "output_type": "execute_result",
          "data": {
            "text/plain": [
              "6.0"
            ]
          },
          "metadata": {},
          "execution_count": 498
        }
      ]
    },
    {
      "cell_type": "code",
      "source": [
        "num_header"
      ],
      "metadata": {
        "colab": {
          "base_uri": "https://localhost:8080/"
        },
        "id": "xGuVt-NSDHuX",
        "outputId": "54112226-8c03-4d80-bbe8-0c1277d89a62"
      },
      "execution_count": 499,
      "outputs": [
        {
          "output_type": "execute_result",
          "data": {
            "text/plain": [
              "array(['id', 'loan_amnt', 'funded_amnt', 'int_rate', 'installment', 'total_pymnt'], dtype='<U19')"
            ]
          },
          "metadata": {},
          "execution_count": 499
        }
      ]
    },
    {
      "cell_type": "code",
      "source": [
        "for i in [1,3,4,5]:\n",
        "    loan_data_num[:,i] = np.where(loan_data_num[:,i] == temporary_fill,\n",
        "                                      temporary_stats[2, columns_numeric[i]],\n",
        "                                      loan_data_num[:,i])"
      ],
      "metadata": {
        "id": "5UlPayb8DOIP"
      },
      "execution_count": 511,
      "outputs": []
    },
    {
      "cell_type": "code",
      "source": [
        "loan_data_num"
      ],
      "metadata": {
        "colab": {
          "base_uri": "https://localhost:8080/"
        },
        "id": "JSG2GfnoHKfH",
        "outputId": "b557498a-1741-47bc-8603-5ac90a73a44a"
      },
      "execution_count": 512,
      "outputs": [
        {
          "output_type": "execute_result",
          "data": {
            "text/plain": [
              "array([[48010226.  ,    35000.  ,    35000.  ,       13.33,     1184.86,     9452.96],\n",
              "       [57693261.  ,    30000.  ,    30000.  ,         nan,      938.57,     4679.7 ],\n",
              "       [59432726.  ,    15000.  ,    15000.  ,         nan,      494.86,     1969.83],\n",
              "       ...,\n",
              "       [50415990.  ,    10000.  ,    10000.  ,         nan,         nan,     2185.64],\n",
              "       [46154151.  ,         nan,    10000.  ,       16.55,      354.3 ,     3199.4 ],\n",
              "       [66055249.  ,    10000.  ,    10000.  ,         nan,      309.97,      301.9 ]])"
            ]
          },
          "metadata": {},
          "execution_count": 512
        }
      ]
    },
    {
      "cell_type": "code",
      "source": [
        "raw_data_np"
      ],
      "metadata": {
        "colab": {
          "base_uri": "https://localhost:8080/"
        },
        "id": "daOYltGzHVYG",
        "outputId": "275a983a-9ba8-4ed1-b841-bdab95be0f82"
      },
      "execution_count": 513,
      "outputs": [
        {
          "output_type": "execute_result",
          "data": {
            "text/plain": [
              "array([[48010226.  ,         nan,    35000.  , ...,         nan,         nan,     9452.96],\n",
              "       [57693261.  ,         nan,    30000.  , ...,         nan,         nan,     4679.7 ],\n",
              "       [59432726.  ,         nan,    15000.  , ...,         nan,         nan,     1969.83],\n",
              "       ...,\n",
              "       [50415990.  ,         nan,    10000.  , ...,         nan,         nan,     2185.64],\n",
              "       [46154151.  ,         nan,         nan, ...,         nan,         nan,     3199.4 ],\n",
              "       [66055249.  ,         nan,    10000.  , ...,         nan,         nan,      301.9 ]])"
            ]
          },
          "metadata": {},
          "execution_count": 513
        }
      ]
    },
    {
      "cell_type": "markdown",
      "source": [
        "**currency**"
      ],
      "metadata": {
        "id": "Fn-6hSSrLKjZ"
      }
    },
    {
      "cell_type": "code",
      "source": [
        "eur_usd = np.loadtxt(\"/content/sample_data/EUR-USD.csv\" ,\n",
        "                     delimiter=\",\" , \n",
        "                     dtype = np.str_)"
      ],
      "metadata": {
        "id": "I9rqoP1LJ_iW"
      },
      "execution_count": 515,
      "outputs": []
    },
    {
      "cell_type": "code",
      "source": [
        "eur_usd"
      ],
      "metadata": {
        "colab": {
          "base_uri": "https://localhost:8080/"
        },
        "id": "LhOZn4VNMQKO",
        "outputId": "388d6d07-bc3d-4701-c87d-41873d7512f5"
      },
      "execution_count": 516,
      "outputs": [
        {
          "output_type": "execute_result",
          "data": {
            "text/plain": [
              "array([['Open', 'High', 'Low', 'Close', 'Volume'],\n",
              "       ['1.2098628282546997', '1.2098628282546997', '1.11055588722229', '1.1287955045700073', '0'],\n",
              "       ['1.1287955045700073', '1.1484194993972778', '1.117680549621582', '1.1205360889434814',\n",
              "        '0'],\n",
              "       ['1.119795799255371', '1.1240400075912476', '1.0460032224655151', '1.0830246210098267',\n",
              "        '0'],\n",
              "       ['1.0741022825241089', '1.1247594356536865', '1.0521597862243652', '1.1114321947097778',\n",
              "        '0'],\n",
              "       ['1.1215037107467651', '1.145304799079895', '1.0821995735168457', '1.0960345268249512',\n",
              "        '0'],\n",
              "       ['1.095902442932129', '1.1428401470184326', '1.0888904333114624', '1.122296690940857', '0'],\n",
              "       ['1.1134989261627197', '1.1219995021820068', '1.081270456314087', '1.0939244031906128',\n",
              "        '0'],\n",
              "       ['1.0969001054763794', '1.1705996990203857', '1.0850305557250977', '1.1340054273605347',\n",
              "        '0'],\n",
              "       ['1.1225990056991577', '1.1460003852844238', '1.1089695692062378', '1.1255937814712524',\n",
              "        '0'],\n",
              "       ['1.1171561479568481', '1.1494200229644775', '1.0910003185272217', '1.100897192955017',\n",
              "        '0'],\n",
              "       ['1.1024993658065796', '1.1060001850128174', '1.056400179862976', '1.0583018064498901',\n",
              "        '0'],\n",
              "       ['1.0572947263717651', '1.107000470161438', '1.0541995763778687', '1.093398094177246', '0']],\n",
              "      dtype='<U18')"
            ]
          },
          "metadata": {},
          "execution_count": 516
        }
      ]
    },
    {
      "cell_type": "code",
      "source": [
        "eur_usd = np.genfromtxt(\"/content/sample_data/EUR-USD.csv\" ,\n",
        "                     delimiter=\",\" , \n",
        "                     skip_header = 1,\n",
        "                     autostrip = True,\n",
        "                     usecols = 3)\n",
        "eur_usd"
      ],
      "metadata": {
        "colab": {
          "base_uri": "https://localhost:8080/"
        },
        "id": "CqaEpqO2Mefd",
        "outputId": "d05d35d8-b3be-4512-c0ed-fdff44ea961c"
      },
      "execution_count": 519,
      "outputs": [
        {
          "output_type": "execute_result",
          "data": {
            "text/plain": [
              "array([1.13, 1.12, 1.08, 1.11, 1.1 , 1.12, 1.09, 1.13, 1.13, 1.1 , 1.06, 1.09])"
            ]
          },
          "metadata": {},
          "execution_count": 519
        }
      ]
    },
    {
      "cell_type": "code",
      "source": [
        "loan_data_string[:,0]"
      ],
      "metadata": {
        "colab": {
          "base_uri": "https://localhost:8080/"
        },
        "id": "y5TyxXTOM-x-",
        "outputId": "40818e4b-2819-4e97-b441-57d82ec4d7f8"
      },
      "execution_count": 520,
      "outputs": [
        {
          "output_type": "execute_result",
          "data": {
            "text/plain": [
              "array(['9', '0', '12', ..., '7', '1', '3'], dtype=object)"
            ]
          },
          "metadata": {},
          "execution_count": 520
        }
      ]
    },
    {
      "cell_type": "code",
      "execution_count": 550,
      "metadata": {
        "id": "Q1YUiGOdciGL",
        "colab": {
          "base_uri": "https://localhost:8080/"
        },
        "outputId": "6767d730-1f0b-4bf4-ea19-e88adbfc8528"
      },
      "outputs": [
        {
          "output_type": "stream",
          "name": "stderr",
          "text": [
            "<ipython-input-550-0e449ff54337>:2: DeprecationWarning: `np.int` is a deprecated alias for the builtin `int`. To silence this warning, use `int` by itself. Doing this will not modify any behavior and is safe. When replacing `np.int`, you may wish to use e.g. `np.int64` or `np.int32` to specify the precision. If you wish to review your current use, check the release note link for additional information.\n",
            "Deprecated in NumPy 1.20; for more details and guidance: https://numpy.org/devdocs/release/1.20.0-notes.html#deprecations\n",
            "  exchange_rate = exchange_rate.astype(np.int)\n"
          ]
        }
      ],
      "source": [
        "exchange_rate = loan_data_string[:,0]\n",
        "exchange_rate = exchange_rate.astype(np.int)\n"
      ]
    },
    {
      "cell_type": "code",
      "source": [
        "exchange_rate"
      ],
      "metadata": {
        "colab": {
          "base_uri": "https://localhost:8080/"
        },
        "id": "yD2Xj_HpWpZd",
        "outputId": "ff97c4cd-b915-42fa-8412-99b059fa8657"
      },
      "execution_count": 551,
      "outputs": [
        {
          "output_type": "execute_result",
          "data": {
            "text/plain": [
              "array([ 9,  0, 12, ...,  7,  1,  3])"
            ]
          },
          "metadata": {},
          "execution_count": 551
        }
      ]
    },
    {
      "cell_type": "code",
      "source": [
        "for i in range(1,13):\n",
        "  exchange_rate = np.where(exchange_rate == i,\n",
        "                           eur_usd[i-1],\n",
        "                           exchange_rate)\n",
        "\n",
        "\n",
        "exchange_rate = np.where(exchange_rate == 0,\n",
        "                         np.mean(eur_usd),\n",
        "                         exchange_rate)      "
      ],
      "metadata": {
        "id": "0K9YTuEtP-Dy"
      },
      "execution_count": 552,
      "outputs": []
    },
    {
      "cell_type": "code",
      "source": [
        "exchange_rate"
      ],
      "metadata": {
        "colab": {
          "base_uri": "https://localhost:8080/"
        },
        "id": "XLL94dM9S6JV",
        "outputId": "71751c89-53a2-45bd-be33-ba9f46b84d52"
      },
      "execution_count": 553,
      "outputs": [
        {
          "output_type": "execute_result",
          "data": {
            "text/plain": [
              "array([1.13, 1.11, 1.09, ..., 1.09, 1.13, 1.08])"
            ]
          },
          "metadata": {},
          "execution_count": 553
        }
      ]
    },
    {
      "cell_type": "code",
      "source": [
        "exchange_rate.shape"
      ],
      "metadata": {
        "colab": {
          "base_uri": "https://localhost:8080/"
        },
        "id": "1aRcBnNRPYh9",
        "outputId": "f7d00a1e-ee45-4e4a-e802-05b774c709ac"
      },
      "execution_count": 554,
      "outputs": [
        {
          "output_type": "execute_result",
          "data": {
            "text/plain": [
              "(10000,)"
            ]
          },
          "metadata": {},
          "execution_count": 554
        }
      ]
    },
    {
      "cell_type": "code",
      "source": [
        "loan_data_num.shape"
      ],
      "metadata": {
        "colab": {
          "base_uri": "https://localhost:8080/"
        },
        "id": "o5ZOOJyBXoqn",
        "outputId": "782d8576-a839-4461-cf00-17b66f1635a9"
      },
      "execution_count": 555,
      "outputs": [
        {
          "output_type": "execute_result",
          "data": {
            "text/plain": [
              "(10000, 6)"
            ]
          },
          "metadata": {},
          "execution_count": 555
        }
      ]
    },
    {
      "cell_type": "code",
      "source": [
        "exchange_rate = np.reshape(exchange_rate,(10000,1))"
      ],
      "metadata": {
        "id": "t8mwQxiWXu0m"
      },
      "execution_count": 556,
      "outputs": []
    },
    {
      "cell_type": "code",
      "source": [
        "loan_data_num = np.hstack([loan_data_num,exchange_rate])"
      ],
      "metadata": {
        "id": "QZv-_Yh8YBzM"
      },
      "execution_count": 559,
      "outputs": []
    },
    {
      "cell_type": "code",
      "source": [
        "num_header"
      ],
      "metadata": {
        "colab": {
          "base_uri": "https://localhost:8080/"
        },
        "id": "HBRBpb9qZLTc",
        "outputId": "a7fdfe72-df88-4aa4-f139-a3d0d4fe475d"
      },
      "execution_count": 563,
      "outputs": [
        {
          "output_type": "execute_result",
          "data": {
            "text/plain": [
              "array(['id', 'loan_amnt', 'funded_amnt', 'int_rate', 'installment', 'total_pymnt'], dtype='<U19')"
            ]
          },
          "metadata": {},
          "execution_count": 563
        }
      ]
    },
    {
      "cell_type": "code",
      "source": [
        "num_header = np.concatenate((num_header,np.array(['exchange_rate'])))\n",
        "num_header"
      ],
      "metadata": {
        "colab": {
          "base_uri": "https://localhost:8080/"
        },
        "id": "x_XOcj5LYNia",
        "outputId": "67341607-2bed-4c29-a528-4a027c9cfa47"
      },
      "execution_count": 566,
      "outputs": [
        {
          "output_type": "execute_result",
          "data": {
            "text/plain": [
              "array(['id', 'loan_amnt', 'funded_amnt', 'int_rate', 'installment', 'total_pymnt', 'exchange_rate'],\n",
              "      dtype='<U19')"
            ]
          },
          "metadata": {},
          "execution_count": 566
        }
      ]
    },
    {
      "cell_type": "code",
      "source": [
        "cols_dollar = np.array([1,2,4,5])"
      ],
      "metadata": {
        "id": "JbHgpGJ-Ysik"
      },
      "execution_count": 567,
      "outputs": []
    },
    {
      "cell_type": "code",
      "source": [
        "loan_data_num[:,cols_dollar]"
      ],
      "metadata": {
        "colab": {
          "base_uri": "https://localhost:8080/"
        },
        "id": "XMNzJLgRaXpl",
        "outputId": "b4cbec45-ea22-4898-d06d-4caabacebe4e"
      },
      "execution_count": 568,
      "outputs": [
        {
          "output_type": "execute_result",
          "data": {
            "text/plain": [
              "array([[35000.  , 35000.  ,  1184.86,  9452.96],\n",
              "       [30000.  , 30000.  ,   938.57,  4679.7 ],\n",
              "       [15000.  , 15000.  ,   494.86,  1969.83],\n",
              "       ...,\n",
              "       [10000.  , 10000.  ,      nan,  2185.64],\n",
              "       [     nan, 10000.  ,   354.3 ,  3199.4 ],\n",
              "       [10000.  , 10000.  ,   309.97,   301.9 ]])"
            ]
          },
          "metadata": {},
          "execution_count": 568
        }
      ]
    },
    {
      "cell_type": "code",
      "source": [
        "loan_data_num[:,6]"
      ],
      "metadata": {
        "colab": {
          "base_uri": "https://localhost:8080/"
        },
        "id": "mdhzFa8BagHN",
        "outputId": "1a11c6d3-cc86-4550-fa42-815fb801f292"
      },
      "execution_count": 569,
      "outputs": [
        {
          "output_type": "execute_result",
          "data": {
            "text/plain": [
              "array([1.13, 1.11, 1.09, ..., 1.09, 1.13, 1.08])"
            ]
          },
          "metadata": {},
          "execution_count": 569
        }
      ]
    },
    {
      "cell_type": "code",
      "source": [
        "for i in cols_dollar:\n",
        "    loan_data_num = np.hstack((loan_data_num, np.reshape(loan_data_num[:,i] / loan_data_num[:,6], (10000,1))))"
      ],
      "metadata": {
        "id": "6VwObvdsa1Ks"
      },
      "execution_count": 570,
      "outputs": []
    },
    {
      "cell_type": "code",
      "source": [
        "loan_data_num"
      ],
      "metadata": {
        "colab": {
          "base_uri": "https://localhost:8080/"
        },
        "id": "-_Ouq1WabY0U",
        "outputId": "031b593d-3738-499c-a6b7-e03964653c13"
      },
      "execution_count": 571,
      "outputs": [
        {
          "output_type": "execute_result",
          "data": {
            "text/plain": [
              "array([[48010226.  ,    35000.  ,    35000.  , ...,    31094.7 ,     1052.65,     8398.2 ],\n",
              "       [57693261.  ,    30000.  ,    30000.  , ...,    27132.46,      848.86,     4232.39],\n",
              "       [59432726.  ,    15000.  ,    15000.  , ...,    13718.7 ,      452.59,     1801.57],\n",
              "       ...,\n",
              "       [50415990.  ,    10000.  ,    10000.  , ...,     9141.4 ,         nan,     1997.98],\n",
              "       [46154151.  ,         nan,    10000.  , ...,     8859.  ,      313.87,     2834.35],\n",
              "       [66055249.  ,    10000.  ,    10000.  , ...,     9233.4 ,      286.21,      278.76]])"
            ]
          },
          "metadata": {},
          "execution_count": 571
        }
      ]
    },
    {
      "cell_type": "code",
      "source": [
        "header_additional = np.array([column_name + '_EUR' for column_name in num_header[cols_dollar]])"
      ],
      "metadata": {
        "id": "krgTaB-zbZ6G"
      },
      "execution_count": 575,
      "outputs": []
    },
    {
      "cell_type": "code",
      "source": [
        "header_additional"
      ],
      "metadata": {
        "colab": {
          "base_uri": "https://localhost:8080/"
        },
        "id": "Frwl_JFYgJYX",
        "outputId": "31f31995-9d6b-41af-c639-f47598cbbee6"
      },
      "execution_count": 576,
      "outputs": [
        {
          "output_type": "execute_result",
          "data": {
            "text/plain": [
              "array(['loan_amnt_EUR', 'funded_amnt_EUR', 'installment_EUR', 'total_pymnt_EUR'], dtype='<U15')"
            ]
          },
          "metadata": {},
          "execution_count": 576
        }
      ]
    },
    {
      "cell_type": "code",
      "source": [
        "num_header = np.concatenate((num_header,header_additional))"
      ],
      "metadata": {
        "id": "r8ZAkm68hV6N"
      },
      "execution_count": 579,
      "outputs": []
    },
    {
      "cell_type": "code",
      "source": [
        "num_header"
      ],
      "metadata": {
        "colab": {
          "base_uri": "https://localhost:8080/"
        },
        "id": "5B-UIquuhVv5",
        "outputId": "9a1dfd21-8e1b-4341-e078-d60d9cc2629f"
      },
      "execution_count": 580,
      "outputs": [
        {
          "output_type": "execute_result",
          "data": {
            "text/plain": [
              "array(['id', 'loan_amnt', 'funded_amnt', 'int_rate', 'installment', 'total_pymnt', 'exchange_rate',\n",
              "       'loan_amnt_EUR', 'funded_amnt_EUR', 'installment_EUR', 'total_pymnt_EUR'], dtype='<U19')"
            ]
          },
          "metadata": {},
          "execution_count": 580
        }
      ]
    },
    {
      "cell_type": "code",
      "source": [
        "num_header[cols_dollar] = np.array([column_name + '_USD' for column_name in num_header[cols_dollar]])"
      ],
      "metadata": {
        "id": "7HZsUAJGhVlG"
      },
      "execution_count": 582,
      "outputs": []
    },
    {
      "cell_type": "code",
      "source": [
        "num_header"
      ],
      "metadata": {
        "colab": {
          "base_uri": "https://localhost:8080/"
        },
        "id": "EywN2XHbh7ak",
        "outputId": "92afd771-fd68-4745-cfd0-74b90154f5f6"
      },
      "execution_count": 583,
      "outputs": [
        {
          "output_type": "execute_result",
          "data": {
            "text/plain": [
              "array(['id', 'loan_amnt_USD', 'funded_amnt_USD', 'int_rate', 'installment_USD', 'total_pymnt_USD',\n",
              "       'exchange_rate', 'loan_amnt_EUR', 'funded_amnt_EUR', 'installment_EUR', 'total_pymnt_EUR'],\n",
              "      dtype='<U19')"
            ]
          },
          "metadata": {},
          "execution_count": 583
        }
      ]
    },
    {
      "cell_type": "code",
      "source": [
        "loan_data_num"
      ],
      "metadata": {
        "colab": {
          "base_uri": "https://localhost:8080/"
        },
        "id": "WZnLMtYOieXZ",
        "outputId": "a136e808-85ea-43f2-bec1-0b46435f7b79"
      },
      "execution_count": 584,
      "outputs": [
        {
          "output_type": "execute_result",
          "data": {
            "text/plain": [
              "array([[48010226.  ,    35000.  ,    35000.  , ...,    31094.7 ,     1052.65,     8398.2 ],\n",
              "       [57693261.  ,    30000.  ,    30000.  , ...,    27132.46,      848.86,     4232.39],\n",
              "       [59432726.  ,    15000.  ,    15000.  , ...,    13718.7 ,      452.59,     1801.57],\n",
              "       ...,\n",
              "       [50415990.  ,    10000.  ,    10000.  , ...,     9141.4 ,         nan,     1997.98],\n",
              "       [46154151.  ,         nan,    10000.  , ...,     8859.  ,      313.87,     2834.35],\n",
              "       [66055249.  ,    10000.  ,    10000.  , ...,     9233.4 ,      286.21,      278.76]])"
            ]
          },
          "metadata": {},
          "execution_count": 584
        }
      ]
    },
    {
      "cell_type": "code",
      "source": [
        "columns_index = [0,1,7,2,8,3,4,9,5,10,6]"
      ],
      "metadata": {
        "id": "j0IBT9qJl0sz"
      },
      "execution_count": 587,
      "outputs": []
    },
    {
      "cell_type": "code",
      "source": [
        "num_header = num_header[columns_index]"
      ],
      "metadata": {
        "id": "BUtOda-4l66j"
      },
      "execution_count": 588,
      "outputs": []
    },
    {
      "cell_type": "code",
      "source": [
        "num_header"
      ],
      "metadata": {
        "colab": {
          "base_uri": "https://localhost:8080/"
        },
        "id": "ys5vO3qMng07",
        "outputId": "2f35a22a-739d-4982-c371-a740403947ae"
      },
      "execution_count": 589,
      "outputs": [
        {
          "output_type": "execute_result",
          "data": {
            "text/plain": [
              "array(['id', 'loan_amnt_USD', 'loan_amnt_EUR', 'funded_amnt_USD', 'funded_amnt_EUR', 'int_rate',\n",
              "       'installment_USD', 'installment_EUR', 'total_pymnt_USD', 'total_pymnt_EUR', 'exchange_rate'],\n",
              "      dtype='<U19')"
            ]
          },
          "metadata": {},
          "execution_count": 589
        }
      ]
    },
    {
      "cell_type": "code",
      "source": [
        "loan_data_num[:,5] = loan_data_num[:,5]/100"
      ],
      "metadata": {
        "id": "AgKrw-6QnpHv"
      },
      "execution_count": 591,
      "outputs": []
    },
    {
      "cell_type": "code",
      "source": [
        "checkpoint_numeric = checkpoint(\"Checkpoint-Numeric\", num_header, loan_data_num)"
      ],
      "metadata": {
        "id": "u6V_tqIZojUL"
      },
      "execution_count": 592,
      "outputs": []
    },
    {
      "cell_type": "code",
      "source": [
        "checkpoint_numeric['header'], checkpoint_numeric['data']"
      ],
      "metadata": {
        "colab": {
          "base_uri": "https://localhost:8080/"
        },
        "id": "n99AYQgapA7b",
        "outputId": "9dd628fa-f259-4c50-eb4e-634a5b644a25"
      },
      "execution_count": 593,
      "outputs": [
        {
          "output_type": "execute_result",
          "data": {
            "text/plain": [
              "(array(['id', 'loan_amnt_USD', 'loan_amnt_EUR', 'funded_amnt_USD', 'funded_amnt_EUR', 'int_rate',\n",
              "        'installment_USD', 'installment_EUR', 'total_pymnt_USD', 'total_pymnt_EUR', 'exchange_rate'],\n",
              "       dtype='<U19'),\n",
              " array([[48010226.  ,    35000.  ,    35000.  , ...,    31094.7 ,     1052.65,     8398.2 ],\n",
              "        [57693261.  ,    30000.  ,    30000.  , ...,    27132.46,      848.86,     4232.39],\n",
              "        [59432726.  ,    15000.  ,    15000.  , ...,    13718.7 ,      452.59,     1801.57],\n",
              "        ...,\n",
              "        [50415990.  ,    10000.  ,    10000.  , ...,     9141.4 ,         nan,     1997.98],\n",
              "        [46154151.  ,         nan,    10000.  , ...,     8859.  ,      313.87,     2834.35],\n",
              "        [66055249.  ,    10000.  ,    10000.  , ...,     9233.4 ,      286.21,      278.76]]))"
            ]
          },
          "metadata": {},
          "execution_count": 593
        }
      ]
    },
    {
      "cell_type": "code",
      "source": [
        "loan_data_num.shape"
      ],
      "metadata": {
        "colab": {
          "base_uri": "https://localhost:8080/"
        },
        "id": "sVhPUr75pEwT",
        "outputId": "a3606b3f-59ff-4098-d08a-1e24a5e87bd0"
      },
      "execution_count": 598,
      "outputs": [
        {
          "output_type": "execute_result",
          "data": {
            "text/plain": [
              "(10000, 11)"
            ]
          },
          "metadata": {},
          "execution_count": 598
        }
      ]
    },
    {
      "cell_type": "code",
      "source": [
        "loan_data_string.shape"
      ],
      "metadata": {
        "colab": {
          "base_uri": "https://localhost:8080/"
        },
        "id": "hDo6zpDypVeT",
        "outputId": "7c19b11d-9995-48e7-c94e-dcb1f1d5b61b"
      },
      "execution_count": 599,
      "outputs": [
        {
          "output_type": "execute_result",
          "data": {
            "text/plain": [
              "(10000, 6)"
            ]
          },
          "metadata": {},
          "execution_count": 599
        }
      ]
    },
    {
      "cell_type": "code",
      "source": [
        "all_loan_data = np.hstack((loan_data_num,loan_data_string))"
      ],
      "metadata": {
        "id": "b553X25epy0b"
      },
      "execution_count": 608,
      "outputs": []
    },
    {
      "cell_type": "code",
      "source": [
        "all_header = np.hstack((num_header,str_header))"
      ],
      "metadata": {
        "id": "yZ6opq1XqBX7"
      },
      "execution_count": 607,
      "outputs": []
    },
    {
      "cell_type": "code",
      "source": [
        "all_loan_data"
      ],
      "metadata": {
        "colab": {
          "base_uri": "https://localhost:8080/"
        },
        "id": "fYN6NH0GqvRE",
        "outputId": "ee1cf534-d766-44ef-da4f-8f34316f1423"
      },
      "execution_count": 611,
      "outputs": [
        {
          "output_type": "execute_result",
          "data": {
            "text/plain": [
              "array([[48010226.0, 35000.0, 35000.0, ..., '13', '1', '1'],\n",
              "       [57693261.0, 30000.0, 30000.0, ..., '5', '1', '4'],\n",
              "       [59432726.0, 15000.0, 15000.0, ..., '10', '1', '4'],\n",
              "       ...,\n",
              "       [50415990.0, 10000.0, 10000.0, ..., '5', '1', '1'],\n",
              "       [46154151.0, nan, 10000.0, ..., '17', '1', '3'],\n",
              "       [66055249.0, 10000.0, 10000.0, ..., '4', '0', '3']], dtype=object)"
            ]
          },
          "metadata": {},
          "execution_count": 611
        }
      ]
    },
    {
      "cell_type": "code",
      "source": [
        "all_header"
      ],
      "metadata": {
        "colab": {
          "base_uri": "https://localhost:8080/"
        },
        "id": "OtMOPQ_3rLFU",
        "outputId": "29420672-c5c8-4240-f9cb-691872acff69"
      },
      "execution_count": 612,
      "outputs": [
        {
          "output_type": "execute_result",
          "data": {
            "text/plain": [
              "array(['id', 'loan_amnt_USD', 'loan_amnt_EUR', 'funded_amnt_USD', 'funded_amnt_EUR', 'int_rate',\n",
              "       'installment_USD', 'installment_EUR', 'total_pymnt_USD', 'total_pymnt_EUR', 'exchange_rate',\n",
              "       'issue_date', 'loan_status', 'term_months', 'sub_grade', 'verification_status',\n",
              "       'addr_state'], dtype='<U19')"
            ]
          },
          "metadata": {},
          "execution_count": 612
        }
      ]
    },
    {
      "cell_type": "code",
      "source": [
        "type(all_loan_data)"
      ],
      "metadata": {
        "colab": {
          "base_uri": "https://localhost:8080/"
        },
        "id": "Fz5KAR4jrS7T",
        "outputId": "edaf6b67-1df9-4c3d-9bed-aef185f43bd8"
      },
      "execution_count": 613,
      "outputs": [
        {
          "output_type": "execute_result",
          "data": {
            "text/plain": [
              "numpy.ndarray"
            ]
          },
          "metadata": {},
          "execution_count": 613
        }
      ]
    },
    {
      "cell_type": "code",
      "source": [
        "all_loan_data.shape"
      ],
      "metadata": {
        "colab": {
          "base_uri": "https://localhost:8080/"
        },
        "id": "CU89La3Vrhq9",
        "outputId": "ba4710b9-99d2-4098-e195-b056d88f8f8b"
      },
      "execution_count": 614,
      "outputs": [
        {
          "output_type": "execute_result",
          "data": {
            "text/plain": [
              "(10000, 17)"
            ]
          },
          "metadata": {},
          "execution_count": 614
        }
      ]
    },
    {
      "cell_type": "code",
      "source": [
        "type(all_header)"
      ],
      "metadata": {
        "colab": {
          "base_uri": "https://localhost:8080/"
        },
        "id": "IBAFPkformTj",
        "outputId": "56c32e66-9a17-4cef-de9f-c0c7b78e27d3"
      },
      "execution_count": 615,
      "outputs": [
        {
          "output_type": "execute_result",
          "data": {
            "text/plain": [
              "numpy.ndarray"
            ]
          },
          "metadata": {},
          "execution_count": 615
        }
      ]
    },
    {
      "cell_type": "code",
      "source": [
        "all_header.shape"
      ],
      "metadata": {
        "colab": {
          "base_uri": "https://localhost:8080/"
        },
        "id": "FL2x6kb6rqYL",
        "outputId": "129ea4ef-50b6-4753-ce4f-552d3f9a35c1"
      },
      "execution_count": 616,
      "outputs": [
        {
          "output_type": "execute_result",
          "data": {
            "text/plain": [
              "(17,)"
            ]
          },
          "metadata": {},
          "execution_count": 616
        }
      ]
    },
    {
      "cell_type": "code",
      "source": [
        "all_loan_data = all_loan_data[np.argsort(all_loan_data[:,0])]"
      ],
      "metadata": {
        "id": "DR-0KAXvrvpu"
      },
      "execution_count": 617,
      "outputs": []
    },
    {
      "cell_type": "code",
      "source": [
        "all_loan_data"
      ],
      "metadata": {
        "colab": {
          "base_uri": "https://localhost:8080/"
        },
        "id": "k9Whxh0ZsRhU",
        "outputId": "a56ee6d3-e1e6-4941-b5b3-a6f0aa71ffc9"
      },
      "execution_count": 618,
      "outputs": [
        {
          "output_type": "execute_result",
          "data": {
            "text/plain": [
              "array([[373332.0, 9950.0, nan, ..., '21', '0', '1'],\n",
              "       [575239.0, 12000.0, 12000.0, ..., '25', '1', '2'],\n",
              "       [707689.0, 10000.0, 10000.0, ..., '13', '1', '0'],\n",
              "       ...,\n",
              "       [68614880.0, 5600.0, 5600.0, ..., '8', '1', '1'],\n",
              "       [68615915.0, 4000.0, 4000.0, ..., '10', '1', '2'],\n",
              "       [68616519.0, 21600.0, 21600.0, ..., '3', '0', '2']], dtype=object)"
            ]
          },
          "metadata": {},
          "execution_count": 618
        }
      ]
    },
    {
      "cell_type": "code",
      "source": [
        "loan_data = np.vstack((all_header, all_loan_data))"
      ],
      "metadata": {
        "id": "067Vo4visTNa"
      },
      "execution_count": 619,
      "outputs": []
    },
    {
      "cell_type": "code",
      "source": [
        "loan_data"
      ],
      "metadata": {
        "colab": {
          "base_uri": "https://localhost:8080/"
        },
        "id": "aJJyABr_tDQ2",
        "outputId": "fc734a5b-c47d-4055-caf3-b2482e116236"
      },
      "execution_count": 620,
      "outputs": [
        {
          "output_type": "execute_result",
          "data": {
            "text/plain": [
              "array([['id', 'loan_amnt_USD', 'loan_amnt_EUR', ..., 'sub_grade', 'verification_status',\n",
              "        'addr_state'],\n",
              "       [373332.0, 9950.0, nan, ..., '21', '0', '1'],\n",
              "       [575239.0, 12000.0, 12000.0, ..., '25', '1', '2'],\n",
              "       ...,\n",
              "       [68614880.0, 5600.0, 5600.0, ..., '8', '1', '1'],\n",
              "       [68615915.0, 4000.0, 4000.0, ..., '10', '1', '2'],\n",
              "       [68616519.0, 21600.0, 21600.0, ..., '3', '0', '2']], dtype=object)"
            ]
          },
          "metadata": {},
          "execution_count": 620
        }
      ]
    },
    {
      "cell_type": "code",
      "source": [
        "np.savetxt(\"loan-data-preprocessed.csv\", \n",
        "           loan_data, \n",
        "           fmt = '%s',\n",
        "           delimiter = ',')"
      ],
      "metadata": {
        "id": "uSNiv33xtF6j"
      },
      "execution_count": 621,
      "outputs": []
    },
    {
      "cell_type": "code",
      "source": [],
      "metadata": {
        "id": "IaWAfgiktJ-6"
      },
      "execution_count": null,
      "outputs": []
    }
  ]
}