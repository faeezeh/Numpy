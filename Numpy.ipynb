{
  "nbformat": 4,
  "nbformat_minor": 0,
  "metadata": {
    "colab": {
      "provenance": [],
      "authorship_tag": "ABX9TyNvWCq+wyxzCNusfy7t/KlL",
      "include_colab_link": true
    },
    "kernelspec": {
      "name": "python3",
      "display_name": "Python 3"
    },
    "language_info": {
      "name": "python"
    }
  },
  "cells": [
    {
      "cell_type": "markdown",
      "metadata": {
        "id": "view-in-github",
        "colab_type": "text"
      },
      "source": [
        "<a href=\"https://colab.research.google.com/github/faeezeh/Numpy/blob/main/Numpy.ipynb\" target=\"_parent\"><img src=\"https://colab.research.google.com/assets/colab-badge.svg\" alt=\"Open In Colab\"/></a>"
      ]
    },
    {
      "cell_type": "markdown",
      "source": [
        "Let's Go \n",
        "\n",
        "useful link \n",
        "https://numpy.org/doc/stable/\n",
        "\n",
        "\n",
        "\n",
        "\n",
        "*   shift+tab -----> to see documentation\n",
        "*   shift+tab+tab -----> to see more details\n",
        "\n",
        "\n"
      ],
      "metadata": {
        "id": "toR7ACtNvlz7"
      }
    },
    {
      "cell_type": "code",
      "source": [
        "pip install numpy "
      ],
      "metadata": {
        "colab": {
          "base_uri": "https://localhost:8080/"
        },
        "id": "2JptyckfvrBM",
        "outputId": "9b9e2215-22d7-4860-ecb5-ce7c1425fc3c"
      },
      "execution_count": null,
      "outputs": [
        {
          "output_type": "stream",
          "name": "stdout",
          "text": [
            "Looking in indexes: https://pypi.org/simple, https://us-python.pkg.dev/colab-wheels/public/simple/\n",
            "Requirement already satisfied: numpy in /usr/local/lib/python3.10/dist-packages (1.22.4)\n"
          ]
        }
      ]
    },
    {
      "cell_type": "code",
      "source": [
        "pip install numpy --upgarde"
      ],
      "metadata": {
        "colab": {
          "base_uri": "https://localhost:8080/"
        },
        "id": "jfL41nOY0qR-",
        "outputId": "a759716f-405c-4ab1-b840-f2ea73b59bbe"
      },
      "execution_count": null,
      "outputs": [
        {
          "output_type": "stream",
          "name": "stdout",
          "text": [
            "\n",
            "Usage:   \n",
            "  pip3 install [options] <requirement specifier> [package-index-options] ...\n",
            "  pip3 install [options] -r <requirements file> [package-index-options] ...\n",
            "  pip3 install [options] [-e] <vcs project url> ...\n",
            "  pip3 install [options] [-e] <local project path> ...\n",
            "  pip3 install [options] <archive url/path> ...\n",
            "\n",
            "no such option: --upgarde\n"
          ]
        }
      ]
    },
    {
      "cell_type": "code",
      "source": [
        "import numpy as np"
      ],
      "metadata": {
        "id": "SJwYPRZ903US"
      },
      "execution_count": null,
      "outputs": []
    },
    {
      "cell_type": "markdown",
      "source": [
        "# introduction to Numpy"
      ],
      "metadata": {
        "id": "pSh3ZaDOzjIE"
      }
    },
    {
      "cell_type": "markdown",
      "source": [
        "In NumPy, an ndarray (short for \"n-dimensional array\") is a multidimensional container of items of the same type and size. It provides a fast, efficient way of storing and manipulating large arrays of homogeneous data (i.e., data of the same type)."
      ],
      "metadata": {
        "id": "ddX9z3Zx1k5s"
      }
    },
    {
      "cell_type": "markdown",
      "source": [
        "\n",
        "\n",
        "*   scalar (0_D array)\n",
        "*   vector (1_D array)\n",
        "*   matrix (2-D array)\n",
        "\n"
      ],
      "metadata": {
        "id": "BJl4QswH25uC"
      }
    },
    {
      "cell_type": "code",
      "source": [
        "array_a = np.array([1])\n",
        "print(\"0_D array :\",array_a)\n",
        "\n",
        "array_b = np.array([1,2,3])\n",
        "print(\"1_D array :\",array_b)\n",
        "\n",
        "array_c = np.array([[1,2,3],[4,5,6]])\n",
        "print(\"2_D array :\",array_c)\n"
      ],
      "metadata": {
        "colab": {
          "base_uri": "https://localhost:8080/"
        },
        "id": "xiTtuFkG1kNc",
        "outputId": "3503b0ec-9878-4b35-8531-11c35f45d936"
      },
      "execution_count": null,
      "outputs": [
        {
          "output_type": "stream",
          "name": "stdout",
          "text": [
            "0_D array : [1]\n",
            "1_D array : [1 2 3]\n",
            "2_D array : [[1 2 3]\n",
            " [4 5 6]]\n"
          ]
        }
      ]
    },
    {
      "cell_type": "code",
      "source": [
        "array_a.shape"
      ],
      "metadata": {
        "colab": {
          "base_uri": "https://localhost:8080/"
        },
        "id": "vXNe-71uASx0",
        "outputId": "294f7412-8992-4ba1-e1ee-ae44413f7bbe"
      },
      "execution_count": null,
      "outputs": [
        {
          "output_type": "execute_result",
          "data": {
            "text/plain": [
              "(1,)"
            ]
          },
          "metadata": {},
          "execution_count": 19
        }
      ]
    },
    {
      "cell_type": "code",
      "source": [
        "type(array_a)"
      ],
      "metadata": {
        "colab": {
          "base_uri": "https://localhost:8080/"
        },
        "id": "71Zg14wY-qE9",
        "outputId": "ef6fe286-a48a-4f6c-cc4c-99da8c704910"
      },
      "execution_count": null,
      "outputs": [
        {
          "output_type": "execute_result",
          "data": {
            "text/plain": [
              "numpy.ndarray"
            ]
          },
          "metadata": {},
          "execution_count": 15
        }
      ]
    },
    {
      "cell_type": "code",
      "source": [
        "array_b.shape"
      ],
      "metadata": {
        "colab": {
          "base_uri": "https://localhost:8080/"
        },
        "id": "n-m8zQRY-Y16",
        "outputId": "e7329cb9-3a56-4abc-9f44-36fe7bed8bf1"
      },
      "execution_count": null,
      "outputs": [
        {
          "output_type": "execute_result",
          "data": {
            "text/plain": [
              "(3,)"
            ]
          },
          "metadata": {},
          "execution_count": 13
        }
      ]
    },
    {
      "cell_type": "code",
      "source": [
        "array_c.shape"
      ],
      "metadata": {
        "colab": {
          "base_uri": "https://localhost:8080/"
        },
        "id": "cLatchMi-fhq",
        "outputId": "bdbef169-063c-4764-fc69-bb8a27287f45"
      },
      "execution_count": null,
      "outputs": [
        {
          "output_type": "execute_result",
          "data": {
            "text/plain": [
              "(2, 3)"
            ]
          },
          "metadata": {},
          "execution_count": 14
        }
      ]
    },
    {
      "cell_type": "code",
      "source": [
        "array_d = array_a + array_b + array_c"
      ],
      "metadata": {
        "id": "8w10y2k_4RPN"
      },
      "execution_count": null,
      "outputs": []
    },
    {
      "cell_type": "code",
      "source": [
        "array_d"
      ],
      "metadata": {
        "colab": {
          "base_uri": "https://localhost:8080/"
        },
        "id": "H7ukZOkw9hpc",
        "outputId": "2168e72b-3d97-453f-f05b-f63956fc5bd6"
      },
      "execution_count": null,
      "outputs": [
        {
          "output_type": "execute_result",
          "data": {
            "text/plain": [
              "array([[ 3,  5,  7],\n",
              "       [ 6,  8, 10]])"
            ]
          },
          "metadata": {},
          "execution_count": 10
        }
      ]
    },
    {
      "cell_type": "markdown",
      "source": [
        "to see the number of rows"
      ],
      "metadata": {
        "id": "d7KngLVg_ZB6"
      }
    },
    {
      "cell_type": "code",
      "source": [
        "array_d.shape[0]"
      ],
      "metadata": {
        "colab": {
          "base_uri": "https://localhost:8080/"
        },
        "id": "ooH6Y71D9kB5",
        "outputId": "d78c93df-8e56-4198-a0cd-87e6302a6358"
      },
      "execution_count": null,
      "outputs": [
        {
          "output_type": "execute_result",
          "data": {
            "text/plain": [
              "2"
            ]
          },
          "metadata": {},
          "execution_count": 17
        }
      ]
    },
    {
      "cell_type": "markdown",
      "source": [
        "number of columns"
      ],
      "metadata": {
        "id": "cUW-zTaW_4GA"
      }
    },
    {
      "cell_type": "code",
      "source": [
        "array_d.shape[1]"
      ],
      "metadata": {
        "colab": {
          "base_uri": "https://localhost:8080/"
        },
        "id": "uoyL_rKF_XWB",
        "outputId": "741b50c3-1ce3-4299-d7a4-cb4129c05188"
      },
      "execution_count": null,
      "outputs": [
        {
          "output_type": "execute_result",
          "data": {
            "text/plain": [
              "3"
            ]
          },
          "metadata": {},
          "execution_count": 18
        }
      ]
    },
    {
      "cell_type": "code",
      "source": [
        "array_e = np.array(5)\n",
        "print(array_e)"
      ],
      "metadata": {
        "colab": {
          "base_uri": "https://localhost:8080/"
        },
        "id": "t41kVLw8_7qi",
        "outputId": "844321f6-5899-49cf-800e-8d37e264e781"
      },
      "execution_count": null,
      "outputs": [
        {
          "output_type": "stream",
          "name": "stdout",
          "text": [
            "5\n"
          ]
        }
      ]
    },
    {
      "cell_type": "code",
      "source": [
        "array_e.shape"
      ],
      "metadata": {
        "colab": {
          "base_uri": "https://localhost:8080/"
        },
        "id": "3-G9L2K8A6Lr",
        "outputId": "541eb437-afbc-44f8-f3be-67029dce3da6"
      },
      "execution_count": null,
      "outputs": [
        {
          "output_type": "execute_result",
          "data": {
            "text/plain": [
              "()"
            ]
          },
          "metadata": {},
          "execution_count": 21
        }
      ]
    },
    {
      "cell_type": "code",
      "source": [
        "type(array_e)"
      ],
      "metadata": {
        "colab": {
          "base_uri": "https://localhost:8080/"
        },
        "id": "m0ImrgdtA_0R",
        "outputId": "9c29b557-710b-4e30-a846-f546068895db"
      },
      "execution_count": null,
      "outputs": [
        {
          "output_type": "execute_result",
          "data": {
            "text/plain": [
              "numpy.ndarray"
            ]
          },
          "metadata": {},
          "execution_count": 22
        }
      ]
    },
    {
      "cell_type": "code",
      "source": [
        "array_f = np.array([[[[[[[[13]]]]]]]])"
      ],
      "metadata": {
        "id": "j_1iFo5VBD8Z"
      },
      "execution_count": null,
      "outputs": []
    },
    {
      "cell_type": "code",
      "source": [
        "print(array_f)"
      ],
      "metadata": {
        "colab": {
          "base_uri": "https://localhost:8080/"
        },
        "id": "6t7ya2IQBfQa",
        "outputId": "3015585e-76b3-4fe2-81de-b97f1ce0494a"
      },
      "execution_count": null,
      "outputs": [
        {
          "output_type": "stream",
          "name": "stdout",
          "text": [
            "[[[[[[[[13]]]]]]]]\n"
          ]
        }
      ]
    },
    {
      "cell_type": "code",
      "source": [
        "array_f.shape"
      ],
      "metadata": {
        "colab": {
          "base_uri": "https://localhost:8080/"
        },
        "id": "STqncg0tBiwx",
        "outputId": "262bc153-75cb-4a06-b35e-69e9c252c1a9"
      },
      "execution_count": null,
      "outputs": [
        {
          "output_type": "execute_result",
          "data": {
            "text/plain": [
              "(1, 1, 1, 1, 1, 1, 1, 1)"
            ]
          },
          "metadata": {},
          "execution_count": 25
        }
      ]
    },
    {
      "cell_type": "code",
      "source": [
        "array_f.shape[0]"
      ],
      "metadata": {
        "colab": {
          "base_uri": "https://localhost:8080/"
        },
        "id": "aGqYTqO-BmxZ",
        "outputId": "533f0320-8dc1-46ef-9f28-9d8b69ca71ef"
      },
      "execution_count": null,
      "outputs": [
        {
          "output_type": "execute_result",
          "data": {
            "text/plain": [
              "1"
            ]
          },
          "metadata": {},
          "execution_count": 26
        }
      ]
    },
    {
      "cell_type": "code",
      "source": [
        "array_f.shape[1]"
      ],
      "metadata": {
        "colab": {
          "base_uri": "https://localhost:8080/"
        },
        "id": "rImEnjTqB3jI",
        "outputId": "9f62cf56-06dc-4ca8-a479-3cfe752a85be"
      },
      "execution_count": null,
      "outputs": [
        {
          "output_type": "execute_result",
          "data": {
            "text/plain": [
              "1"
            ]
          },
          "metadata": {},
          "execution_count": 27
        }
      ]
    },
    {
      "cell_type": "markdown",
      "source": [
        "# Array Vs List"
      ],
      "metadata": {
        "id": "pJ12su9sz7i6"
      }
    },
    {
      "cell_type": "markdown",
      "source": [
        "\n",
        "\n",
        "\n",
        "list is in single line\n",
        "while \n",
        "np.array is like table with row and column\n",
        "\n",
        "\n",
        "array is element wise"
      ],
      "metadata": {
        "id": "EOaO_PyHCFJ5"
      }
    },
    {
      "cell_type": "code",
      "source": [
        "list_a = [1,2,3,4,5,6]\n",
        "print(list_a)\n",
        "len(list_a)"
      ],
      "metadata": {
        "colab": {
          "base_uri": "https://localhost:8080/"
        },
        "id": "vqzo5ucXB7Vx",
        "outputId": "a34db74a-ae77-40d2-ae35-abef94c2a6ab"
      },
      "execution_count": null,
      "outputs": [
        {
          "output_type": "stream",
          "name": "stdout",
          "text": [
            "[1, 2, 3, 4, 5, 6]\n"
          ]
        },
        {
          "output_type": "execute_result",
          "data": {
            "text/plain": [
              "6"
            ]
          },
          "metadata": {},
          "execution_count": 28
        }
      ]
    },
    {
      "cell_type": "code",
      "source": [
        "list_b = [[1,2,3],[4,5,6]]\n",
        "print(list_b)\n",
        "print(len(list_b))\n",
        "type(list_b)"
      ],
      "metadata": {
        "colab": {
          "base_uri": "https://localhost:8080/"
        },
        "id": "0lfpRqCGH8nR",
        "outputId": "a2e5fdd5-82d7-40f0-fcb0-cb9fd5ec5924"
      },
      "execution_count": null,
      "outputs": [
        {
          "output_type": "stream",
          "name": "stdout",
          "text": [
            "[[1, 2, 3], [4, 5, 6]]\n",
            "2\n"
          ]
        },
        {
          "output_type": "execute_result",
          "data": {
            "text/plain": [
              "list"
            ]
          },
          "metadata": {},
          "execution_count": 31
        }
      ]
    },
    {
      "cell_type": "code",
      "source": [
        "len(list_b[0])"
      ],
      "metadata": {
        "colab": {
          "base_uri": "https://localhost:8080/"
        },
        "id": "GvI6X7yKJ1lD",
        "outputId": "7a32c564-03da-43c1-bc7e-81e0d2ca0635"
      },
      "execution_count": null,
      "outputs": [
        {
          "output_type": "execute_result",
          "data": {
            "text/plain": [
              "3"
            ]
          },
          "metadata": {},
          "execution_count": 37
        }
      ]
    },
    {
      "cell_type": "code",
      "source": [
        "list_b[1]"
      ],
      "metadata": {
        "colab": {
          "base_uri": "https://localhost:8080/"
        },
        "id": "0LKOlY4sJ86A",
        "outputId": "52416c57-899b-4f55-b500-ddc60d7659c3"
      },
      "execution_count": null,
      "outputs": [
        {
          "output_type": "execute_result",
          "data": {
            "text/plain": [
              "[4, 5, 6]"
            ]
          },
          "metadata": {},
          "execution_count": 36
        }
      ]
    },
    {
      "cell_type": "code",
      "source": [
        "array_g = np.array(list_b)\n",
        "print(array_g)\n",
        "print(array_g.shape)\n",
        "type(array_g)"
      ],
      "metadata": {
        "colab": {
          "base_uri": "https://localhost:8080/"
        },
        "id": "0fM_bxgjIGpQ",
        "outputId": "57aec7a6-3c58-40ff-dd64-7cbf5531bf74"
      },
      "execution_count": null,
      "outputs": [
        {
          "output_type": "stream",
          "name": "stdout",
          "text": [
            "[[1 2 3]\n",
            " [4 5 6]]\n",
            "(2, 3)\n"
          ]
        },
        {
          "output_type": "execute_result",
          "data": {
            "text/plain": [
              "numpy.ndarray"
            ]
          },
          "metadata": {},
          "execution_count": 33
        }
      ]
    },
    {
      "cell_type": "code",
      "source": [
        "list_c = list_b[0] + list_b[1]\n",
        "list_c"
      ],
      "metadata": {
        "colab": {
          "base_uri": "https://localhost:8080/"
        },
        "id": "Y65NyR3YJCGR",
        "outputId": "8a66c31d-2a0f-49cc-8287-5611e3c5abc9"
      },
      "execution_count": null,
      "outputs": [
        {
          "output_type": "execute_result",
          "data": {
            "text/plain": [
              "[1, 2, 3, 4, 5, 6]"
            ]
          },
          "metadata": {},
          "execution_count": 38
        }
      ]
    },
    {
      "cell_type": "code",
      "source": [
        "array_h = array_g[0]+array_g[1]\n",
        "array_h"
      ],
      "metadata": {
        "colab": {
          "base_uri": "https://localhost:8080/"
        },
        "id": "bNXtPRn1K1G5",
        "outputId": "cf202642-6544-4594-e6c7-9e6df953ecad"
      },
      "execution_count": null,
      "outputs": [
        {
          "output_type": "execute_result",
          "data": {
            "text/plain": [
              "array([5, 7, 9])"
            ]
          },
          "metadata": {},
          "execution_count": 41
        }
      ]
    },
    {
      "cell_type": "code",
      "source": [
        "import math\n",
        "array_j = math.sqrt(array_g[1,0])\n",
        "print(array_j)"
      ],
      "metadata": {
        "colab": {
          "base_uri": "https://localhost:8080/"
        },
        "id": "Z4FVQqESLLYI",
        "outputId": "b4564e1b-5e8c-4e08-aeee-f5bdee20c9cc"
      },
      "execution_count": null,
      "outputs": [
        {
          "output_type": "stream",
          "name": "stdout",
          "text": [
            "2.0\n"
          ]
        }
      ]
    },
    {
      "cell_type": "code",
      "source": [
        "print(array_g[1,0])"
      ],
      "metadata": {
        "colab": {
          "base_uri": "https://localhost:8080/"
        },
        "id": "IKgq-eXxL-JB",
        "outputId": "90cbbc1c-0bd6-49fd-a301-a9e51511c500"
      },
      "execution_count": null,
      "outputs": [
        {
          "output_type": "stream",
          "name": "stdout",
          "text": [
            "4\n"
          ]
        }
      ]
    },
    {
      "cell_type": "markdown",
      "source": [
        "# Index"
      ],
      "metadata": {
        "id": "h0Jvj2AL0USW"
      }
    },
    {
      "cell_type": "code",
      "source": [
        "array_g"
      ],
      "metadata": {
        "colab": {
          "base_uri": "https://localhost:8080/"
        },
        "id": "aKeqDdb5MNBn",
        "outputId": "206182e3-98cb-4f42-e4c2-0531145f96e3"
      },
      "execution_count": null,
      "outputs": [
        {
          "output_type": "execute_result",
          "data": {
            "text/plain": [
              "array([[1, 2, 3],\n",
              "       [4, 5, 6]])"
            ]
          },
          "metadata": {},
          "execution_count": 46
        }
      ]
    },
    {
      "cell_type": "code",
      "source": [
        "array_g[1]"
      ],
      "metadata": {
        "colab": {
          "base_uri": "https://localhost:8080/"
        },
        "id": "87jOvusESdmo",
        "outputId": "3644397e-0d8a-45a5-bcb4-55d33986433c"
      },
      "execution_count": null,
      "outputs": [
        {
          "output_type": "execute_result",
          "data": {
            "text/plain": [
              "array([4, 5, 6])"
            ]
          },
          "metadata": {},
          "execution_count": 47
        }
      ]
    },
    {
      "cell_type": "code",
      "source": [
        "array_g[1,0]"
      ],
      "metadata": {
        "colab": {
          "base_uri": "https://localhost:8080/"
        },
        "id": "nhudteI4ShAh",
        "outputId": "cffc9542-4a32-45c1-9922-02dd1ad7ca0c"
      },
      "execution_count": null,
      "outputs": [
        {
          "output_type": "execute_result",
          "data": {
            "text/plain": [
              "4"
            ]
          },
          "metadata": {},
          "execution_count": 48
        }
      ]
    },
    {
      "cell_type": "code",
      "source": [
        "array_g[1][0]"
      ],
      "metadata": {
        "colab": {
          "base_uri": "https://localhost:8080/"
        },
        "id": "BEXBxB8aS1aW",
        "outputId": "69887ae6-efbc-4970-e6ff-0fe0c6687139"
      },
      "execution_count": null,
      "outputs": [
        {
          "output_type": "execute_result",
          "data": {
            "text/plain": [
              "4"
            ]
          },
          "metadata": {},
          "execution_count": 50
        }
      ]
    },
    {
      "cell_type": "code",
      "source": [
        "array_g[3]"
      ],
      "metadata": {
        "colab": {
          "base_uri": "https://localhost:8080/",
          "height": 171
        },
        "id": "vdNyK0PXSmxD",
        "outputId": "62b67ee8-4b40-45a5-b5d3-989f09c24c4b"
      },
      "execution_count": null,
      "outputs": [
        {
          "output_type": "error",
          "ename": "IndexError",
          "evalue": "ignored",
          "traceback": [
            "\u001b[0;31m---------------------------------------------------------------------------\u001b[0m",
            "\u001b[0;31mIndexError\u001b[0m                                Traceback (most recent call last)",
            "\u001b[0;32m<ipython-input-49-dc897d77a5cc>\u001b[0m in \u001b[0;36m<cell line: 1>\u001b[0;34m()\u001b[0m\n\u001b[0;32m----> 1\u001b[0;31m \u001b[0marray_g\u001b[0m\u001b[0;34m[\u001b[0m\u001b[0;36m3\u001b[0m\u001b[0;34m]\u001b[0m\u001b[0;34m\u001b[0m\u001b[0;34m\u001b[0m\u001b[0m\n\u001b[0m",
            "\u001b[0;31mIndexError\u001b[0m: index 3 is out of bounds for axis 0 with size 2"
          ]
        }
      ]
    },
    {
      "cell_type": "code",
      "source": [
        "array_b"
      ],
      "metadata": {
        "colab": {
          "base_uri": "https://localhost:8080/"
        },
        "id": "JT5TZBUeSsR_",
        "outputId": "ac970eec-1c29-4778-c49e-38efef38a6a1"
      },
      "execution_count": null,
      "outputs": [
        {
          "output_type": "execute_result",
          "data": {
            "text/plain": [
              "array([1, 2, 3])"
            ]
          },
          "metadata": {},
          "execution_count": 51
        }
      ]
    },
    {
      "cell_type": "code",
      "source": [
        "array_b[-1]"
      ],
      "metadata": {
        "colab": {
          "base_uri": "https://localhost:8080/"
        },
        "id": "Odqs_stET9h3",
        "outputId": "1b8085d9-9764-49ff-cd71-64613cf36197"
      },
      "execution_count": null,
      "outputs": [
        {
          "output_type": "execute_result",
          "data": {
            "text/plain": [
              "3"
            ]
          },
          "metadata": {},
          "execution_count": 52
        }
      ]
    },
    {
      "cell_type": "code",
      "source": [
        "array_g"
      ],
      "metadata": {
        "colab": {
          "base_uri": "https://localhost:8080/"
        },
        "id": "7oIFLUqaUUgA",
        "outputId": "e1c730ce-d4bf-4f08-8da1-e0ff17b3946c"
      },
      "execution_count": null,
      "outputs": [
        {
          "output_type": "execute_result",
          "data": {
            "text/plain": [
              "array([[1, 2, 3],\n",
              "       [4, 5, 6]])"
            ]
          },
          "metadata": {},
          "execution_count": 53
        }
      ]
    },
    {
      "cell_type": "code",
      "source": [
        "array_g[-1][-1] = 7"
      ],
      "metadata": {
        "id": "mJDJp5M-gSh_"
      },
      "execution_count": null,
      "outputs": []
    },
    {
      "cell_type": "code",
      "source": [
        "print(array_g)"
      ],
      "metadata": {
        "colab": {
          "base_uri": "https://localhost:8080/"
        },
        "id": "UADFahr_gYy9",
        "outputId": "0b360cc3-2b22-4c88-8418-746ed94fd587"
      },
      "execution_count": null,
      "outputs": [
        {
          "output_type": "stream",
          "name": "stdout",
          "text": [
            "[[1 2 3]\n",
            " [4 5 7]]\n"
          ]
        }
      ]
    },
    {
      "cell_type": "code",
      "source": [
        "array_g[:,0]"
      ],
      "metadata": {
        "colab": {
          "base_uri": "https://localhost:8080/"
        },
        "id": "0Nbpi2Zdgnbd",
        "outputId": "f7f52853-c220-43b3-be65-15e77477d1d8"
      },
      "execution_count": null,
      "outputs": [
        {
          "output_type": "execute_result",
          "data": {
            "text/plain": [
              "array([1, 4])"
            ]
          },
          "metadata": {},
          "execution_count": 58
        }
      ]
    },
    {
      "cell_type": "code",
      "source": [
        "array_g[0,:]"
      ],
      "metadata": {
        "colab": {
          "base_uri": "https://localhost:8080/"
        },
        "id": "yCy-zbU6g2Pu",
        "outputId": "10b1cfbd-abed-4614-a847-b07a03c1d6a6"
      },
      "execution_count": null,
      "outputs": [
        {
          "output_type": "execute_result",
          "data": {
            "text/plain": [
              "array([1, 2, 3])"
            ]
          },
          "metadata": {},
          "execution_count": 59
        }
      ]
    },
    {
      "cell_type": "code",
      "source": [
        "array_g[0]"
      ],
      "metadata": {
        "colab": {
          "base_uri": "https://localhost:8080/"
        },
        "id": "VOxppdQnhETg",
        "outputId": "f4da13eb-9293-4fbe-c307-7e2d52225e06"
      },
      "execution_count": null,
      "outputs": [
        {
          "output_type": "execute_result",
          "data": {
            "text/plain": [
              "array([1, 2, 3])"
            ]
          },
          "metadata": {},
          "execution_count": 60
        }
      ]
    },
    {
      "cell_type": "code",
      "source": [
        "array_g[0,2]"
      ],
      "metadata": {
        "colab": {
          "base_uri": "https://localhost:8080/"
        },
        "id": "QzzzIC0NhXl9",
        "outputId": "13bae66c-cd7f-40d7-d565-e0f37c49f3d7"
      },
      "execution_count": null,
      "outputs": [
        {
          "output_type": "execute_result",
          "data": {
            "text/plain": [
              "3"
            ]
          },
          "metadata": {},
          "execution_count": 62
        }
      ]
    },
    {
      "cell_type": "code",
      "source": [
        "array_g[1][:2]"
      ],
      "metadata": {
        "colab": {
          "base_uri": "https://localhost:8080/"
        },
        "id": "82j0jATRhg39",
        "outputId": "93ecb5e4-a90b-4576-8d9f-6b65aea2f001"
      },
      "execution_count": null,
      "outputs": [
        {
          "output_type": "execute_result",
          "data": {
            "text/plain": [
              "array([4, 5])"
            ]
          },
          "metadata": {},
          "execution_count": 65
        }
      ]
    },
    {
      "cell_type": "code",
      "source": [
        "list_c=[11,12,13]\n",
        "array_g[1]=list_c\n",
        "\n",
        "print(array_g)"
      ],
      "metadata": {
        "colab": {
          "base_uri": "https://localhost:8080/"
        },
        "id": "FYfXO7jvhtul",
        "outputId": "a349e99b-965d-4d27-8985-a9c2dcd5eeed"
      },
      "execution_count": null,
      "outputs": [
        {
          "output_type": "stream",
          "name": "stdout",
          "text": [
            "[[ 1  2  3]\n",
            " [11 12 13]]\n"
          ]
        }
      ]
    },
    {
      "cell_type": "code",
      "source": [
        "array_g[:]"
      ],
      "metadata": {
        "colab": {
          "base_uri": "https://localhost:8080/"
        },
        "id": "ljDb5Y-ciO9m",
        "outputId": "3c4d85c8-93b7-45bb-fdda-c989bbd4bbc2"
      },
      "execution_count": null,
      "outputs": [
        {
          "output_type": "execute_result",
          "data": {
            "text/plain": [
              "array([[ 1,  2,  3],\n",
              "       [11, 12, 13]])"
            ]
          },
          "metadata": {},
          "execution_count": 67
        }
      ]
    },
    {
      "cell_type": "code",
      "source": [
        "array_b"
      ],
      "metadata": {
        "colab": {
          "base_uri": "https://localhost:8080/"
        },
        "id": "nmcra_SViaVO",
        "outputId": "4bf6a193-49a6-4870-d467-398a02f71573"
      },
      "execution_count": null,
      "outputs": [
        {
          "output_type": "execute_result",
          "data": {
            "text/plain": [
              "array([1, 2, 3])"
            ]
          },
          "metadata": {},
          "execution_count": 70
        }
      ]
    },
    {
      "cell_type": "code",
      "source": [
        "array_c"
      ],
      "metadata": {
        "colab": {
          "base_uri": "https://localhost:8080/"
        },
        "id": "GZf0dr4oj4AA",
        "outputId": "d58bdf2e-b3bd-40fd-981a-553039790aae"
      },
      "execution_count": null,
      "outputs": [
        {
          "output_type": "execute_result",
          "data": {
            "text/plain": [
              "array([[1, 2, 3],\n",
              "       [4, 5, 6]])"
            ]
          },
          "metadata": {},
          "execution_count": 71
        }
      ]
    },
    {
      "cell_type": "markdown",
      "source": [
        "# NumPy Fundamentals"
      ],
      "metadata": {
        "id": "0hV7TvNp0jfC"
      }
    },
    {
      "cell_type": "code",
      "source": [
        "array_a = np.array([1])\n",
        "print(\"0_D array :\",array_a)\n",
        "\n",
        "array_b = np.array([1,2,3])\n",
        "print(\"1_D array :\",array_b)\n",
        "\n",
        "array_c = np.array([[1,2,3],[4,5,6]])\n",
        "print(\"2_D array :\",array_c)\n"
      ],
      "metadata": {
        "colab": {
          "base_uri": "https://localhost:8080/"
        },
        "id": "YIm5sWehlMDO",
        "outputId": "0dff1629-7fcc-407e-bc3f-679338c46ace"
      },
      "execution_count": null,
      "outputs": [
        {
          "output_type": "stream",
          "name": "stdout",
          "text": [
            "0_D array : [1]\n",
            "1_D array : [1 2 3]\n",
            "2_D array : [[1 2 3]\n",
            " [4 5 6]]\n"
          ]
        }
      ]
    },
    {
      "cell_type": "code",
      "source": [
        "array_b = array_b + 2 \n",
        "array_b"
      ],
      "metadata": {
        "colab": {
          "base_uri": "https://localhost:8080/"
        },
        "id": "IcEIJXDMkMAm",
        "outputId": "c7f2efa7-12eb-4cf7-9dfb-8a250204fbc9"
      },
      "execution_count": null,
      "outputs": [
        {
          "output_type": "execute_result",
          "data": {
            "text/plain": [
              "array([4, 6, 8])"
            ]
          },
          "metadata": {},
          "execution_count": 79
        }
      ]
    },
    {
      "cell_type": "code",
      "source": [
        "array_b *= 2 \n",
        "array_b"
      ],
      "metadata": {
        "colab": {
          "base_uri": "https://localhost:8080/"
        },
        "id": "kgPclbXakrlF",
        "outputId": "c1b8a942-6ad5-43d5-f214-852732594a7e"
      },
      "execution_count": null,
      "outputs": [
        {
          "output_type": "execute_result",
          "data": {
            "text/plain": [
              "array([ 8, 12, 16])"
            ]
          },
          "metadata": {},
          "execution_count": 80
        }
      ]
    },
    {
      "cell_type": "code",
      "source": [
        "array_b += 2 \n",
        "array_b"
      ],
      "metadata": {
        "colab": {
          "base_uri": "https://localhost:8080/"
        },
        "id": "_fNFoJYqktdV",
        "outputId": "e05c4c3d-b6ea-4c8e-d5cf-c930898fc170"
      },
      "execution_count": null,
      "outputs": [
        {
          "output_type": "execute_result",
          "data": {
            "text/plain": [
              "array([10, 14, 18])"
            ]
          },
          "metadata": {},
          "execution_count": 81
        }
      ]
    },
    {
      "cell_type": "code",
      "source": [
        "array_b = array_b / 2  \n",
        "array_b"
      ],
      "metadata": {
        "colab": {
          "base_uri": "https://localhost:8080/"
        },
        "id": "CDWdg1JAlmmQ",
        "outputId": "d9ca5181-6d5b-4820-db45-687ec0f27f8d"
      },
      "execution_count": null,
      "outputs": [
        {
          "output_type": "execute_result",
          "data": {
            "text/plain": [
              "array([5., 7., 9.])"
            ]
          },
          "metadata": {},
          "execution_count": 85
        }
      ]
    },
    {
      "cell_type": "code",
      "source": [
        "array_b /= 2  \n",
        "array_b"
      ],
      "metadata": {
        "colab": {
          "base_uri": "https://localhost:8080/"
        },
        "id": "RzOCWiZZlrSe",
        "outputId": "19e968d0-9e57-4b8f-e972-eb09745199cc"
      },
      "execution_count": null,
      "outputs": [
        {
          "output_type": "execute_result",
          "data": {
            "text/plain": [
              "array([2.5, 3.5, 4.5])"
            ]
          },
          "metadata": {},
          "execution_count": 87
        }
      ]
    },
    {
      "cell_type": "code",
      "source": [
        "array_a += [5]\n",
        "array_a"
      ],
      "metadata": {
        "colab": {
          "base_uri": "https://localhost:8080/"
        },
        "id": "KwgZnVzZmFuW",
        "outputId": "1f123711-93d3-46a8-da88-2632c08b5734"
      },
      "execution_count": null,
      "outputs": [
        {
          "output_type": "execute_result",
          "data": {
            "text/plain": [
              "array([6])"
            ]
          },
          "metadata": {},
          "execution_count": 90
        }
      ]
    },
    {
      "cell_type": "code",
      "source": [
        "print(list_b)\n",
        "list_b+[5]"
      ],
      "metadata": {
        "colab": {
          "base_uri": "https://localhost:8080/"
        },
        "id": "nKmGpyximc1_",
        "outputId": "4267136d-61f4-4875-98be-5413b50548e4"
      },
      "execution_count": null,
      "outputs": [
        {
          "output_type": "stream",
          "name": "stdout",
          "text": [
            "[[1, 2, 3], [4, 5, 6]]\n"
          ]
        },
        {
          "output_type": "execute_result",
          "data": {
            "text/plain": [
              "[[1, 2, 3], [4, 5, 6], 5]"
            ]
          },
          "metadata": {},
          "execution_count": 89
        }
      ]
    },
    {
      "cell_type": "code",
      "source": [
        "array_e = array_a * array_b\n",
        "array_e"
      ],
      "metadata": {
        "colab": {
          "base_uri": "https://localhost:8080/"
        },
        "id": "93KfryyMmrpm",
        "outputId": "d4fd0130-81d5-401b-def0-68551f71e221"
      },
      "execution_count": null,
      "outputs": [
        {
          "output_type": "execute_result",
          "data": {
            "text/plain": [
              "array([15., 21., 27.])"
            ]
          },
          "metadata": {},
          "execution_count": 91
        }
      ]
    },
    {
      "cell_type": "code",
      "source": [
        "array_v = array_b - array_a\n",
        "array_v"
      ],
      "metadata": {
        "colab": {
          "base_uri": "https://localhost:8080/"
        },
        "id": "kHS1DZhhnYPc",
        "outputId": "172677ad-81e2-4332-94b8-a8b66e61b74c"
      },
      "execution_count": null,
      "outputs": [
        {
          "output_type": "execute_result",
          "data": {
            "text/plain": [
              "array([-3.5, -2.5, -1.5])"
            ]
          },
          "metadata": {},
          "execution_count": 94
        }
      ]
    },
    {
      "cell_type": "code",
      "source": [
        "array_v = array_a - array_b\n",
        "array_v"
      ],
      "metadata": {
        "colab": {
          "base_uri": "https://localhost:8080/"
        },
        "id": "cKQvCaWKqFe-",
        "outputId": "8902d52c-d15a-4d00-8342-7c4e79c261ed"
      },
      "execution_count": null,
      "outputs": [
        {
          "output_type": "execute_result",
          "data": {
            "text/plain": [
              "array([3.5, 2.5, 1.5])"
            ]
          },
          "metadata": {},
          "execution_count": 97
        }
      ]
    },
    {
      "cell_type": "code",
      "source": [
        "print(array_a)\n",
        "print(array_b)"
      ],
      "metadata": {
        "colab": {
          "base_uri": "https://localhost:8080/"
        },
        "id": "s8Y5y_aFpCy1",
        "outputId": "d8357de3-c56e-43c5-860c-b571e2d0133c"
      },
      "execution_count": null,
      "outputs": [
        {
          "output_type": "stream",
          "name": "stdout",
          "text": [
            "[6]\n",
            "[2.5 3.5 4.5]\n"
          ]
        }
      ]
    },
    {
      "cell_type": "code",
      "source": [
        "array_x = np.array([[10,11,12],[13,14,15]])\n",
        "array_x"
      ],
      "metadata": {
        "id": "bOmIHig5pN9n",
        "colab": {
          "base_uri": "https://localhost:8080/"
        },
        "outputId": "9bcac42e-5876-4905-cf9e-1b10d6213108"
      },
      "execution_count": null,
      "outputs": [
        {
          "output_type": "execute_result",
          "data": {
            "text/plain": [
              "array([[10, 11, 12],\n",
              "       [13, 14, 15]])"
            ]
          },
          "metadata": {},
          "execution_count": 4
        }
      ]
    },
    {
      "cell_type": "code",
      "source": [
        "array_y = np.array([[10,11,12],[13,14,15]],dtype=\"float32\")\n",
        "array_y"
      ],
      "metadata": {
        "colab": {
          "base_uri": "https://localhost:8080/"
        },
        "id": "BkS7RG6atCNo",
        "outputId": "a11027a9-5c81-4180-d82d-d1ab90b025e4"
      },
      "execution_count": null,
      "outputs": [
        {
          "output_type": "execute_result",
          "data": {
            "text/plain": [
              "array([[10., 11., 12.],\n",
              "       [13., 14., 15.]], dtype=float32)"
            ]
          },
          "metadata": {},
          "execution_count": 5
        }
      ]
    },
    {
      "cell_type": "code",
      "source": [
        "array_z = np.array([[10,11,12],[13,14,15]],dtype = np.complex64)\n",
        "array_z"
      ],
      "metadata": {
        "colab": {
          "base_uri": "https://localhost:8080/"
        },
        "id": "VehvrWgQtXaW",
        "outputId": "a07ca83d-1d5a-4eb7-f16c-4a4363f96fc0"
      },
      "execution_count": null,
      "outputs": [
        {
          "output_type": "execute_result",
          "data": {
            "text/plain": [
              "array([[10.+0.j, 11.+0.j, 12.+0.j],\n",
              "       [13.+0.j, 14.+0.j, 15.+0.j]], dtype=complex64)"
            ]
          },
          "metadata": {},
          "execution_count": 9
        }
      ]
    },
    {
      "cell_type": "code",
      "source": [
        "array_z = np.array([[10,11,12],[13,14,15]],dtype = np.str0)\n",
        "array_z"
      ],
      "metadata": {
        "colab": {
          "base_uri": "https://localhost:8080/"
        },
        "outputId": "39486654-9221-47f9-8b44-65092a3cc93b",
        "id": "qBv5Mr-IuGrI"
      },
      "execution_count": null,
      "outputs": [
        {
          "output_type": "execute_result",
          "data": {
            "text/plain": [
              "array([['10', '11', '12'],\n",
              "       ['13', '14', '15']], dtype='<U2')"
            ]
          },
          "metadata": {},
          "execution_count": 12
        }
      ]
    },
    {
      "cell_type": "code",
      "source": [
        "array_z = np.array([[10,11,12],[13,14,15]],dtype = np.bool8)\n",
        "array_z"
      ],
      "metadata": {
        "colab": {
          "base_uri": "https://localhost:8080/"
        },
        "outputId": "d61b2b45-e08b-4b08-a5f3-f36f0a0d2335",
        "id": "oRR5lr6kuqjb"
      },
      "execution_count": null,
      "outputs": [
        {
          "output_type": "execute_result",
          "data": {
            "text/plain": [
              "array([[ True,  True,  True],\n",
              "       [ True,  True,  True]])"
            ]
          },
          "metadata": {},
          "execution_count": 13
        }
      ]
    },
    {
      "cell_type": "markdown",
      "source": [
        "broadcasting"
      ],
      "metadata": {
        "id": "EC9DDmuRzqWH"
      }
    },
    {
      "cell_type": "code",
      "source": [
        "array_t = np.array([1,2,3])\n",
        "array_t"
      ],
      "metadata": {
        "colab": {
          "base_uri": "https://localhost:8080/"
        },
        "id": "ETZKyqCcuug1",
        "outputId": "5c4f1966-f953-4885-fed2-5a1afaf260cb"
      },
      "execution_count": null,
      "outputs": [
        {
          "output_type": "execute_result",
          "data": {
            "text/plain": [
              "array([1, 2, 3])"
            ]
          },
          "metadata": {},
          "execution_count": 14
        }
      ]
    },
    {
      "cell_type": "code",
      "source": [
        "array_f = np.array([[1],[2]])\n",
        "array_f"
      ],
      "metadata": {
        "colab": {
          "base_uri": "https://localhost:8080/"
        },
        "id": "qjg8Shf70S5W",
        "outputId": "868272ad-06ef-443a-9da9-20013a75e7b8"
      },
      "execution_count": null,
      "outputs": [
        {
          "output_type": "execute_result",
          "data": {
            "text/plain": [
              "array([[1],\n",
              "       [2]])"
            ]
          },
          "metadata": {},
          "execution_count": 15
        }
      ]
    },
    {
      "cell_type": "code",
      "source": [
        "matrix_a = np.array([[10,20,30],[40,50,60]])\n",
        "matrix_a"
      ],
      "metadata": {
        "colab": {
          "base_uri": "https://localhost:8080/"
        },
        "id": "t2hMujwD0ilU",
        "outputId": "1f62b446-2b74-4e5a-db76-e411122c2d59"
      },
      "execution_count": null,
      "outputs": [
        {
          "output_type": "execute_result",
          "data": {
            "text/plain": [
              "array([[10, 20, 30],\n",
              "       [40, 50, 60]])"
            ]
          },
          "metadata": {},
          "execution_count": 17
        }
      ]
    },
    {
      "cell_type": "code",
      "source": [
        "array_test = array_t+array_f\n",
        "array_test"
      ],
      "metadata": {
        "colab": {
          "base_uri": "https://localhost:8080/"
        },
        "id": "cNI177Bp02Jl",
        "outputId": "3805545a-0c21-42c4-efc2-46559e93b6b2"
      },
      "execution_count": null,
      "outputs": [
        {
          "output_type": "execute_result",
          "data": {
            "text/plain": [
              "array([[2, 3, 4],\n",
              "       [3, 4, 5]])"
            ]
          },
          "metadata": {},
          "execution_count": 18
        }
      ]
    },
    {
      "cell_type": "code",
      "source": [
        "np.add(array_t,array_f)"
      ],
      "metadata": {
        "colab": {
          "base_uri": "https://localhost:8080/"
        },
        "id": "TN81aPTp1R4s",
        "outputId": "eedb3cad-4012-44f5-f11a-88814620ec08"
      },
      "execution_count": null,
      "outputs": [
        {
          "output_type": "execute_result",
          "data": {
            "text/plain": [
              "array([[2, 3, 4],\n",
              "       [3, 4, 5]])"
            ]
          },
          "metadata": {},
          "execution_count": 19
        }
      ]
    },
    {
      "cell_type": "code",
      "source": [
        "np.add(array_f,matrix_a)"
      ],
      "metadata": {
        "colab": {
          "base_uri": "https://localhost:8080/"
        },
        "id": "qy8rXcNC19bc",
        "outputId": "b89467f0-1bc4-448c-d540-9ffab101de13"
      },
      "execution_count": null,
      "outputs": [
        {
          "output_type": "execute_result",
          "data": {
            "text/plain": [
              "array([[11, 21, 31],\n",
              "       [42, 52, 62]])"
            ]
          },
          "metadata": {},
          "execution_count": 21
        }
      ]
    },
    {
      "cell_type": "code",
      "source": [
        "np.std(np.add(array_f,matrix_a))"
      ],
      "metadata": {
        "colab": {
          "base_uri": "https://localhost:8080/"
        },
        "id": "K9ZwAOUE2RB9",
        "outputId": "cdde8ea2-16fa-4d6b-f2e7-5eef534c625e"
      },
      "execution_count": null,
      "outputs": [
        {
          "output_type": "execute_result",
          "data": {
            "text/plain": [
              "17.519037264263886"
            ]
          },
          "metadata": {},
          "execution_count": 24
        }
      ]
    },
    {
      "cell_type": "code",
      "source": [
        "np.add(array_f,matrix_a, dtype= np.float16)"
      ],
      "metadata": {
        "colab": {
          "base_uri": "https://localhost:8080/"
        },
        "id": "UcdNPumx2N9V",
        "outputId": "8b53ebfe-25a4-44e2-bbc1-79302a04c5bd"
      },
      "execution_count": null,
      "outputs": [
        {
          "output_type": "execute_result",
          "data": {
            "text/plain": [
              "array([[11., 21., 31.],\n",
              "       [42., 52., 62.]], dtype=float16)"
            ]
          },
          "metadata": {},
          "execution_count": 25
        }
      ]
    },
    {
      "cell_type": "code",
      "source": [
        "np.mean(matrix_a)"
      ],
      "metadata": {
        "colab": {
          "base_uri": "https://localhost:8080/"
        },
        "id": "JdLkxhVz3ID1",
        "outputId": "dfea091c-b023-4bc1-d557-2e47a6de07e1"
      },
      "execution_count": null,
      "outputs": [
        {
          "output_type": "execute_result",
          "data": {
            "text/plain": [
              "35.0"
            ]
          },
          "metadata": {},
          "execution_count": 26
        }
      ]
    },
    {
      "cell_type": "code",
      "source": [
        "np.median(matrix_a , axis=1)"
      ],
      "metadata": {
        "colab": {
          "base_uri": "https://localhost:8080/"
        },
        "id": "y1z6-n4H3hn8",
        "outputId": "7a1d10d3-26af-4600-c022-ea121cb4159f"
      },
      "execution_count": null,
      "outputs": [
        {
          "output_type": "execute_result",
          "data": {
            "text/plain": [
              "array([20., 50.])"
            ]
          },
          "metadata": {},
          "execution_count": 31
        }
      ]
    },
    {
      "cell_type": "code",
      "source": [
        "np.mean(matrix_a,axis=1)"
      ],
      "metadata": {
        "colab": {
          "base_uri": "https://localhost:8080/"
        },
        "id": "tek2B_6D3oRg",
        "outputId": "7f32a2d4-3ae4-486c-e544-83c2cf63f04c"
      },
      "execution_count": null,
      "outputs": [
        {
          "output_type": "execute_result",
          "data": {
            "text/plain": [
              "array([20., 50.])"
            ]
          },
          "metadata": {},
          "execution_count": 28
        }
      ]
    },
    {
      "cell_type": "markdown",
      "source": [
        "# Working with Arrays"
      ],
      "metadata": {
        "id": "bEkHDvC_2JOt"
      }
    },
    {
      "cell_type": "markdown",
      "source": [
        "slicing"
      ],
      "metadata": {
        "id": "sw0ECRNg7k4d"
      }
    },
    {
      "cell_type": "code",
      "source": [
        "matrix_a[:]"
      ],
      "metadata": {
        "colab": {
          "base_uri": "https://localhost:8080/"
        },
        "id": "92EzEF-O4El0",
        "outputId": "5a13566a-aec7-400a-d691-964e9a73e884"
      },
      "execution_count": null,
      "outputs": [
        {
          "output_type": "execute_result",
          "data": {
            "text/plain": [
              "array([[10, 20, 30],\n",
              "       [40, 50, 60]])"
            ]
          },
          "metadata": {},
          "execution_count": 32
        }
      ]
    },
    {
      "cell_type": "code",
      "source": [
        "matrix_a[0:0]"
      ],
      "metadata": {
        "colab": {
          "base_uri": "https://localhost:8080/"
        },
        "id": "_m4w2btG8BgX",
        "outputId": "3b770a0c-ff51-48f4-e330-1b559fabc402"
      },
      "execution_count": null,
      "outputs": [
        {
          "output_type": "execute_result",
          "data": {
            "text/plain": [
              "array([], shape=(0, 3), dtype=int64)"
            ]
          },
          "metadata": {},
          "execution_count": 34
        }
      ]
    },
    {
      "cell_type": "code",
      "source": [
        "matrix_a[:1]"
      ],
      "metadata": {
        "colab": {
          "base_uri": "https://localhost:8080/"
        },
        "id": "Gvq3VgDK8Gg7",
        "outputId": "1ee403f8-2402-4bb1-bd99-0a9d31dbf43a"
      },
      "execution_count": null,
      "outputs": [
        {
          "output_type": "execute_result",
          "data": {
            "text/plain": [
              "array([[10, 20, 30]])"
            ]
          },
          "metadata": {},
          "execution_count": 35
        }
      ]
    },
    {
      "cell_type": "code",
      "source": [
        "matrix_a[:-1]"
      ],
      "metadata": {
        "colab": {
          "base_uri": "https://localhost:8080/"
        },
        "id": "W9LanMau8Ovb",
        "outputId": "89ba8048-f443-43f4-c7af-18f3381e1bde"
      },
      "execution_count": null,
      "outputs": [
        {
          "output_type": "execute_result",
          "data": {
            "text/plain": [
              "array([[10, 20, 30]])"
            ]
          },
          "metadata": {},
          "execution_count": 36
        }
      ]
    },
    {
      "cell_type": "code",
      "source": [
        "matrix_a[1:]"
      ],
      "metadata": {
        "colab": {
          "base_uri": "https://localhost:8080/"
        },
        "id": "5RwdbNBd8UP0",
        "outputId": "e3ddaf6b-e5f0-41f4-b998-ab9874989e8f"
      },
      "execution_count": null,
      "outputs": [
        {
          "output_type": "execute_result",
          "data": {
            "text/plain": [
              "array([[40, 50, 60]])"
            ]
          },
          "metadata": {},
          "execution_count": 37
        }
      ]
    },
    {
      "cell_type": "code",
      "source": [
        "matrix_a[0:,2:]"
      ],
      "metadata": {
        "colab": {
          "base_uri": "https://localhost:8080/"
        },
        "id": "Rfmzt_aI8ais",
        "outputId": "f3ec8ec1-3cbc-436b-f59d-402341370738"
      },
      "execution_count": null,
      "outputs": [
        {
          "output_type": "execute_result",
          "data": {
            "text/plain": [
              "array([[30],\n",
              "       [60]])"
            ]
          },
          "metadata": {},
          "execution_count": 43
        }
      ]
    },
    {
      "cell_type": "code",
      "source": [
        "matrix_a[1:,:-1]"
      ],
      "metadata": {
        "colab": {
          "base_uri": "https://localhost:8080/"
        },
        "id": "ABBTZjje8pYl",
        "outputId": "1a5a9046-75a6-4890-b197-540e258e3033"
      },
      "execution_count": null,
      "outputs": [
        {
          "output_type": "execute_result",
          "data": {
            "text/plain": [
              "array([[40, 50]])"
            ]
          },
          "metadata": {},
          "execution_count": 45
        }
      ]
    },
    {
      "cell_type": "code",
      "source": [
        "import numpy as np\n",
        "\n",
        "\n",
        "matrix_b = np.array([[1,2,3,4],[5,6,7,8],[9,10,11,12],[13,14,15,16]])\n",
        "matrix_b"
      ],
      "metadata": {
        "colab": {
          "base_uri": "https://localhost:8080/"
        },
        "id": "TrsFs2Xc-CCs",
        "outputId": "07790a41-7272-47f2-eaab-56d5b1cfbb2e"
      },
      "execution_count": null,
      "outputs": [
        {
          "output_type": "execute_result",
          "data": {
            "text/plain": [
              "array([[ 1,  2,  3,  4],\n",
              "       [ 5,  6,  7,  8],\n",
              "       [ 9, 10, 11, 12],\n",
              "       [13, 14, 15, 16]])"
            ]
          },
          "metadata": {},
          "execution_count": 2
        }
      ]
    },
    {
      "cell_type": "code",
      "source": [
        "matrix_b[1:10:31]"
      ],
      "metadata": {
        "colab": {
          "base_uri": "https://localhost:8080/"
        },
        "id": "UJYTGiA8kIQi",
        "outputId": "4d404c91-0f72-44af-db83-2a7961bc12c6"
      },
      "execution_count": null,
      "outputs": [
        {
          "output_type": "execute_result",
          "data": {
            "text/plain": [
              "array([[5, 6, 7, 8]])"
            ]
          },
          "metadata": {},
          "execution_count": 6
        }
      ]
    },
    {
      "cell_type": "markdown",
      "source": [
        "![111111.png](data:image/png;base64,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)"
      ],
      "metadata": {
        "id": "3NAEceKBmBRE"
      }
    },
    {
      "cell_type": "code",
      "source": [
        "matrix_b[1:5:2,::2]"
      ],
      "metadata": {
        "colab": {
          "base_uri": "https://localhost:8080/"
        },
        "id": "wupKC-QykYuQ",
        "outputId": "33aa0feb-aa7c-4d9a-ca70-d9d812907ad9"
      },
      "execution_count": null,
      "outputs": [
        {
          "output_type": "execute_result",
          "data": {
            "text/plain": [
              "array([[ 5,  7],\n",
              "       [13, 15]])"
            ]
          },
          "metadata": {},
          "execution_count": 18
        }
      ]
    },
    {
      "cell_type": "code",
      "source": [
        "matrix_b[::-2,::-2]"
      ],
      "metadata": {
        "colab": {
          "base_uri": "https://localhost:8080/"
        },
        "id": "G73IlseXn7tD",
        "outputId": "ea1e3a6b-4e81-4847-ce75-f8fc57e1b96e"
      },
      "execution_count": null,
      "outputs": [
        {
          "output_type": "execute_result",
          "data": {
            "text/plain": [
              "array([[16, 14],\n",
              "       [ 8,  6]])"
            ]
          },
          "metadata": {},
          "execution_count": 19
        }
      ]
    },
    {
      "cell_type": "code",
      "source": [
        "matrix_b"
      ],
      "metadata": {
        "colab": {
          "base_uri": "https://localhost:8080/"
        },
        "id": "fPcHoWB3lyqR",
        "outputId": "705d8995-0355-4fbe-f08b-cc3d15a40f24"
      },
      "execution_count": null,
      "outputs": [
        {
          "output_type": "execute_result",
          "data": {
            "text/plain": [
              "array([[ 1,  2,  3,  4],\n",
              "       [ 5,  6,  7,  8],\n",
              "       [ 9, 10, 11, 12],\n",
              "       [13, 14, 15, 16]])"
            ]
          },
          "metadata": {},
          "execution_count": 9
        }
      ]
    },
    {
      "cell_type": "code",
      "source": [
        "matrix_b[2::,2::]"
      ],
      "metadata": {
        "colab": {
          "base_uri": "https://localhost:8080/"
        },
        "id": "wvUHr4OtmlOI",
        "outputId": "188b306f-4e35-4928-871e-d5cf5048892d"
      },
      "execution_count": null,
      "outputs": [
        {
          "output_type": "execute_result",
          "data": {
            "text/plain": [
              "array([[11, 12],\n",
              "       [15, 16]])"
            ]
          },
          "metadata": {},
          "execution_count": 21
        }
      ]
    },
    {
      "cell_type": "code",
      "source": [
        "matrix_b[1:3:,1:3:]"
      ],
      "metadata": {
        "colab": {
          "base_uri": "https://localhost:8080/"
        },
        "id": "dF9obk0bqPWH",
        "outputId": "91326cde-442b-421f-feb0-f7fa0aaf59d0"
      },
      "execution_count": null,
      "outputs": [
        {
          "output_type": "execute_result",
          "data": {
            "text/plain": [
              "array([[ 6,  7],\n",
              "       [10, 11]])"
            ]
          },
          "metadata": {},
          "execution_count": 24
        }
      ]
    },
    {
      "cell_type": "code",
      "source": [
        "matrix_b[1:3:,0:2:]"
      ],
      "metadata": {
        "colab": {
          "base_uri": "https://localhost:8080/"
        },
        "id": "RdhjZcksqkHg",
        "outputId": "ab3bb2b1-e04b-433a-83f3-ec3861be9071"
      },
      "execution_count": null,
      "outputs": [
        {
          "output_type": "execute_result",
          "data": {
            "text/plain": [
              "array([[ 5,  6],\n",
              "       [ 9, 10]])"
            ]
          },
          "metadata": {},
          "execution_count": 28
        }
      ]
    },
    {
      "cell_type": "code",
      "source": [
        "matrix_c = np.array([[1,2,3,4,5],[6,7,8,9,10],[11,12,13,14,15]])\n",
        "matrix_c"
      ],
      "metadata": {
        "id": "2ZHIYeLkrBlP",
        "colab": {
          "base_uri": "https://localhost:8080/"
        },
        "outputId": "7281fd1a-36a6-4d0d-d20a-a70ca8b11a2b"
      },
      "execution_count": null,
      "outputs": [
        {
          "output_type": "execute_result",
          "data": {
            "text/plain": [
              "array([[ 1,  2,  3,  4,  5],\n",
              "       [ 6,  7,  8,  9, 10],\n",
              "       [11, 12, 13, 14, 15]])"
            ]
          },
          "metadata": {},
          "execution_count": 15
        }
      ]
    },
    {
      "cell_type": "code",
      "source": [
        "matrix_c[:2]>5"
      ],
      "metadata": {
        "colab": {
          "base_uri": "https://localhost:8080/"
        },
        "id": "eSxb44zxk7S1",
        "outputId": "0f4b4a56-e508-46cb-ce04-ad0d8350b353"
      },
      "execution_count": null,
      "outputs": [
        {
          "output_type": "execute_result",
          "data": {
            "text/plain": [
              "array([[False, False, False, False, False],\n",
              "       [ True,  True,  True,  True,  True]])"
            ]
          },
          "metadata": {},
          "execution_count": 7
        }
      ]
    },
    {
      "cell_type": "code",
      "source": [
        "matrix_c[matrix_c[:,:]>=5]"
      ],
      "metadata": {
        "colab": {
          "base_uri": "https://localhost:8080/"
        },
        "id": "iReCIPpGlR9C",
        "outputId": "ad0573cc-2f45-43c6-816f-773234097007"
      },
      "execution_count": null,
      "outputs": [
        {
          "output_type": "execute_result",
          "data": {
            "text/plain": [
              "array([ 5,  6,  7,  8,  9, 10, 11, 12, 13, 14, 15])"
            ]
          },
          "metadata": {},
          "execution_count": 10
        }
      ]
    },
    {
      "cell_type": "code",
      "source": [
        "matrix_c[matrix_c[:,:]%2==0]"
      ],
      "metadata": {
        "colab": {
          "base_uri": "https://localhost:8080/"
        },
        "id": "KU5Q4mzSl7Lj",
        "outputId": "4f3983c9-ff1f-4cab-c64f-3bc2ad928845"
      },
      "execution_count": null,
      "outputs": [
        {
          "output_type": "execute_result",
          "data": {
            "text/plain": [
              "array([ 2,  4,  6,  8, 10, 12, 14])"
            ]
          },
          "metadata": {},
          "execution_count": 11
        }
      ]
    },
    {
      "cell_type": "code",
      "source": [
        "matrix_c[(matrix_c[:,:]%2==0) | (matrix_c[:,:]<10)]"
      ],
      "metadata": {
        "colab": {
          "base_uri": "https://localhost:8080/"
        },
        "id": "XV2XUYrmmTtK",
        "outputId": "96b3d8d9-5267-4d6c-eed5-24b35610d270"
      },
      "execution_count": null,
      "outputs": [
        {
          "output_type": "execute_result",
          "data": {
            "text/plain": [
              "array([ 1,  2,  3,  4,  5,  6,  7,  8,  9, 10, 12, 14])"
            ]
          },
          "metadata": {},
          "execution_count": 17
        }
      ]
    },
    {
      "cell_type": "code",
      "source": [
        "matrix_d = np.array([[1,2,3,4,5],[5,4,3,2,1],[6,7,8,9,10],[11,12,13,14,15]])\n",
        "matrix_d"
      ],
      "metadata": {
        "id": "5EUvL0SOmtqy",
        "colab": {
          "base_uri": "https://localhost:8080/"
        },
        "outputId": "70e870e6-811c-46fa-f4dc-333af37b9b7e"
      },
      "execution_count": null,
      "outputs": [
        {
          "output_type": "execute_result",
          "data": {
            "text/plain": [
              "array([[ 1,  2,  3,  4,  5],\n",
              "       [ 5,  4,  3,  2,  1],\n",
              "       [ 6,  7,  8,  9, 10],\n",
              "       [11, 12, 13, 14, 15]])"
            ]
          },
          "metadata": {},
          "execution_count": 3
        }
      ]
    },
    {
      "cell_type": "code",
      "source": [
        "matrix_d[0,0]"
      ],
      "metadata": {
        "colab": {
          "base_uri": "https://localhost:8080/"
        },
        "id": "jNy0BjzVBqC4",
        "outputId": "dbbfb702-7f8a-4e5f-fabe-197bb7b29fac"
      },
      "execution_count": null,
      "outputs": [
        {
          "output_type": "execute_result",
          "data": {
            "text/plain": [
              "1"
            ]
          },
          "metadata": {},
          "execution_count": 4
        }
      ]
    },
    {
      "cell_type": "code",
      "source": [
        "type(matrix_d[0,0])"
      ],
      "metadata": {
        "colab": {
          "base_uri": "https://localhost:8080/"
        },
        "id": "wi2x2hAYB1kD",
        "outputId": "762e3226-0eee-41b7-b8db-3955f331e7dc"
      },
      "execution_count": null,
      "outputs": [
        {
          "output_type": "execute_result",
          "data": {
            "text/plain": [
              "numpy.int64"
            ]
          },
          "metadata": {},
          "execution_count": 5
        }
      ]
    },
    {
      "cell_type": "code",
      "source": [
        "matrix_d[0,0:1]"
      ],
      "metadata": {
        "colab": {
          "base_uri": "https://localhost:8080/"
        },
        "id": "01XjWGo8Em7P",
        "outputId": "c0439356-0773-40d4-9b27-4b6fff6a9ac9"
      },
      "execution_count": null,
      "outputs": [
        {
          "output_type": "execute_result",
          "data": {
            "text/plain": [
              "array([1])"
            ]
          },
          "metadata": {},
          "execution_count": 7
        }
      ]
    },
    {
      "cell_type": "code",
      "source": [
        "type(matrix_d[0,0:1])"
      ],
      "metadata": {
        "colab": {
          "base_uri": "https://localhost:8080/"
        },
        "id": "4rR7dz7OB56t",
        "outputId": "152adcf5-b4af-4385-a6af-72011797f31c"
      },
      "execution_count": null,
      "outputs": [
        {
          "output_type": "execute_result",
          "data": {
            "text/plain": [
              "numpy.ndarray"
            ]
          },
          "metadata": {},
          "execution_count": 6
        }
      ]
    },
    {
      "cell_type": "code",
      "source": [
        "matrix_d[1,0:5]"
      ],
      "metadata": {
        "colab": {
          "base_uri": "https://localhost:8080/"
        },
        "id": "fieLIHtyEha9",
        "outputId": "493985fb-b58f-4386-d307-bd4f981e7c07"
      },
      "execution_count": null,
      "outputs": [
        {
          "output_type": "execute_result",
          "data": {
            "text/plain": [
              "array([5, 4, 3, 2, 1])"
            ]
          },
          "metadata": {},
          "execution_count": 13
        }
      ]
    },
    {
      "cell_type": "code",
      "source": [
        "matrix_d[1,:]"
      ],
      "metadata": {
        "colab": {
          "base_uri": "https://localhost:8080/"
        },
        "id": "ZiNMhtBWEyu8",
        "outputId": "bef9f325-0449-4ba3-9b7e-e1094d111025"
      },
      "execution_count": null,
      "outputs": [
        {
          "output_type": "execute_result",
          "data": {
            "text/plain": [
              "array([5, 4, 3, 2, 1])"
            ]
          },
          "metadata": {},
          "execution_count": 14
        }
      ]
    },
    {
      "cell_type": "markdown",
      "source": [
        "scalar\n",
        "\n",
        "vector\n",
        "\n",
        "matrix"
      ],
      "metadata": {
        "id": "5_DSd8wCFgdm"
      }
    },
    {
      "cell_type": "code",
      "source": [
        "print(matrix_d[1,1].shape)\n",
        "print(matrix_d[0,0:1].shape)\n",
        "print(matrix_d[0:1,0:1].shape)"
      ],
      "metadata": {
        "colab": {
          "base_uri": "https://localhost:8080/"
        },
        "id": "oyKF16ufFN5n",
        "outputId": "2cad2f1f-eb18-430c-dc83-32fc63527eb8"
      },
      "execution_count": null,
      "outputs": [
        {
          "output_type": "stream",
          "name": "stdout",
          "text": [
            "()\n",
            "(1,)\n",
            "(1, 1)\n"
          ]
        }
      ]
    },
    {
      "cell_type": "code",
      "source": [
        "print(type(matrix_d[1,1]))\n",
        "print(type(matrix_d[0,0:1]))\n",
        "print(type(matrix_d[0:1,0:1]))"
      ],
      "metadata": {
        "colab": {
          "base_uri": "https://localhost:8080/"
        },
        "id": "nBpVp7vkGR23",
        "outputId": "80bb95d6-97af-4f3a-ce96-6eee1efdcfe9"
      },
      "execution_count": null,
      "outputs": [
        {
          "output_type": "stream",
          "name": "stdout",
          "text": [
            "<class 'numpy.int64'>\n",
            "<class 'numpy.ndarray'>\n",
            "<class 'numpy.ndarray'>\n"
          ]
        }
      ]
    },
    {
      "cell_type": "markdown",
      "source": [
        "# Generating Data with NumPy"
      ],
      "metadata": {
        "id": "XUFQ5cLY2aFl"
      }
    },
    {
      "cell_type": "markdown",
      "source": [
        "squeeze\n",
        "this function always makes numpy array with no shape"
      ],
      "metadata": {
        "id": "F1J7eFsKHml4"
      }
    },
    {
      "cell_type": "code",
      "source": [
        "matrix_d[1,1]"
      ],
      "metadata": {
        "colab": {
          "base_uri": "https://localhost:8080/"
        },
        "id": "blxcV565HKxM",
        "outputId": "886655bb-0649-40b7-e9dc-2f06dcc6462b"
      },
      "execution_count": null,
      "outputs": [
        {
          "output_type": "execute_result",
          "data": {
            "text/plain": [
              "4"
            ]
          },
          "metadata": {},
          "execution_count": 22
        }
      ]
    },
    {
      "cell_type": "code",
      "source": [
        "matrix_d[1,1].squeeze().shape"
      ],
      "metadata": {
        "colab": {
          "base_uri": "https://localhost:8080/"
        },
        "id": "jCbXBeIuIgF0",
        "outputId": "7da7a4cd-b98d-49dd-c384-6cc778b25328"
      },
      "execution_count": null,
      "outputs": [
        {
          "output_type": "execute_result",
          "data": {
            "text/plain": [
              "()"
            ]
          },
          "metadata": {},
          "execution_count": 25
        }
      ]
    },
    {
      "cell_type": "code",
      "source": [
        "print(matrix_d[1,1].squeeze())"
      ],
      "metadata": {
        "colab": {
          "base_uri": "https://localhost:8080/"
        },
        "id": "rNSTdIvNI40R",
        "outputId": "d073cece-4ed2-47b3-89f5-cf3c9e6064d7"
      },
      "execution_count": null,
      "outputs": [
        {
          "output_type": "stream",
          "name": "stdout",
          "text": [
            "4\n"
          ]
        }
      ]
    },
    {
      "cell_type": "code",
      "source": [
        "np.array(matrix_d[0,0:1])"
      ],
      "metadata": {
        "colab": {
          "base_uri": "https://localhost:8080/"
        },
        "id": "DL56bU7cJFSs",
        "outputId": "ec6a427f-4aa6-4161-df44-210dba189577"
      },
      "execution_count": null,
      "outputs": [
        {
          "output_type": "execute_result",
          "data": {
            "text/plain": [
              "array([1])"
            ]
          },
          "metadata": {},
          "execution_count": 27
        }
      ]
    },
    {
      "cell_type": "code",
      "source": [
        "np.array(matrix_d[0:1,0:1])"
      ],
      "metadata": {
        "colab": {
          "base_uri": "https://localhost:8080/"
        },
        "id": "EcoEMC9AJXmF",
        "outputId": "a1bc3aaa-64b6-49ad-e71a-31daee00d46f"
      },
      "execution_count": null,
      "outputs": [
        {
          "output_type": "execute_result",
          "data": {
            "text/plain": [
              "array([[1]])"
            ]
          },
          "metadata": {},
          "execution_count": 28
        }
      ]
    },
    {
      "cell_type": "code",
      "source": [
        "np.array(matrix_d[0,0])"
      ],
      "metadata": {
        "colab": {
          "base_uri": "https://localhost:8080/"
        },
        "id": "FK6n8h-PJdia",
        "outputId": "aff37607-8410-4b2c-b022-67aeba8e6718"
      },
      "execution_count": null,
      "outputs": [
        {
          "output_type": "execute_result",
          "data": {
            "text/plain": [
              "array(1)"
            ]
          },
          "metadata": {},
          "execution_count": 29
        }
      ]
    },
    {
      "cell_type": "markdown",
      "source": [
        "scalar\n",
        "\n",
        "scalar\n",
        "\n",
        "scalar"
      ],
      "metadata": {
        "id": "Hu9YH9OYJrio"
      }
    },
    {
      "cell_type": "code",
      "source": [
        "print(type(matrix_d[1,1].squeeze()))\n",
        "print(type(matrix_d[0,0:1].squeeze()))\n",
        "print(type(matrix_d[0:1,0:1].squeeze()))"
      ],
      "metadata": {
        "colab": {
          "base_uri": "https://localhost:8080/"
        },
        "id": "lj5RxQeaJlRd",
        "outputId": "522c763f-02e3-494b-9c05-3f3c98604117"
      },
      "execution_count": null,
      "outputs": [
        {
          "output_type": "stream",
          "name": "stdout",
          "text": [
            "<class 'numpy.int64'>\n",
            "<class 'numpy.ndarray'>\n",
            "<class 'numpy.ndarray'>\n"
          ]
        }
      ]
    },
    {
      "cell_type": "code",
      "source": [
        "print(matrix_d[1,1].squeeze().shape)\n",
        "print(matrix_d[0,0:1].squeeze().shape)\n",
        "print(matrix_d[0:1,0:1].squeeze().shape)"
      ],
      "metadata": {
        "colab": {
          "base_uri": "https://localhost:8080/"
        },
        "id": "ZgEcbMXsJ70u",
        "outputId": "8cd3be8c-143c-414b-baf4-0e08f3bbe856"
      },
      "execution_count": null,
      "outputs": [
        {
          "output_type": "stream",
          "name": "stdout",
          "text": [
            "()\n",
            "()\n",
            "()\n"
          ]
        }
      ]
    },
    {
      "cell_type": "markdown",
      "source": [
        "Function that quickly generate arrays of data"
      ],
      "metadata": {
        "id": "Zo3Uq3igLpR5"
      }
    },
    {
      "cell_type": "code",
      "source": [
        "array_em = np.empty(shape = (2,3))\n",
        "array_em"
      ],
      "metadata": {
        "colab": {
          "base_uri": "https://localhost:8080/"
        },
        "id": "Hd2Szj5mMNLQ",
        "outputId": "59799955-cc3b-44b8-b3aa-83efe5069b17"
      },
      "execution_count": null,
      "outputs": [
        {
          "output_type": "execute_result",
          "data": {
            "text/plain": [
              "array([[2.1048841e-316, 0.0000000e+000, 0.0000000e+000],\n",
              "       [0.0000000e+000, 0.0000000e+000, 0.0000000e+000]])"
            ]
          },
          "metadata": {},
          "execution_count": 37
        }
      ]
    },
    {
      "cell_type": "code",
      "source": [
        "array_ze = np.zeros(shape = (2,3))\n",
        "array_ze"
      ],
      "metadata": {
        "colab": {
          "base_uri": "https://localhost:8080/"
        },
        "id": "5p2t4HuWMLk2",
        "outputId": "c6b4de24-8c6c-4b02-b0c6-1e2e4f0ba7a3"
      },
      "execution_count": null,
      "outputs": [
        {
          "output_type": "execute_result",
          "data": {
            "text/plain": [
              "array([[0., 0., 0.],\n",
              "       [0., 0., 0.]])"
            ]
          },
          "metadata": {},
          "execution_count": 38
        }
      ]
    },
    {
      "cell_type": "code",
      "source": [
        "array_on = np.ones(shape = (2,3))\n",
        "array_on"
      ],
      "metadata": {
        "colab": {
          "base_uri": "https://localhost:8080/"
        },
        "id": "VvA5-pXxKPmP",
        "outputId": "c5608932-95bb-46bb-c65f-0f2765090bf4"
      },
      "execution_count": null,
      "outputs": [
        {
          "output_type": "execute_result",
          "data": {
            "text/plain": [
              "array([[1., 1., 1.],\n",
              "       [1., 1., 1.]])"
            ]
          },
          "metadata": {},
          "execution_count": 39
        }
      ]
    },
    {
      "cell_type": "code",
      "source": [
        "array_fu = np.full( shape = (2,3) , fill_value=2)\n",
        "array_fu"
      ],
      "metadata": {
        "colab": {
          "base_uri": "https://localhost:8080/"
        },
        "id": "SD4SW6yJOKJc",
        "outputId": "aeae3a3f-64cd-42b4-cbe2-e42b9ecc4961"
      },
      "execution_count": null,
      "outputs": [
        {
          "output_type": "execute_result",
          "data": {
            "text/plain": [
              "array([[2, 2, 2],\n",
              "       [2, 2, 2]])"
            ]
          },
          "metadata": {},
          "execution_count": 40
        }
      ]
    },
    {
      "cell_type": "code",
      "source": [
        "array_fu01 = np.full( shape = (2,3) , fill_value=\"hi\")\n",
        "array_fu01"
      ],
      "metadata": {
        "colab": {
          "base_uri": "https://localhost:8080/"
        },
        "id": "XasejKaFO0nh",
        "outputId": "3f4e3f1f-d0a1-420d-8e98-f7c565061f35"
      },
      "execution_count": null,
      "outputs": [
        {
          "output_type": "execute_result",
          "data": {
            "text/plain": [
              "array([['hi', 'hi', 'hi'],\n",
              "       ['hi', 'hi', 'hi']], dtype='<U2')"
            ]
          },
          "metadata": {},
          "execution_count": 41
        }
      ]
    },
    {
      "cell_type": "markdown",
      "source": [
        "Like"
      ],
      "metadata": {
        "id": "tqhSJp5KPTqn"
      }
    },
    {
      "cell_type": "code",
      "source": [
        "matrix_N = np.array([[1,2,3],[5,6,7],[8,9,10]])\n",
        "matrix_N"
      ],
      "metadata": {
        "colab": {
          "base_uri": "https://localhost:8080/"
        },
        "id": "etBvisoxPAKS",
        "outputId": "e7d093ed-34f2-4e14-b90b-e8886dec44ae"
      },
      "execution_count": null,
      "outputs": [
        {
          "output_type": "execute_result",
          "data": {
            "text/plain": [
              "array([[ 1,  2,  3],\n",
              "       [ 5,  6,  7],\n",
              "       [ 8,  9, 10]])"
            ]
          },
          "metadata": {},
          "execution_count": 42
        }
      ]
    },
    {
      "cell_type": "code",
      "source": [
        "array_em_li = np.empty_like(matrix_N)\n",
        "array_em_li"
      ],
      "metadata": {
        "colab": {
          "base_uri": "https://localhost:8080/"
        },
        "id": "J5jWlCWWP0zx",
        "outputId": "0b3198f3-4ce1-43b8-cd23-20e3862b4eca"
      },
      "execution_count": null,
      "outputs": [
        {
          "output_type": "execute_result",
          "data": {
            "text/plain": [
              "array([[           43569648,                   0, 3472600941795213322],\n",
              "       [                 49,     139892722105104,     139892721975456],\n",
              "       [    139892722113632,     139892721975440,                 112]])"
            ]
          },
          "metadata": {},
          "execution_count": 44
        }
      ]
    },
    {
      "cell_type": "code",
      "source": [
        "array_ze_li = np.zeros_like(matrix_N)\n",
        "array_ze_li"
      ],
      "metadata": {
        "colab": {
          "base_uri": "https://localhost:8080/"
        },
        "id": "J8XWWEeYQAl5",
        "outputId": "a8304db8-ce64-4bd1-a221-6b4de4d6209e"
      },
      "execution_count": null,
      "outputs": [
        {
          "output_type": "execute_result",
          "data": {
            "text/plain": [
              "array([[0, 0, 0],\n",
              "       [0, 0, 0],\n",
              "       [0, 0, 0]])"
            ]
          },
          "metadata": {},
          "execution_count": 45
        }
      ]
    },
    {
      "cell_type": "code",
      "source": [
        "array_fu_li = np.full_like(matrix_N , fill_value=(10) )\n",
        "array_fu_li"
      ],
      "metadata": {
        "colab": {
          "base_uri": "https://localhost:8080/"
        },
        "id": "Gno5XgNHQV0U",
        "outputId": "aa529f6c-0fe0-4575-856f-2b2f0af5f1bb"
      },
      "execution_count": null,
      "outputs": [
        {
          "output_type": "execute_result",
          "data": {
            "text/plain": [
              "array([[10, 10, 10],\n",
              "       [10, 10, 10],\n",
              "       [10, 10, 10]])"
            ]
          },
          "metadata": {},
          "execution_count": 47
        }
      ]
    },
    {
      "cell_type": "code",
      "source": [
        "array_on_li = np.ones_like(matrix_N)\n",
        "array_on_li"
      ],
      "metadata": {
        "colab": {
          "base_uri": "https://localhost:8080/"
        },
        "id": "tua5oOdmQs8i",
        "outputId": "d1c174e9-f6d5-4d95-9901-76d0b2165370"
      },
      "execution_count": null,
      "outputs": [
        {
          "output_type": "execute_result",
          "data": {
            "text/plain": [
              "array([[1, 1, 1],\n",
              "       [1, 1, 1],\n",
              "       [1, 1, 1]])"
            ]
          },
          "metadata": {},
          "execution_count": 49
        }
      ]
    },
    {
      "cell_type": "markdown",
      "source": [
        "arange = array range"
      ],
      "metadata": {
        "id": "Jr6dYe3wy5fp"
      }
    },
    {
      "cell_type": "code",
      "source": [
        "range(0,20)"
      ],
      "metadata": {
        "colab": {
          "base_uri": "https://localhost:8080/"
        },
        "id": "2LdcPbu0RJbA",
        "outputId": "75ec6573-8892-4642-a5c4-5192183ee856"
      },
      "execution_count": null,
      "outputs": [
        {
          "output_type": "execute_result",
          "data": {
            "text/plain": [
              "range(0, 20)"
            ]
          },
          "metadata": {},
          "execution_count": 2
        }
      ]
    },
    {
      "cell_type": "code",
      "source": [
        "list(range(0,20))"
      ],
      "metadata": {
        "colab": {
          "base_uri": "https://localhost:8080/"
        },
        "id": "tdvp_mPQzMDq",
        "outputId": "51da6750-eed3-4f76-a147-872aa7e04e97"
      },
      "execution_count": null,
      "outputs": [
        {
          "output_type": "execute_result",
          "data": {
            "text/plain": [
              "[0, 1, 2, 3, 4, 5, 6, 7, 8, 9, 10, 11, 12, 13, 14, 15, 16, 17, 18, 19]"
            ]
          },
          "metadata": {},
          "execution_count": 3
        }
      ]
    },
    {
      "cell_type": "code",
      "source": [
        "array_rng = np.arange(20)\n",
        "array_rng"
      ],
      "metadata": {
        "colab": {
          "base_uri": "https://localhost:8080/"
        },
        "id": "2ls_OZ3wzRjS",
        "outputId": "6cbacd6b-b406-4cc6-f2a1-dbe45627d1e6"
      },
      "execution_count": null,
      "outputs": [
        {
          "output_type": "execute_result",
          "data": {
            "text/plain": [
              "array([ 0,  1,  2,  3,  4,  5,  6,  7,  8,  9, 10, 11, 12, 13, 14, 15, 16,\n",
              "       17, 18, 19])"
            ]
          },
          "metadata": {},
          "execution_count": 4
        }
      ]
    },
    {
      "cell_type": "code",
      "source": [
        "array_rng_1 = np.arange(start= 0 , stop = 20 , step = 1.5)\n",
        "array_rng_1"
      ],
      "metadata": {
        "colab": {
          "base_uri": "https://localhost:8080/"
        },
        "id": "-Ne2b90gzyLr",
        "outputId": "98325f52-4766-4931-f74e-5486cef196b3"
      },
      "execution_count": null,
      "outputs": [
        {
          "output_type": "execute_result",
          "data": {
            "text/plain": [
              "array([ 0. ,  1.5,  3. ,  4.5,  6. ,  7.5,  9. , 10.5, 12. , 13.5, 15. ,\n",
              "       16.5, 18. , 19.5])"
            ]
          },
          "metadata": {},
          "execution_count": 7
        }
      ]
    },
    {
      "cell_type": "code",
      "source": [
        "array_rng_0 = np.arange(start= 0 , stop = 20 )\n",
        "array_rng_0"
      ],
      "metadata": {
        "colab": {
          "base_uri": "https://localhost:8080/"
        },
        "id": "1kmtfPs72bOI",
        "outputId": "85c247ae-8b75-40c6-fd22-5f603c2926ef"
      },
      "execution_count": null,
      "outputs": [
        {
          "output_type": "execute_result",
          "data": {
            "text/plain": [
              "array([ 0,  1,  2,  3,  4,  5,  6,  7,  8,  9, 10, 11, 12, 13, 14, 15, 16,\n",
              "       17, 18, 19])"
            ]
          },
          "metadata": {},
          "execution_count": 8
        }
      ]
    },
    {
      "cell_type": "code",
      "source": [
        "array_rng_2 = np.arange(start = 0 , stop = 20 , step = 2.5 , dtype = float)\n",
        "array_rng_2"
      ],
      "metadata": {
        "colab": {
          "base_uri": "https://localhost:8080/"
        },
        "id": "oeG4Tp2x2iKW",
        "outputId": "063ccbc6-ef02-4255-e967-d2bcbd1682c2"
      },
      "execution_count": null,
      "outputs": [
        {
          "output_type": "execute_result",
          "data": {
            "text/plain": [
              "array([ 0. ,  2.5,  5. ,  7.5, 10. , 12.5, 15. , 17.5])"
            ]
          },
          "metadata": {},
          "execution_count": 9
        }
      ]
    },
    {
      "cell_type": "code",
      "source": [
        "array_rng_3 = np.arange(start = 10 , stop = 100 , step = 1.5 , dtype = np.int32)\n",
        "array_rng_3"
      ],
      "metadata": {
        "colab": {
          "base_uri": "https://localhost:8080/"
        },
        "id": "Ebsxm0dd3GzC",
        "outputId": "97c466e7-3fee-4f7d-f00d-b4d1c2a9ada2"
      },
      "execution_count": null,
      "outputs": [
        {
          "output_type": "execute_result",
          "data": {
            "text/plain": [
              "array([10, 11, 12, 13, 14, 15, 16, 17, 18, 19, 20, 21, 22, 23, 24, 25, 26,\n",
              "       27, 28, 29, 30, 31, 32, 33, 34, 35, 36, 37, 38, 39, 40, 41, 42, 43,\n",
              "       44, 45, 46, 47, 48, 49, 50, 51, 52, 53, 54, 55, 56, 57, 58, 59, 60,\n",
              "       61, 62, 63, 64, 65, 66, 67, 68, 69], dtype=int32)"
            ]
          },
          "metadata": {},
          "execution_count": 11
        }
      ]
    },
    {
      "cell_type": "code",
      "source": [
        "array_rng_4 = np.arange(start = 10 , stop = 100 , step = 1.5 , dtype = float)\n",
        "array_rng_4"
      ],
      "metadata": {
        "colab": {
          "base_uri": "https://localhost:8080/"
        },
        "id": "Z-LOgQ_i3rvY",
        "outputId": "149d42e2-23cd-4838-909d-3bdcb7937240"
      },
      "execution_count": null,
      "outputs": [
        {
          "output_type": "execute_result",
          "data": {
            "text/plain": [
              "array([10. , 11.5, 13. , 14.5, 16. , 17.5, 19. , 20.5, 22. , 23.5, 25. ,\n",
              "       26.5, 28. , 29.5, 31. , 32.5, 34. , 35.5, 37. , 38.5, 40. , 41.5,\n",
              "       43. , 44.5, 46. , 47.5, 49. , 50.5, 52. , 53.5, 55. , 56.5, 58. ,\n",
              "       59.5, 61. , 62.5, 64. , 65.5, 67. , 68.5, 70. , 71.5, 73. , 74.5,\n",
              "       76. , 77.5, 79. , 80.5, 82. , 83.5, 85. , 86.5, 88. , 89.5, 91. ,\n",
              "       92.5, 94. , 95.5, 97. , 98.5])"
            ]
          },
          "metadata": {},
          "execution_count": 13
        }
      ]
    },
    {
      "cell_type": "markdown",
      "source": [
        "permutation congruential generator = pcg64"
      ],
      "metadata": {
        "id": "4fK6tpaQ65Wc"
      }
    },
    {
      "cell_type": "code",
      "source": [
        "from numpy.random import Generator as gen\n",
        "from numpy.random import PCG64 as pcg"
      ],
      "metadata": {
        "id": "HiHfOfQV37ll"
      },
      "execution_count": null,
      "outputs": []
    },
    {
      "cell_type": "code",
      "source": [
        "array_gen = gen(pcg())\n",
        "array_gen.random(size=(5,5))"
      ],
      "metadata": {
        "colab": {
          "base_uri": "https://localhost:8080/"
        },
        "id": "Rgm_qhKS5tRE",
        "outputId": "8ebf3870-5e6b-4f82-d3b8-0e681aaeacc7"
      },
      "execution_count": null,
      "outputs": [
        {
          "output_type": "execute_result",
          "data": {
            "text/plain": [
              "array([[0.3236044 , 0.8937977 , 0.91576721, 0.34088638, 0.39245088],\n",
              "       [0.49608156, 0.65935394, 0.05064988, 0.91099938, 0.71106729],\n",
              "       [0.93457475, 0.42606001, 0.67916486, 0.86895572, 0.95564025],\n",
              "       [0.75355049, 0.56636651, 0.73731151, 0.23851435, 0.91478381],\n",
              "       [0.06953981, 0.25963163, 0.10032163, 0.35898278, 0.36987065]])"
            ]
          },
          "metadata": {},
          "execution_count": 20
        }
      ]
    },
    {
      "cell_type": "code",
      "source": [
        "array_gen_0 = gen(pcg(seed=65))\n",
        "array_gen_0.random(size=(5,5))"
      ],
      "metadata": {
        "colab": {
          "base_uri": "https://localhost:8080/"
        },
        "id": "F0Nmks6R_pvV",
        "outputId": "2591804f-d189-4485-a956-404e1212e23c"
      },
      "execution_count": null,
      "outputs": [
        {
          "output_type": "execute_result",
          "data": {
            "text/plain": [
              "array([[0.04739149, 0.51822218, 0.37485856, 0.22867852, 0.94172319],\n",
              "       [0.59450155, 0.27885084, 0.04311748, 0.14423914, 0.01065197],\n",
              "       [0.31514662, 0.02572118, 0.94437018, 0.49617256, 0.37480029],\n",
              "       [0.85658163, 0.62928319, 0.48360592, 0.90823988, 0.36357074],\n",
              "       [0.55447095, 0.99886465, 0.16437728, 0.53619405, 0.44985538]])"
            ]
          },
          "metadata": {},
          "execution_count": 21
        }
      ]
    },
    {
      "cell_type": "code",
      "source": [
        "array_gen_1 = gen(pcg(seed=365))\n",
        "array_gen_1.integers(10 , size=(5,5))"
      ],
      "metadata": {
        "colab": {
          "base_uri": "https://localhost:8080/"
        },
        "id": "q_ske8Xa_8XQ",
        "outputId": "23e5adf0-33be-41a2-93db-59120b022cd9"
      },
      "execution_count": null,
      "outputs": [
        {
          "output_type": "execute_result",
          "data": {
            "text/plain": [
              "array([[0, 7, 6, 7, 8],\n",
              "       [6, 6, 2, 0, 6],\n",
              "       [3, 0, 3, 7, 9],\n",
              "       [1, 1, 8, 7, 4],\n",
              "       [4, 8, 6, 4, 9]])"
            ]
          },
          "metadata": {},
          "execution_count": 24
        }
      ]
    },
    {
      "cell_type": "code",
      "source": [
        "array_gen_1.integers(low=10,high=1000,size=(5,5))"
      ],
      "metadata": {
        "colab": {
          "base_uri": "https://localhost:8080/"
        },
        "id": "sCKfxw4uEx_R",
        "outputId": "4efff484-66db-4605-9069-667d6622ff3a"
      },
      "execution_count": null,
      "outputs": [
        {
          "output_type": "execute_result",
          "data": {
            "text/plain": [
              "array([[ 82, 785, 699, 110, 373],\n",
              "       [159, 304, 416, 504, 726],\n",
              "       [491, 232, 631, 378, 554],\n",
              "       [ 63, 652, 218,  53, 542],\n",
              "       [723, 724, 847, 317, 179]])"
            ]
          },
          "metadata": {},
          "execution_count": 25
        }
      ]
    },
    {
      "cell_type": "code",
      "source": [
        "array_gen_1.integers(low=0,high=1,size=(5,5))"
      ],
      "metadata": {
        "colab": {
          "base_uri": "https://localhost:8080/"
        },
        "id": "ElEiGu-wF9dz",
        "outputId": "1795cc90-76dc-4e8e-d947-e4c103294574"
      },
      "execution_count": null,
      "outputs": [
        {
          "output_type": "execute_result",
          "data": {
            "text/plain": [
              "array([[0, 0, 0, 0, 0],\n",
              "       [0, 0, 0, 0, 0],\n",
              "       [0, 0, 0, 0, 0],\n",
              "       [0, 0, 0, 0, 0],\n",
              "       [0, 0, 0, 0, 0]])"
            ]
          },
          "metadata": {},
          "execution_count": 26
        }
      ]
    },
    {
      "cell_type": "code",
      "source": [
        "array_gen_1.random(size=(5,5))"
      ],
      "metadata": {
        "colab": {
          "base_uri": "https://localhost:8080/"
        },
        "id": "6oxv-MX-GIXJ",
        "outputId": "4ec0a0a7-ed99-4226-d048-47a9de870ce2"
      },
      "execution_count": null,
      "outputs": [
        {
          "output_type": "execute_result",
          "data": {
            "text/plain": [
              "array([[0.72989385, 0.31220331, 0.4966964 , 0.62633289, 0.25432223],\n",
              "       [0.27184357, 0.58527261, 0.47582808, 0.31213978, 0.86326571],\n",
              "       [0.69308801, 0.03810334, 0.7685183 , 0.35663042, 0.10106293],\n",
              "       [0.84993589, 0.33190844, 0.20269642, 0.33520176, 0.98973619],\n",
              "       [0.64291474, 0.32662863, 0.61190909, 0.35667588, 0.04772906]])"
            ]
          },
          "metadata": {},
          "execution_count": 29
        }
      ]
    },
    {
      "cell_type": "code",
      "source": [
        "array_gen_1.choice([1,2,3,4,5],size=(5,5))"
      ],
      "metadata": {
        "colab": {
          "base_uri": "https://localhost:8080/"
        },
        "id": "b-q9zh2FGSvk",
        "outputId": "b7c7de10-f248-4731-aa5e-bb011035b696"
      },
      "execution_count": null,
      "outputs": [
        {
          "output_type": "execute_result",
          "data": {
            "text/plain": [
              "array([[4, 5, 2, 3, 2],\n",
              "       [1, 5, 5, 1, 5],\n",
              "       [1, 5, 4, 4, 5],\n",
              "       [1, 5, 2, 5, 1],\n",
              "       [3, 2, 3, 1, 5]])"
            ]
          },
          "metadata": {},
          "execution_count": 30
        }
      ]
    },
    {
      "cell_type": "code",
      "source": [
        "array_gen_1.choice([1,2,3,4,5],p=[0.2,0.2,0.1,0.3,0.2],size=(5,5))"
      ],
      "metadata": {
        "colab": {
          "base_uri": "https://localhost:8080/"
        },
        "id": "O-GIsHOxJRWz",
        "outputId": "3fd1840c-81f1-48b8-b0c8-4b6dcb52bd3d"
      },
      "execution_count": null,
      "outputs": [
        {
          "output_type": "execute_result",
          "data": {
            "text/plain": [
              "array([[4, 2, 4, 5, 1],\n",
              "       [5, 3, 5, 2, 4],\n",
              "       [1, 5, 2, 1, 4],\n",
              "       [1, 2, 5, 5, 4],\n",
              "       [5, 2, 5, 2, 4]])"
            ]
          },
          "metadata": {},
          "execution_count": 31
        }
      ]
    },
    {
      "cell_type": "markdown",
      "source": [],
      "metadata": {
        "id": "s_BnvBmu20F0"
      }
    },
    {
      "cell_type": "markdown",
      "source": [
        "lambada = 1\n",
        "\n",
        "توزیع پواسون\n",
        "\n",
        "\n",
        "![Untitled.png](data:image/png;base64,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)"
      ],
      "metadata": {
        "id": "9I7I3Qzj39fa"
      }
    },
    {
      "cell_type": "markdown",
      "source": [
        "یک توزیع احتمالی گسسته است که احتمال اینکه یک حادثه به تعداد مشخصی در فاصلهٔ زمانی یا مکانی ثابتی رخ دهد را شرح می‌دهد؛ به شرط اینکه این حوادث با نرخ میانگین مشخصی و مستقل از زمان آخرین حادثه رخ دهند."
      ],
      "metadata": {
        "id": "9M5ndunv7YWj"
      }
    },
    {
      "cell_type": "markdown",
      "source": [
        "اگر امید ریاضی ظهورها در این بازه λ باشد، احتمال اینکه دقیقاً k ظهور داشته باشیم (k عدد صحیح نامنفی است، k=۰، ۱، ۲، …) برابر است"
      ],
      "metadata": {
        "id": "pk49Lz4E7lQB"
      }
    },
    {
      "cell_type": "code",
      "source": [
        "array_rg_0 = gen(pcg(seed=34))\n",
        "array_rg_0.poisson(size = (5,5))"
      ],
      "metadata": {
        "id": "Z8-3yqyaKMk8",
        "colab": {
          "base_uri": "https://localhost:8080/"
        },
        "outputId": "191145ef-85e7-4378-c215-405db4f0cd6a"
      },
      "execution_count": null,
      "outputs": [
        {
          "output_type": "execute_result",
          "data": {
            "text/plain": [
              "array([[0, 1, 1, 3, 4],\n",
              "       [3, 1, 0, 0, 2],\n",
              "       [1, 2, 1, 1, 0],\n",
              "       [1, 0, 2, 2, 0],\n",
              "       [1, 0, 3, 1, 1]])"
            ]
          },
          "metadata": {},
          "execution_count": 4
        }
      ]
    },
    {
      "cell_type": "markdown",
      "source": [
        "lambda = 10"
      ],
      "metadata": {
        "id": "ZhIMG9mL4C3S"
      }
    },
    {
      "cell_type": "code",
      "source": [
        "array_rg_0 = gen(pcg(seed=34))\n",
        "array_rg_0.poisson(lam = 10 , size = (5,5))"
      ],
      "metadata": {
        "colab": {
          "base_uri": "https://localhost:8080/"
        },
        "id": "8hPEqJaY2XVq",
        "outputId": "482fcf5a-ae5b-4e84-964b-76739309f999"
      },
      "execution_count": null,
      "outputs": [
        {
          "output_type": "execute_result",
          "data": {
            "text/plain": [
              "array([[ 7, 10, 15, 13, 15],\n",
              "       [ 9,  5, 12,  8, 11],\n",
              "       [11, 11,  8, 10, 16],\n",
              "       [ 8,  6, 13, 15, 11],\n",
              "       [10,  8,  9, 12, 11]])"
            ]
          },
          "metadata": {},
          "execution_count": 5
        }
      ]
    },
    {
      "cell_type": "code",
      "source": [
        "s = np.random.poisson(5, 10000)\n",
        "s"
      ],
      "metadata": {
        "colab": {
          "base_uri": "https://localhost:8080/"
        },
        "id": "thhi-v8L3Qrq",
        "outputId": "2a406926-83f2-48fe-870b-2213fb1902f9"
      },
      "execution_count": null,
      "outputs": [
        {
          "output_type": "execute_result",
          "data": {
            "text/plain": [
              "array([5, 6, 5, ..., 4, 6, 5])"
            ]
          },
          "metadata": {},
          "execution_count": 6
        }
      ]
    },
    {
      "cell_type": "code",
      "source": [
        "import matplotlib.pyplot as plt\n",
        "count, bins, ignored = plt.hist(s, 14, density=True)\n",
        "plt.show()"
      ],
      "metadata": {
        "colab": {
          "base_uri": "https://localhost:8080/",
          "height": 430
        },
        "id": "ijq3DD2r5W0U",
        "outputId": "c1dfe74c-035d-4ca3-fb95-672d891b0d3d"
      },
      "execution_count": null,
      "outputs": [
        {
          "output_type": "display_data",
          "data": {
            "text/plain": [
              "<Figure size 640x480 with 1 Axes>"
            ],
            "image/png": "[encoded data removed]"
          },
          "metadata": {}
        }
      ]
    },
    {
      "cell_type": "markdown",
      "source": [
        "توزیع دو جمله ای\n",
        "\n",
        "\n",
        "\n",
        "(\n",
        "n\n",
        "x\n",
        ")\n",
        "=\n",
        "n\n",
        "!\n",
        "divided\n",
        "x\n",
        "!\n",
        "(\n",
        "n\n",
        "−\n",
        "x\n",
        ")\n",
        "!\n",
        "\n",
        "\n",
        "\n",
        "![Untitled.png](data:image/png;base64,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)"
      ],
      "metadata": {
        "id": "Cp67OCtY_6Aq"
      }
    },
    {
      "cell_type": "code",
      "source": [
        "array_rg_1 = gen(pcg(seed=25))\n",
        "array_rg_1.binomial(n = 50 , p = 0.7, size=(5,5))"
      ],
      "metadata": {
        "colab": {
          "base_uri": "https://localhost:8080/"
        },
        "id": "MXVbXxEy5liB",
        "outputId": "ee53608d-f70a-4df9-9a96-31524bf1b29f"
      },
      "execution_count": null,
      "outputs": [
        {
          "output_type": "execute_result",
          "data": {
            "text/plain": [
              "array([[38, 45, 38, 36, 44],\n",
              "       [38, 27, 32, 39, 37],\n",
              "       [33, 30, 36, 32, 38],\n",
              "       [35, 34, 32, 37, 36],\n",
              "       [36, 39, 34, 35, 35]])"
            ]
          },
          "metadata": {},
          "execution_count": 11
        }
      ]
    },
    {
      "cell_type": "markdown",
      "source": [
        "توزیع لجستیک\n",
        "\n",
        "\n",
        "\n",
        "![Untitled.png](data:image/png;base64,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)"
      ],
      "metadata": {
        "id": "YeCL1P1SCL1g"
      }
    },
    {
      "cell_type": "code",
      "source": [
        "array_rg_2 = gen(pcg(seed=25))\n",
        "array_rg_2.logistic(size=(5,5))"
      ],
      "metadata": {
        "colab": {
          "base_uri": "https://localhost:8080/"
        },
        "id": "Ov5VBn8p-bBU",
        "outputId": "791d4a05-5c95-4bb3-eeea-fc71694a5374"
      },
      "execution_count": null,
      "outputs": [
        {
          "output_type": "execute_result",
          "data": {
            "text/plain": [
              "array([[-1.65287152, -8.07208257, -1.28560014, -0.54068049, -6.19956094],\n",
              "       [-1.43010143,  4.68615349,  1.30654409, -1.9803538 , -1.23234468],\n",
              "       [ 1.19047805,  2.40014334, -0.6022823 ,  1.29924113, -1.76056759],\n",
              "       [ 0.16730338,  0.39240351,  1.32432785, -0.95125613, -0.34896466],\n",
              "       [-0.50625924, -1.83277171,  0.73522058,  0.23045243,  0.02472657]])"
            ]
          },
          "metadata": {},
          "execution_count": 13
        }
      ]
    },
    {
      "cell_type": "code",
      "source": [
        "array_column_1 = array_rg_2.normal(loc=2,scale=3,size=(1000))\n",
        "array_column_2 = array_rg_2.normal(loc=7,scale=2,size=(1000))\n",
        "array_column_3 = array_rg_2.logistic(loc=2,scale=3,size=(1000))\n",
        "array_column_4 = array_rg_2.exponential(scale=4,size=(1000))\n",
        "array_column_5 = array_rg_2.geometric(p=0.7,size=(1000))"
      ],
      "metadata": {
        "id": "hBXTKUTyBAeF"
      },
      "execution_count": null,
      "outputs": []
    },
    {
      "cell_type": "code",
      "source": [
        "random_test = np.array([array_column_1,array_column_2,array_column_3,array_column_4,array_column_5]).transpose()\n",
        "random_test"
      ],
      "metadata": {
        "colab": {
          "base_uri": "https://localhost:8080/"
        },
        "id": "3QDypvUzGYD7",
        "outputId": "48c448b7-1430-4fa8-d012-1d7f26edb329"
      },
      "execution_count": null,
      "outputs": [
        {
          "output_type": "execute_result",
          "data": {
            "text/plain": [
              "array([[ 1.41611617,  6.91150541, -2.44907777,  0.08892906,  1.        ],\n",
              "       [ 2.32296388,  7.48934418, -4.6957006 , 10.65903382,  1.        ],\n",
              "       [-2.25412055,  9.80596546, -3.53463251,  3.67438189,  1.        ],\n",
              "       ...,\n",
              "       [ 0.16481851, 10.83646277,  1.68075974,  3.37418858,  1.        ],\n",
              "       [ 1.00952747,  4.85179042, -1.76641638,  3.29401254,  1.        ],\n",
              "       [ 0.6457797 ,  6.73848729,  2.06480699,  2.76310271,  1.        ]])"
            ]
          },
          "metadata": {},
          "execution_count": 46
        }
      ]
    },
    {
      "cell_type": "code",
      "source": [
        "random_test.shape"
      ],
      "metadata": {
        "colab": {
          "base_uri": "https://localhost:8080/"
        },
        "id": "adfydluaGy9b",
        "outputId": "01aea810-7fb7-4914-cb18-51fd9d8ac25c"
      },
      "execution_count": null,
      "outputs": [
        {
          "output_type": "execute_result",
          "data": {
            "text/plain": [
              "(1000, 5)"
            ]
          },
          "metadata": {},
          "execution_count": 47
        }
      ]
    },
    {
      "cell_type": "code",
      "source": [
        "np.savetxt(\"random_test.csv\",random_test,fmt=\"%s\",delimiter=\",\")"
      ],
      "metadata": {
        "id": "l6Z1JTt2HAeR"
      },
      "execution_count": null,
      "outputs": []
    },
    {
      "cell_type": "markdown",
      "source": [
        "# Importing and Saving Data"
      ],
      "metadata": {
        "id": "psjOnupR2r56"
      }
    },
    {
      "cell_type": "markdown",
      "source": [
        "generate from txt genfromtxt()\n",
        "\n",
        "\n",
        "load from txt  loadtxt()   is faster but it breaks when we feed it incomplete or ill-format"
      ],
      "metadata": {
        "id": "rK98RDjgS0Gw"
      }
    },
    {
      "cell_type": "code",
      "source": [
        "loading_one = np.loadtxt(\"random_test.csv\",delimiter=\",\")\n",
        "loading_one"
      ],
      "metadata": {
        "colab": {
          "base_uri": "https://localhost:8080/"
        },
        "id": "9umO9bIHKQgU",
        "outputId": "bf0d6a04-9b47-408d-afb0-db1a916811db"
      },
      "execution_count": null,
      "outputs": [
        {
          "output_type": "execute_result",
          "data": {
            "text/plain": [
              "array([[ 1.41611617,  6.91150541, -2.44907777,  0.08892906,  1.        ],\n",
              "       [ 2.32296388,  7.48934418, -4.6957006 , 10.65903382,  1.        ],\n",
              "       [-2.25412055,  9.80596546, -3.53463251,  3.67438189,  1.        ],\n",
              "       ...,\n",
              "       [ 0.16481851, 10.83646277,  1.68075974,  3.37418858,  1.        ],\n",
              "       [ 1.00952747,  4.85179042, -1.76641638,  3.29401254,  1.        ],\n",
              "       [ 0.6457797 ,  6.73848729,  2.06480699,  2.76310271,  1.        ]])"
            ]
          },
          "metadata": {},
          "execution_count": 52
        }
      ]
    },
    {
      "cell_type": "code",
      "source": [
        "loading_two = np.genfromtxt(\"random_test.csv\",delimiter=\",\")\n",
        "loading_two"
      ],
      "metadata": {
        "colab": {
          "base_uri": "https://localhost:8080/"
        },
        "id": "cmkCTjPwTJ0J",
        "outputId": "4f2effb0-9413-4fbc-adf5-62cb8efcbf53"
      },
      "execution_count": null,
      "outputs": [
        {
          "output_type": "execute_result",
          "data": {
            "text/plain": [
              "array([[ 1.41611617,  6.91150541, -2.44907777,  0.08892906,  1.        ],\n",
              "       [ 2.32296388,  7.48934418, -4.6957006 , 10.65903382,  1.        ],\n",
              "       [-2.25412055,  9.80596546, -3.53463251,  3.67438189,  1.        ],\n",
              "       ...,\n",
              "       [ 0.16481851, 10.83646277,  1.68075974,  3.37418858,  1.        ],\n",
              "       [ 1.00952747,  4.85179042, -1.76641638,  3.29401254,  1.        ],\n",
              "       [ 0.6457797 ,  6.73848729,  2.06480699,  2.76310271,  1.        ]])"
            ]
          },
          "metadata": {},
          "execution_count": 54
        }
      ]
    },
    {
      "cell_type": "code",
      "source": [
        "loading_three = np.loadtxt(\"Lending-Company-Numeric-Data-NAN.csv\",delimiter=\",\")\n",
        "loading_three"
      ],
      "metadata": {
        "colab": {
          "base_uri": "https://localhost:8080/",
          "height": 341
        },
        "id": "qHH6oa7R8Vuk",
        "outputId": "0ccaf3f1-e2b5-401d-d5d7-f4bcc08bcee1"
      },
      "execution_count": null,
      "outputs": [
        {
          "output_type": "error",
          "ename": "ValueError",
          "evalue": "ignored",
          "traceback": [
            "\u001b[0;31m---------------------------------------------------------------------------\u001b[0m",
            "\u001b[0;31mValueError\u001b[0m                                Traceback (most recent call last)",
            "\u001b[0;32m<ipython-input-63-3ceaa3f3f806>\u001b[0m in \u001b[0;36m<cell line: 1>\u001b[0;34m()\u001b[0m\n\u001b[0;32m----> 1\u001b[0;31m \u001b[0mloading_three\u001b[0m \u001b[0;34m=\u001b[0m \u001b[0mnp\u001b[0m\u001b[0;34m.\u001b[0m\u001b[0mloadtxt\u001b[0m\u001b[0;34m(\u001b[0m\u001b[0;34m\"1.3 Lending-Company-Numeric-Data-NAN.csv\"\u001b[0m\u001b[0;34m,\u001b[0m\u001b[0mdelimiter\u001b[0m\u001b[0;34m=\u001b[0m\u001b[0;34m\",\"\u001b[0m\u001b[0;34m)\u001b[0m\u001b[0;34m\u001b[0m\u001b[0;34m\u001b[0m\u001b[0m\n\u001b[0m\u001b[1;32m      2\u001b[0m \u001b[0mloading_three\u001b[0m\u001b[0;34m\u001b[0m\u001b[0;34m\u001b[0m\u001b[0m\n",
            "\u001b[0;32m/usr/local/lib/python3.10/dist-packages/numpy/lib/npyio.py\u001b[0m in \u001b[0;36mloadtxt\u001b[0;34m(fname, dtype, comments, delimiter, converters, skiprows, usecols, unpack, ndmin, encoding, max_rows, like)\u001b[0m\n\u001b[1;32m   1161\u001b[0m                 \u001b[0;31m# Convert each value according to its column, then pack it\u001b[0m\u001b[0;34m\u001b[0m\u001b[0;34m\u001b[0m\u001b[0m\n\u001b[1;32m   1162\u001b[0m                 \u001b[0;31m# according to the dtype's nesting, and store it.\u001b[0m\u001b[0;34m\u001b[0m\u001b[0;34m\u001b[0m\u001b[0m\n\u001b[0;32m-> 1163\u001b[0;31m                 \u001b[0mchunk\u001b[0m\u001b[0;34m.\u001b[0m\u001b[0mappend\u001b[0m\u001b[0;34m(\u001b[0m\u001b[0mpacker\u001b[0m\u001b[0;34m(\u001b[0m\u001b[0mconvert_row\u001b[0m\u001b[0;34m(\u001b[0m\u001b[0mwords\u001b[0m\u001b[0;34m)\u001b[0m\u001b[0;34m)\u001b[0m\u001b[0;34m)\u001b[0m\u001b[0;34m\u001b[0m\u001b[0;34m\u001b[0m\u001b[0m\n\u001b[0m\u001b[1;32m   1164\u001b[0m             \u001b[0;32mif\u001b[0m \u001b[0;32mnot\u001b[0m \u001b[0mchunk\u001b[0m\u001b[0;34m:\u001b[0m  \u001b[0;31m# The islice is empty, i.e. we're done.\u001b[0m\u001b[0;34m\u001b[0m\u001b[0;34m\u001b[0m\u001b[0m\n\u001b[1;32m   1165\u001b[0m                 \u001b[0;32mbreak\u001b[0m\u001b[0;34m\u001b[0m\u001b[0;34m\u001b[0m\u001b[0m\n",
            "\u001b[0;32m/usr/local/lib/python3.10/dist-packages/numpy/lib/npyio.py\u001b[0m in \u001b[0;36mconvert_row\u001b[0;34m(vals, _conv)\u001b[0m\n\u001b[1;32m   1140\u001b[0m             \u001b[0;31m# equal dtypes.\u001b[0m\u001b[0;34m\u001b[0m\u001b[0;34m\u001b[0m\u001b[0m\n\u001b[1;32m   1141\u001b[0m             \u001b[0;32mdef\u001b[0m \u001b[0mconvert_row\u001b[0m\u001b[0;34m(\u001b[0m\u001b[0mvals\u001b[0m\u001b[0;34m,\u001b[0m \u001b[0m_conv\u001b[0m\u001b[0;34m=\u001b[0m\u001b[0mconverters\u001b[0m\u001b[0;34m[\u001b[0m\u001b[0;36m0\u001b[0m\u001b[0;34m]\u001b[0m\u001b[0;34m)\u001b[0m\u001b[0;34m:\u001b[0m\u001b[0;34m\u001b[0m\u001b[0;34m\u001b[0m\u001b[0m\n\u001b[0;32m-> 1142\u001b[0;31m                 \u001b[0;32mreturn\u001b[0m \u001b[0;34m[\u001b[0m\u001b[0;34m*\u001b[0m\u001b[0mmap\u001b[0m\u001b[0;34m(\u001b[0m\u001b[0m_conv\u001b[0m\u001b[0;34m,\u001b[0m \u001b[0mvals\u001b[0m\u001b[0;34m)\u001b[0m\u001b[0;34m]\u001b[0m\u001b[0;34m\u001b[0m\u001b[0;34m\u001b[0m\u001b[0m\n\u001b[0m\u001b[1;32m   1143\u001b[0m         \u001b[0;32melse\u001b[0m\u001b[0;34m:\u001b[0m\u001b[0;34m\u001b[0m\u001b[0;34m\u001b[0m\u001b[0m\n\u001b[1;32m   1144\u001b[0m             \u001b[0;32mdef\u001b[0m \u001b[0mconvert_row\u001b[0m\u001b[0;34m(\u001b[0m\u001b[0mvals\u001b[0m\u001b[0;34m)\u001b[0m\u001b[0;34m:\u001b[0m\u001b[0;34m\u001b[0m\u001b[0;34m\u001b[0m\u001b[0m\n",
            "\u001b[0;32m/usr/local/lib/python3.10/dist-packages/numpy/lib/npyio.py\u001b[0m in \u001b[0;36m_floatconv\u001b[0;34m(x)\u001b[0m\n\u001b[1;32m    723\u001b[0m \u001b[0;32mdef\u001b[0m \u001b[0m_floatconv\u001b[0m\u001b[0;34m(\u001b[0m\u001b[0mx\u001b[0m\u001b[0;34m)\u001b[0m\u001b[0;34m:\u001b[0m\u001b[0;34m\u001b[0m\u001b[0;34m\u001b[0m\u001b[0m\n\u001b[1;32m    724\u001b[0m     \u001b[0;32mtry\u001b[0m\u001b[0;34m:\u001b[0m\u001b[0;34m\u001b[0m\u001b[0;34m\u001b[0m\u001b[0m\n\u001b[0;32m--> 725\u001b[0;31m         \u001b[0;32mreturn\u001b[0m \u001b[0mfloat\u001b[0m\u001b[0;34m(\u001b[0m\u001b[0mx\u001b[0m\u001b[0;34m)\u001b[0m  \u001b[0;31m# The fastest path.\u001b[0m\u001b[0;34m\u001b[0m\u001b[0;34m\u001b[0m\u001b[0m\n\u001b[0m\u001b[1;32m    726\u001b[0m     \u001b[0;32mexcept\u001b[0m \u001b[0mValueError\u001b[0m\u001b[0;34m:\u001b[0m\u001b[0;34m\u001b[0m\u001b[0;34m\u001b[0m\u001b[0m\n\u001b[1;32m    727\u001b[0m         \u001b[0;32mif\u001b[0m \u001b[0;34m'0x'\u001b[0m \u001b[0;32min\u001b[0m \u001b[0mx\u001b[0m\u001b[0;34m:\u001b[0m  \u001b[0;31m# Don't accidentally convert \"a\" (\"0xa\") to 10.\u001b[0m\u001b[0;34m\u001b[0m\u001b[0;34m\u001b[0m\u001b[0m\n",
            "\u001b[0;31mValueError\u001b[0m: could not convert string to float: '2000;40;365;3121;4241;13621'"
          ]
        }
      ]
    },
    {
      "cell_type": "code",
      "source": [
        "loading_three = np.loadtxt(\"Lending-Company-Numeric-Data-NAN.csv\",delimiter=\",\",dtype=np.str_)\n",
        "loading_three"
      ],
      "metadata": {
        "colab": {
          "base_uri": "https://localhost:8080/"
        },
        "id": "i7bVgxz7-sor",
        "outputId": "9a47399e-31e2-471e-8153-78f069af3793"
      },
      "execution_count": null,
      "outputs": [
        {
          "output_type": "execute_result",
          "data": {
            "text/plain": [
              "array(['2000;40;365;3121;4241;13621', '2000;40;365;3061;4171;15041',\n",
              "       '1000;40;365;2160;3280;15340', ..., ';40;365;4201;5001;16600',\n",
              "       '1000;40;365;2080;3320;15600', '2000;40;365;4601;4601;16600'],\n",
              "      dtype='<U30')"
            ]
          },
          "metadata": {},
          "execution_count": 64
        }
      ]
    },
    {
      "cell_type": "code",
      "source": [
        "loading_three = np.genfromtxt(\"Lending-Company-Numeric-Data-NAN.csv\",delimiter=\",\")\n",
        "loading_three"
      ],
      "metadata": {
        "colab": {
          "base_uri": "https://localhost:8080/"
        },
        "id": "eqWaw0GH8t-l",
        "outputId": "71ffba05-39a7-43d3-fcb3-4c48c85e4321"
      },
      "execution_count": null,
      "outputs": [
        {
          "output_type": "execute_result",
          "data": {
            "text/plain": [
              "array([nan, nan, nan, ..., nan, nan, nan])"
            ]
          },
          "metadata": {},
          "execution_count": 62
        }
      ]
    },
    {
      "cell_type": "code",
      "source": [
        "loading_three = np.genfromtxt(\"random_test.csv\",\n",
        "                              delimiter=\",\",\n",
        "                              skip_header = 2)\n",
        "loading_three"
      ],
      "metadata": {
        "colab": {
          "base_uri": "https://localhost:8080/"
        },
        "id": "y8QHRXZv800j",
        "outputId": "9bfea47a-4c04-4afe-8ed3-cf12e5b1398e"
      },
      "execution_count": null,
      "outputs": [
        {
          "output_type": "execute_result",
          "data": {
            "text/plain": [
              "array([[-2.25412055,  9.80596546, -3.53463251,  3.67438189,  1.        ],\n",
              "       [ 0.51223398,  5.01751606,  1.28300095,  2.68968187,  1.        ],\n",
              "       [ 7.43257716,  6.09955129,  4.89172806, 10.56012843,  3.        ],\n",
              "       ...,\n",
              "       [ 0.16481851, 10.83646277,  1.68075974,  3.37418858,  1.        ],\n",
              "       [ 1.00952747,  4.85179042, -1.76641638,  3.29401254,  1.        ],\n",
              "       [ 0.6457797 ,  6.73848729,  2.06480699,  2.76310271,  1.        ]])"
            ]
          },
          "metadata": {},
          "execution_count": 66
        }
      ]
    },
    {
      "cell_type": "code",
      "source": [
        "loading_three = np.genfromtxt(\"random_test.csv\",\n",
        "                              delimiter=\",\",\n",
        "                              skip_footer = 2)\n",
        "loading_three"
      ],
      "metadata": {
        "colab": {
          "base_uri": "https://localhost:8080/"
        },
        "id": "DaZ_TYYhACPT",
        "outputId": "876e68e4-a145-4f5d-d3d6-e60de0fd4062"
      },
      "execution_count": null,
      "outputs": [
        {
          "output_type": "execute_result",
          "data": {
            "text/plain": [
              "array([[ 1.41611617,  6.91150541, -2.44907777,  0.08892906,  1.        ],\n",
              "       [ 2.32296388,  7.48934418, -4.6957006 , 10.65903382,  1.        ],\n",
              "       [-2.25412055,  9.80596546, -3.53463251,  3.67438189,  1.        ],\n",
              "       ...,\n",
              "       [ 5.65353479, 12.95094103,  3.85321594, 11.10015002,  1.        ],\n",
              "       [ 5.32022021,  5.19078637,  1.0948299 ,  3.46906023,  1.        ],\n",
              "       [ 0.16481851, 10.83646277,  1.68075974,  3.37418858,  1.        ]])"
            ]
          },
          "metadata": {},
          "execution_count": 67
        }
      ]
    },
    {
      "cell_type": "code",
      "source": [
        "loading_three = np.genfromtxt(\"Lending-Company-Numeric-Data.csv\",\n",
        "                              delimiter=\",\",\n",
        "                              usecols = (0,1,5))\n",
        "loading_three"
      ],
      "metadata": {
        "colab": {
          "base_uri": "https://localhost:8080/"
        },
        "id": "4Ln0DYVyASe0",
        "outputId": "e14ec890-e833-4e7c-c9f4-17a87b017cf0"
      },
      "execution_count": null,
      "outputs": [
        {
          "output_type": "execute_result",
          "data": {
            "text/plain": [
              "array([[ 2000.,    40., 13621.],\n",
              "       [ 2000.,    40., 15041.],\n",
              "       [ 1000.,    40., 15340.],\n",
              "       ...,\n",
              "       [ 2000.,    40., 16600.],\n",
              "       [ 1000.,    40., 15600.],\n",
              "       [ 2000.,    40., 16600.]])"
            ]
          },
          "metadata": {},
          "execution_count": 72
        }
      ]
    },
    {
      "cell_type": "code",
      "source": [
        "loading_0,loading_1,loading_3=np.genfromtxt(\"Lending-Company-Numeric-Data-NAN.csv\",\n",
        "                                            delimiter=\";\",\n",
        "                                            usecols=(1,0,5),\n",
        "                                            skip_footer=5,\n",
        "                                            skip_header=5,unpack=True)\n",
        "\n",
        "print(loading_0)\n",
        "print(loading_1)\n",
        "print(loading_3)"
      ],
      "metadata": {
        "colab": {
          "base_uri": "https://localhost:8080/"
        },
        "id": "pbnwzkjzB1KT",
        "outputId": "8780ef38-3522-4706-a250-2025c6b92392"
      },
      "execution_count": null,
      "outputs": [
        {
          "output_type": "stream",
          "name": "stdout",
          "text": [
            "[40. 50. 40. ... 50. 40. nan]\n",
            "[2000. 2000. 2000. ... 2000. 2000. 2000.]\n",
            "[14141. 17701. 15351. ... 20250. 16600. 16600.]\n"
          ]
        }
      ]
    },
    {
      "cell_type": "code",
      "source": [
        "loading_lt = np.genfromtxt(\"lending-co-LT.csv\",delimiter=\",\",dtype=np.str)"
      ],
      "metadata": {
        "colab": {
          "base_uri": "https://localhost:8080/"
        },
        "id": "mP0QcRf4Dje0",
        "outputId": "44e59eab-ae16-45e9-ab7e-4b8c4c8b9093"
      },
      "execution_count": null,
      "outputs": [
        {
          "output_type": "stream",
          "name": "stderr",
          "text": [
            "<ipython-input-80-88614c1c277c>:1: DeprecationWarning: `np.str` is a deprecated alias for the builtin `str`. To silence this warning, use `str` by itself. Doing this will not modify any behavior and is safe. If you specifically wanted the numpy scalar type, use `np.str_` here.\n",
            "Deprecated in NumPy 1.20; for more details and guidance: https://numpy.org/devdocs/release/1.20.0-notes.html#deprecations\n",
            "  loading_lt = np.genfromtxt(\"3.1 lending-co-LT.csv\",delimiter=\",\",dtype=np.str)\n"
          ]
        }
      ]
    },
    {
      "cell_type": "code",
      "source": [
        "loading_lt"
      ],
      "metadata": {
        "colab": {
          "base_uri": "https://localhost:8080/"
        },
        "id": "U1ujU7skHNx3",
        "outputId": "feafc307-99ba-4c35-8722-fb2698139fb9"
      },
      "execution_count": null,
      "outputs": [
        {
          "output_type": "execute_result",
          "data": {
            "text/plain": [
              "array([['LoanID', 'StringID', 'Product', ..., 'Location', 'Region',\n",
              "        'TotalPrice'],\n",
              "       ['1', 'id_1', 'Product B', ..., 'Location 2', 'Region 2',\n",
              "        '16600.0'],\n",
              "       ['2', 'id_2', 'Product B', ..., 'Location 3', '', '16600.0'],\n",
              "       ...,\n",
              "       ['1041', 'id_1041', 'Product B', ..., 'Location 23', 'Region 4',\n",
              "        '16600.0'],\n",
              "       ['1042', 'id_1042', 'Product C', ..., 'Location 52', 'Region 6',\n",
              "        '15600.0'],\n",
              "       ['1043', 'id_1043', 'Product B', ..., 'Location 142', 'Region 6',\n",
              "        '16600.0']], dtype='<U14')"
            ]
          },
          "metadata": {},
          "execution_count": 81
        }
      ]
    },
    {
      "cell_type": "code",
      "source": [
        "loading_co = np.genfromtxt(\"Lending-Company-Saving.csv\",delimiter=\",\",dtype= str)\n",
        "loading_co"
      ],
      "metadata": {
        "colab": {
          "base_uri": "https://localhost:8080/"
        },
        "id": "op9lt98RHRpK",
        "outputId": "e02b4eb8-8c71-4921-ddeb-263f1fb2c4b7"
      },
      "execution_count": null,
      "outputs": [
        {
          "output_type": "execute_result",
          "data": {
            "text/plain": [
              "array([['LoanID', 'StringID', 'Product', ..., 'Location', 'Region',\n",
              "        'TotalPrice'],\n",
              "       ['1', 'id_1', 'Product B', ..., 'Location 2', 'Region 2',\n",
              "        '16600.0'],\n",
              "       ['2', 'id_2', 'Product B', ..., 'Location 3', '', '16600.0'],\n",
              "       ...,\n",
              "       ['1041', 'id_1041', 'Product B', ..., 'Location 23', 'Region 4',\n",
              "        '16600.0'],\n",
              "       ['1042', 'id_1042', 'Product C', ..., 'Location 52', 'Region 6',\n",
              "        '15600.0'],\n",
              "       ['1043', 'id_1043', 'Product B', ..., 'Location 142', 'Region 6',\n",
              "        '16600.0']], dtype='<U14')"
            ]
          },
          "metadata": {},
          "execution_count": 83
        }
      ]
    },
    {
      "cell_type": "markdown",
      "source": [
        "NPY file is a kind of txt file"
      ],
      "metadata": {
        "id": "bNry_E9XKjaV"
      }
    },
    {
      "cell_type": "code",
      "source": [
        "np.save(\"Lending-Company-Saving.csv\",loading_co)"
      ],
      "metadata": {
        "id": "VpukxENGJwhk"
      },
      "execution_count": null,
      "outputs": []
    },
    {
      "cell_type": "code",
      "source": [
        "loading = np.load(\"Lending-Company-Saving.csv.npy\")\n",
        "loading"
      ],
      "metadata": {
        "colab": {
          "base_uri": "https://localhost:8080/"
        },
        "id": "FaTDO-GhKKJb",
        "outputId": "98cebe21-4ee9-4d29-8c4a-e70b3b33eb21"
      },
      "execution_count": null,
      "outputs": [
        {
          "output_type": "execute_result",
          "data": {
            "text/plain": [
              "array([['LoanID', 'StringID', 'Product', ..., 'Location', 'Region',\n",
              "        'TotalPrice'],\n",
              "       ['1', 'id_1', 'Product B', ..., 'Location 2', 'Region 2',\n",
              "        '16600.0'],\n",
              "       ['2', 'id_2', 'Product B', ..., 'Location 3', '', '16600.0'],\n",
              "       ...,\n",
              "       ['1041', 'id_1041', 'Product B', ..., 'Location 23', 'Region 4',\n",
              "        '16600.0'],\n",
              "       ['1042', 'id_1042', 'Product C', ..., 'Location 52', 'Region 6',\n",
              "        '15600.0'],\n",
              "       ['1043', 'id_1043', 'Product B', ..., 'Location 142', 'Region 6',\n",
              "        '16600.0']], dtype='<U14')"
            ]
          },
          "metadata": {},
          "execution_count": 85
        }
      ]
    },
    {
      "cell_type": "code",
      "source": [
        "loading.shape"
      ],
      "metadata": {
        "colab": {
          "base_uri": "https://localhost:8080/"
        },
        "id": "ttv-EQAbLFhO",
        "outputId": "3e476fc6-9389-45fd-9e2e-10527615e8e0"
      },
      "execution_count": null,
      "outputs": [
        {
          "output_type": "execute_result",
          "data": {
            "text/plain": [
              "(1044, 7)"
            ]
          },
          "metadata": {},
          "execution_count": 87
        }
      ]
    },
    {
      "cell_type": "code",
      "source": [
        "np.array_equal(loading,\"Lending-Company-Saving.csv\")"
      ],
      "metadata": {
        "colab": {
          "base_uri": "https://localhost:8080/"
        },
        "id": "nKON84jOLOEO",
        "outputId": "aaf4af72-9344-4db6-b39b-7e6c060f6925"
      },
      "execution_count": null,
      "outputs": [
        {
          "output_type": "execute_result",
          "data": {
            "text/plain": [
              "False"
            ]
          },
          "metadata": {},
          "execution_count": 91
        }
      ]
    },
    {
      "cell_type": "code",
      "source": [
        "np.array_equal(loading,loading_co)"
      ],
      "metadata": {
        "colab": {
          "base_uri": "https://localhost:8080/"
        },
        "id": "KmxmO2aRMEwm",
        "outputId": "21bc7553-f254-44ef-8c74-5b93cc6a318b"
      },
      "execution_count": null,
      "outputs": [
        {
          "output_type": "execute_result",
          "data": {
            "text/plain": [
              "True"
            ]
          },
          "metadata": {},
          "execution_count": 90
        }
      ]
    },
    {
      "cell_type": "code",
      "source": [
        "loading_california = np.genfromtxt(\"/content/sample_data/california_housing_test.csv\",delimiter=\",\",dtype= str)\n",
        "loading_california"
      ],
      "metadata": {
        "id": "G9P6soqkMZfi",
        "colab": {
          "base_uri": "https://localhost:8080/"
        },
        "outputId": "b1e04f90-46e4-45bd-e026-718fb2ba9495"
      },
      "execution_count": null,
      "outputs": [
        {
          "output_type": "execute_result",
          "data": {
            "text/plain": [
              "array([['\"longitude\"', '\"latitude\"', '\"housing_median_age\"', ...,\n",
              "        '\"households\"', '\"median_income\"', '\"median_house_value\"'],\n",
              "       ['-122.050000', '37.370000', '27.000000', ..., '606.000000',\n",
              "        '6.608500', '344700.000000'],\n",
              "       ['-118.300000', '34.260000', '43.000000', ..., '277.000000',\n",
              "        '3.599000', '176500.000000'],\n",
              "       ...,\n",
              "       ['-119.700000', '36.300000', '10.000000', ..., '220.000000',\n",
              "        '2.289500', '62000.000000'],\n",
              "       ['-117.120000', '34.100000', '40.000000', ..., '14.000000',\n",
              "        '3.270800', '162500.000000'],\n",
              "       ['-119.630000', '34.420000', '42.000000', ..., '260.000000',\n",
              "        '8.560800', '500001.000000']], dtype='<U20')"
            ]
          },
          "metadata": {},
          "execution_count": 3
        }
      ]
    },
    {
      "cell_type": "code",
      "source": [
        "np.save(\"california_housing_test.csv\",loading_california)"
      ],
      "metadata": {
        "id": "frGbgFBUpJTy"
      },
      "execution_count": null,
      "outputs": []
    },
    {
      "cell_type": "code",
      "source": [
        "loading_california_npy = np.load(\"/content/california_housing_test.csv.npy\")\n",
        "loading_california_npy"
      ],
      "metadata": {
        "colab": {
          "base_uri": "https://localhost:8080/"
        },
        "id": "Wb0TEGbmpQsg",
        "outputId": "6354d7f8-3534-4c2a-e19b-c017b2068368"
      },
      "execution_count": null,
      "outputs": [
        {
          "output_type": "execute_result",
          "data": {
            "text/plain": [
              "array([['\"longitude\"', '\"latitude\"', '\"housing_median_age\"', ...,\n",
              "        '\"households\"', '\"median_income\"', '\"median_house_value\"'],\n",
              "       ['-122.050000', '37.370000', '27.000000', ..., '606.000000',\n",
              "        '6.608500', '344700.000000'],\n",
              "       ['-118.300000', '34.260000', '43.000000', ..., '277.000000',\n",
              "        '3.599000', '176500.000000'],\n",
              "       ...,\n",
              "       ['-119.700000', '36.300000', '10.000000', ..., '220.000000',\n",
              "        '2.289500', '62000.000000'],\n",
              "       ['-117.120000', '34.100000', '40.000000', ..., '14.000000',\n",
              "        '3.270800', '162500.000000'],\n",
              "       ['-119.630000', '34.420000', '42.000000', ..., '260.000000',\n",
              "        '8.560800', '500001.000000']], dtype='<U20')"
            ]
          },
          "metadata": {},
          "execution_count": 6
        }
      ]
    },
    {
      "cell_type": "code",
      "source": [
        "loading_california_npy.shape"
      ],
      "metadata": {
        "colab": {
          "base_uri": "https://localhost:8080/"
        },
        "id": "Fb1L6xHvqdSB",
        "outputId": "199aff1f-f435-48ae-e0ca-94e72b395ea4"
      },
      "execution_count": null,
      "outputs": [
        {
          "output_type": "execute_result",
          "data": {
            "text/plain": [
              "(3001, 9)"
            ]
          },
          "metadata": {},
          "execution_count": 7
        }
      ]
    },
    {
      "cell_type": "code",
      "source": [
        "type(loading_california_npy)"
      ],
      "metadata": {
        "colab": {
          "base_uri": "https://localhost:8080/"
        },
        "id": "ESuXUVbpql_o",
        "outputId": "e7f2ce7f-542d-4ed3-c8db-33518517fa95"
      },
      "execution_count": null,
      "outputs": [
        {
          "output_type": "execute_result",
          "data": {
            "text/plain": [
              "numpy.ndarray"
            ]
          },
          "metadata": {},
          "execution_count": 8
        }
      ]
    },
    {
      "cell_type": "code",
      "source": [
        "loading_california_npy[0]"
      ],
      "metadata": {
        "colab": {
          "base_uri": "https://localhost:8080/"
        },
        "id": "bgn4wdneqpJ0",
        "outputId": "eb0a1594-9b27-4cb0-d52c-4b9853017f9c"
      },
      "execution_count": null,
      "outputs": [
        {
          "output_type": "execute_result",
          "data": {
            "text/plain": [
              "array(['\"longitude\"', '\"latitude\"', '\"housing_median_age\"',\n",
              "       '\"total_rooms\"', '\"total_bedrooms\"', '\"population\"',\n",
              "       '\"households\"', '\"median_income\"', '\"median_house_value\"'],\n",
              "      dtype='<U20')"
            ]
          },
          "metadata": {},
          "execution_count": 9
        }
      ]
    },
    {
      "cell_type": "markdown",
      "source": [
        "np.save() \n",
        "\n",
        "np.savez()\n",
        "\n",
        "np.savetxt() --->.txt .csv\n",
        "\n"
      ],
      "metadata": {
        "id": "bS9w4wbQseCR"
      }
    },
    {
      "cell_type": "code",
      "source": [
        "np.savetxt(\"california_housing_test.csv\",\n",
        "           loading_california,\n",
        "           fmt=\"%s\",\n",
        "           delimiter=\",\")"
      ],
      "metadata": {
        "id": "2M2tGf9OrdJQ"
      },
      "execution_count": null,
      "outputs": []
    },
    {
      "cell_type": "code",
      "source": [],
      "metadata": {
        "id": "relE0PdGtzxr"
      },
      "execution_count": null,
      "outputs": []
    }
  ]
}