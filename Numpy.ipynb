{
  "nbformat": 4,
  "nbformat_minor": 0,
  "metadata": {
    "colab": {
      "provenance": [],
      "authorship_tag": "ABX9TyMp94QUKWE61BwA4HxXkA9P",
      "include_colab_link": true
    },
    "kernelspec": {
      "name": "python3",
      "display_name": "Python 3"
    },
    "language_info": {
      "name": "python"
    }
  },
  "cells": [
    {
      "cell_type": "markdown",
      "metadata": {
        "id": "view-in-github",
        "colab_type": "text"
      },
      "source": [
        "<a href=\"https://colab.research.google.com/github/faeezeh/Numpy/blob/main/Numpy.ipynb\" target=\"_parent\"><img src=\"https://colab.research.google.com/assets/colab-badge.svg\" alt=\"Open In Colab\"/></a>"
      ]
    },
    {
      "cell_type": "markdown",
      "source": [
        "Let's Go start\n",
        "\n",
        "useful link \n",
        "https://numpy.org/doc/stable/\n",
        "\n",
        "\n",
        "\n",
        "\n",
        "*   shift+tab -----> to see documentation\n",
        "*   shift+tab+tab -----> to see more details\n",
        "\n",
        "\n"
      ],
      "metadata": {
        "id": "toR7ACtNvlz7"
      }
    },
    {
      "cell_type": "code",
      "source": [
        "pip install numpy "
      ],
      "metadata": {
        "colab": {
          "base_uri": "https://localhost:8080/"
        },
        "id": "2JptyckfvrBM",
        "outputId": "9b9e2215-22d7-4860-ecb5-ce7c1425fc3c"
      },
      "execution_count": 2,
      "outputs": [
        {
          "output_type": "stream",
          "name": "stdout",
          "text": [
            "Looking in indexes: https://pypi.org/simple, https://us-python.pkg.dev/colab-wheels/public/simple/\n",
            "Requirement already satisfied: numpy in /usr/local/lib/python3.10/dist-packages (1.22.4)\n"
          ]
        }
      ]
    },
    {
      "cell_type": "code",
      "source": [
        "pip install numpy --upgarde"
      ],
      "metadata": {
        "colab": {
          "base_uri": "https://localhost:8080/"
        },
        "id": "jfL41nOY0qR-",
        "outputId": "a759716f-405c-4ab1-b840-f2ea73b59bbe"
      },
      "execution_count": 3,
      "outputs": [
        {
          "output_type": "stream",
          "name": "stdout",
          "text": [
            "\n",
            "Usage:   \n",
            "  pip3 install [options] <requirement specifier> [package-index-options] ...\n",
            "  pip3 install [options] -r <requirements file> [package-index-options] ...\n",
            "  pip3 install [options] [-e] <vcs project url> ...\n",
            "  pip3 install [options] [-e] <local project path> ...\n",
            "  pip3 install [options] <archive url/path> ...\n",
            "\n",
            "no such option: --upgarde\n"
          ]
        }
      ]
    },
    {
      "cell_type": "code",
      "source": [
        "import numpy as np"
      ],
      "metadata": {
        "id": "SJwYPRZ903US"
      },
      "execution_count": 4,
      "outputs": []
    },
    {
      "cell_type": "markdown",
      "source": [
        "In NumPy, an ndarray (short for \"n-dimensional array\") is a multidimensional container of items of the same type and size. It provides a fast, efficient way of storing and manipulating large arrays of homogeneous data (i.e., data of the same type)."
      ],
      "metadata": {
        "id": "ddX9z3Zx1k5s"
      }
    },
    {
      "cell_type": "markdown",
      "source": [
        "\n",
        "\n",
        "*   scalar (0_D array)\n",
        "*   vector (1_D array)\n",
        "*   matrix (2-D array)\n",
        "\n"
      ],
      "metadata": {
        "id": "BJl4QswH25uC"
      }
    },
    {
      "cell_type": "code",
      "source": [
        "array_a = np.array([1])\n",
        "print(\"0_D array :\",array_a)\n",
        "\n",
        "array_b = np.array([1,2,3])\n",
        "print(\"1_D array :\",array_b)\n",
        "\n",
        "array_c = np.array([[1,2,3],[4,5,6]])\n",
        "print(\"2_D array :\",array_c)\n"
      ],
      "metadata": {
        "colab": {
          "base_uri": "https://localhost:8080/"
        },
        "id": "xiTtuFkG1kNc",
        "outputId": "ebb53ca2-5216-4ccb-9d34-bb5ac74e0cc6"
      },
      "execution_count": 8,
      "outputs": [
        {
          "output_type": "stream",
          "name": "stdout",
          "text": [
            "0_D array : [1]\n",
            "1_D array : [1 2 3]\n",
            "2_D array : [[1 2 3]\n",
            " [4 5 6]]\n"
          ]
        }
      ]
    },
    {
      "cell_type": "code",
      "source": [],
      "metadata": {
        "id": "8w10y2k_4RPN"
      },
      "execution_count": null,
      "outputs": []
    }
  ]
}