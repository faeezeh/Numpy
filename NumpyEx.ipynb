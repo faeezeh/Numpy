{
  "nbformat": 4,
  "nbformat_minor": 0,
  "metadata": {
    "colab": {
      "provenance": [],
      "authorship_tag": "ABX9TyMvl8jqdMx6YlLGm1S6rapM",
      "include_colab_link": true
    },
    "kernelspec": {
      "name": "python3",
      "display_name": "Python 3"
    },
    "language_info": {
      "name": "python"
    }
  },
  "cells": [
    {
      "cell_type": "markdown",
      "metadata": {
        "id": "view-in-github",
        "colab_type": "text"
      },
      "source": [
        "<a href=\"https://colab.research.google.com/github/faeezeh/Numpy/blob/main/NumpyEx.ipynb\" target=\"_parent\"><img src=\"https://colab.research.google.com/assets/colab-badge.svg\" alt=\"Open In Colab\"/></a>"
      ]
    },
    {
      "cell_type": "markdown",
      "source": [
        "**Numpy exercise**"
      ],
      "metadata": {
        "id": "DAIajLMdHjM5"
      }
    },
    {
      "cell_type": "markdown",
      "source": [
        "1. Every categorical variable must be quantified\n",
        "\n",
        "2. We need to change any text columns into numbers\n",
        "\n",
        "3. Positive or negative connotation "
      ],
      "metadata": {
        "id": "Vy68wSVFWtoX"
      }
    },
    {
      "cell_type": "code",
      "execution_count": 249,
      "metadata": {
        "id": "NwYOxAs3Hd7-"
      },
      "outputs": [],
      "source": [
        "import numpy as np "
      ]
    },
    {
      "cell_type": "markdown",
      "source": [],
      "metadata": {
        "id": "OVUt7xqeap6P"
      }
    },
    {
      "cell_type": "code",
      "source": [
        "np.set_printoptions( suppress = True , linewidth = 100 , precision = 2 )"
      ],
      "metadata": {
        "id": "Hun5xnBYaJqO"
      },
      "execution_count": 250,
      "outputs": []
    },
    {
      "cell_type": "code",
      "source": [
        "raw_data_np = np.genfromtxt(\"/content/sample_data/loan-data.csv\",\n",
        "                            delimiter=\";\",\n",
        "                            skip_header=1,\n",
        "                            autostrip=True,\n",
        "                            encoding=\"cp855\")\n",
        "raw_data_np"
      ],
      "metadata": {
        "colab": {
          "base_uri": "https://localhost:8080/"
        },
        "id": "kNHAqd3lZQjm",
        "outputId": "5abe9b88-2f15-4de4-896c-08254be92822"
      },
      "execution_count": 251,
      "outputs": [
        {
          "output_type": "execute_result",
          "data": {
            "text/plain": [
              "array([[48010226.  ,         nan,    35000.  , ...,         nan,         nan,     9452.96],\n",
              "       [57693261.  ,         nan,    30000.  , ...,         nan,         nan,     4679.7 ],\n",
              "       [59432726.  ,         nan,    15000.  , ...,         nan,         nan,     1969.83],\n",
              "       ...,\n",
              "       [50415990.  ,         nan,    10000.  , ...,         nan,         nan,     2185.64],\n",
              "       [46154151.  ,         nan,         nan, ...,         nan,         nan,     3199.4 ],\n",
              "       [66055249.  ,         nan,    10000.  , ...,         nan,         nan,      301.9 ]])"
            ]
          },
          "metadata": {},
          "execution_count": 251
        }
      ]
    },
    {
      "cell_type": "code",
      "source": [
        "np.isnan(raw_data_np).sum()"
      ],
      "metadata": {
        "colab": {
          "base_uri": "https://localhost:8080/"
        },
        "id": "NNJB1F4ucT_2",
        "outputId": "3dc6e8e1-140e-4345-b5a9-b07429ee594a"
      },
      "execution_count": 252,
      "outputs": [
        {
          "output_type": "execute_result",
          "data": {
            "text/plain": [
              "88005"
            ]
          },
          "metadata": {},
          "execution_count": 252
        }
      ]
    },
    {
      "cell_type": "code",
      "source": [
        "temp_mean =  np.nanmean(raw_data_np , axis=0)\n",
        "temp_min =  np.nanmin(raw_data_np , axis=0)\n",
        "temp_fill = np.nanmax(raw_data_np) + 1"
      ],
      "metadata": {
        "colab": {
          "base_uri": "https://localhost:8080/"
        },
        "id": "iP0rngoIc5e1",
        "outputId": "157af469-cc35-40fb-d3eb-a8ffeb478ac5"
      },
      "execution_count": 253,
      "outputs": [
        {
          "output_type": "stream",
          "name": "stderr",
          "text": [
            "<ipython-input-253-d8c71dda0048>:1: RuntimeWarning: Mean of empty slice\n",
            "  temp_mean =  np.nanmean(raw_data_np , axis=0)\n",
            "<ipython-input-253-d8c71dda0048>:2: RuntimeWarning: All-NaN slice encountered\n",
            "  temp_min =  np.nanmin(raw_data_np , axis=0)\n"
          ]
        }
      ]
    },
    {
      "cell_type": "code",
      "source": [
        "temp_min"
      ],
      "metadata": {
        "colab": {
          "base_uri": "https://localhost:8080/"
        },
        "id": "ePzUqVqqfBM-",
        "outputId": "7691c1cd-a324-4d82-ad50-f722e85bf4da"
      },
      "execution_count": 254,
      "outputs": [
        {
          "output_type": "execute_result",
          "data": {
            "text/plain": [
              "array([373332.  ,       nan,   1000.  ,       nan,   1000.  ,       nan,      6.  ,     31.42,\n",
              "             nan,       nan,       nan,       nan,       nan,      0.  ])"
            ]
          },
          "metadata": {},
          "execution_count": 254
        }
      ]
    },
    {
      "cell_type": "code",
      "source": [
        "temp_mean"
      ],
      "metadata": {
        "colab": {
          "base_uri": "https://localhost:8080/"
        },
        "id": "AwnO3jwhdR81",
        "outputId": "f17d8ba4-590e-440c-eac0-b50488e93fa7"
      },
      "execution_count": 255,
      "outputs": [
        {
          "output_type": "execute_result",
          "data": {
            "text/plain": [
              "array([54015809.19,         nan,    15273.46,         nan,    15311.04,         nan,       16.62,\n",
              "            440.92,         nan,         nan,         nan,         nan,         nan,     3143.85])"
            ]
          },
          "metadata": {},
          "execution_count": 255
        }
      ]
    },
    {
      "cell_type": "code",
      "source": [
        "temp_fill"
      ],
      "metadata": {
        "colab": {
          "base_uri": "https://localhost:8080/"
        },
        "id": "pcznMaa2d5A-",
        "outputId": "dea867e2-fb7b-45d5-f25f-ec3792975421"
      },
      "execution_count": 256,
      "outputs": [
        {
          "output_type": "execute_result",
          "data": {
            "text/plain": [
              "68616520.0"
            ]
          },
          "metadata": {},
          "execution_count": 256
        }
      ]
    },
    {
      "cell_type": "code",
      "source": [
        "temp_sets = np.array([temp_min,temp_mean,temp_fill])"
      ],
      "metadata": {
        "colab": {
          "base_uri": "https://localhost:8080/"
        },
        "id": "3QU9RKxrd8FG",
        "outputId": "7491f7bf-3307-4a03-ed61-d403eb62d25f"
      },
      "execution_count": 257,
      "outputs": [
        {
          "output_type": "stream",
          "name": "stderr",
          "text": [
            "<ipython-input-257-10f5c992cf5e>:1: VisibleDeprecationWarning: Creating an ndarray from ragged nested sequences (which is a list-or-tuple of lists-or-tuples-or ndarrays with different lengths or shapes) is deprecated. If you meant to do this, you must specify 'dtype=object' when creating the ndarray.\n",
            "  temp_sets = np.array([temp_min,temp_mean,temp_fill])\n"
          ]
        }
      ]
    },
    {
      "cell_type": "code",
      "source": [
        "temp_sets"
      ],
      "metadata": {
        "colab": {
          "base_uri": "https://localhost:8080/"
        },
        "id": "DMg5BfwPfRWN",
        "outputId": "3a25ff37-5987-42c8-f6d4-b995f2ef7bc3"
      },
      "execution_count": 258,
      "outputs": [
        {
          "output_type": "execute_result",
          "data": {
            "text/plain": [
              "array([array([373332.  ,       nan,   1000.  ,       nan,   1000.  ,       nan,      6.  ,     31.42,\n",
              "                    nan,       nan,       nan,       nan,       nan,      0.  ])                     ,\n",
              "       array([54015809.19,         nan,    15273.46,         nan,    15311.04,         nan,       16.62,\n",
              "                   440.92,         nan,         nan,         nan,         nan,         nan,     3143.85]),\n",
              "       68616520.0], dtype=object)"
            ]
          },
          "metadata": {},
          "execution_count": 258
        }
      ]
    },
    {
      "cell_type": "code",
      "source": [
        "cols_string = np.argwhere(np.isnan(temp_mean)).squeeze()\n",
        "cols_string"
      ],
      "metadata": {
        "colab": {
          "base_uri": "https://localhost:8080/"
        },
        "id": "Gbcee_BtfULN",
        "outputId": "ceeed4c4-263c-44df-b9da-e357bfdf9fee"
      },
      "execution_count": 259,
      "outputs": [
        {
          "output_type": "execute_result",
          "data": {
            "text/plain": [
              "array([ 1,  3,  5,  8,  9, 10, 11, 12])"
            ]
          },
          "metadata": {},
          "execution_count": 259
        }
      ]
    },
    {
      "cell_type": "code",
      "source": [
        "cols_numeric = np.argwhere(np.isnan(temp_mean) == False).squeeze()\n",
        "cols_numeric"
      ],
      "metadata": {
        "colab": {
          "base_uri": "https://localhost:8080/"
        },
        "id": "OXAbwu_7gwc9",
        "outputId": "12da2fda-e90d-418b-9304-03d26cc3a396"
      },
      "execution_count": 260,
      "outputs": [
        {
          "output_type": "execute_result",
          "data": {
            "text/plain": [
              "array([ 0,  2,  4,  6,  7, 13])"
            ]
          },
          "metadata": {},
          "execution_count": 260
        }
      ]
    },
    {
      "cell_type": "code",
      "source": [
        "loan_data_string = np.genfromtxt(\"/content/sample_data/loan-data.csv\",\n",
        "                            delimiter=\";\",\n",
        "                            skip_header=1,\n",
        "                            autostrip=True,\n",
        "                            usecols = cols_string,\n",
        "                            encoding=\"cp855\",\n",
        "                            dtype = np.str)\n",
        "loan_data_string"
      ],
      "metadata": {
        "colab": {
          "base_uri": "https://localhost:8080/"
        },
        "id": "6hxHjW9ohJmN",
        "outputId": "a7ddc3a9-d4fd-432c-8bca-326a5cf1d5b9"
      },
      "execution_count": 261,
      "outputs": [
        {
          "output_type": "stream",
          "name": "stderr",
          "text": [
            "<ipython-input-261-72b7ab78f43f>:7: DeprecationWarning: `np.str` is a deprecated alias for the builtin `str`. To silence this warning, use `str` by itself. Doing this will not modify any behavior and is safe. If you specifically wanted the numpy scalar type, use `np.str_` here.\n",
            "Deprecated in NumPy 1.20; for more details and guidance: https://numpy.org/devdocs/release/1.20.0-notes.html#deprecations\n",
            "  dtype = np.str)\n"
          ]
        },
        {
          "output_type": "execute_result",
          "data": {
            "text/plain": [
              "array([['May-15', 'Current', '36 months', ..., 'Verified',\n",
              "        'https://www.lendingclub.com/browse/loanDetail.action?loan_id=48010226', 'CA'],\n",
              "       ['', 'Current', '36 months', ..., 'Source Verified',\n",
              "        'https://www.lendingclub.com/browse/loanDetail.action?loan_id=57693261', 'NY'],\n",
              "       ['Sep-15', 'Current', '36 months', ..., 'Verified',\n",
              "        'https://www.lendingclub.com/browse/loanDetail.action?loan_id=59432726', 'PA'],\n",
              "       ...,\n",
              "       ['Jun-15', 'Current', '36 months', ..., 'Source Verified',\n",
              "        'https://www.lendingclub.com/browse/loanDetail.action?loan_id=50415990', 'CA'],\n",
              "       ['Apr-15', 'Current', '36 months', ..., 'Source Verified',\n",
              "        'https://www.lendingclub.com/browse/loanDetail.action?loan_id=46154151', 'OH'],\n",
              "       ['Dec-15', 'Current', '36 months', ..., '',\n",
              "        'https://www.lendingclub.com/browse/loanDetail.action?loan_id=66055249', 'IL']],\n",
              "      dtype='<U69')"
            ]
          },
          "metadata": {},
          "execution_count": 261
        }
      ]
    },
    {
      "cell_type": "code",
      "source": [
        "loan_data_num = np.genfromtxt(\"/content/sample_data/loan-data.csv\",\n",
        "                            delimiter=\";\",\n",
        "                            skip_header=1,\n",
        "                            autostrip=True,\n",
        "                            usecols = cols_numeric,\n",
        "                            encoding=\"cp855\")\n",
        "loan_data_num"
      ],
      "metadata": {
        "colab": {
          "base_uri": "https://localhost:8080/"
        },
        "id": "vSUHQbswhy2h",
        "outputId": "60b05af9-a5a9-44f0-deb7-85dfaf6a3d7c"
      },
      "execution_count": 262,
      "outputs": [
        {
          "output_type": "execute_result",
          "data": {
            "text/plain": [
              "array([[48010226.  ,    35000.  ,    35000.  ,       13.33,     1184.86,     9452.96],\n",
              "       [57693261.  ,    30000.  ,    30000.  ,         nan,      938.57,     4679.7 ],\n",
              "       [59432726.  ,    15000.  ,    15000.  ,         nan,      494.86,     1969.83],\n",
              "       ...,\n",
              "       [50415990.  ,    10000.  ,    10000.  ,         nan,         nan,     2185.64],\n",
              "       [46154151.  ,         nan,    10000.  ,       16.55,      354.3 ,     3199.4 ],\n",
              "       [66055249.  ,    10000.  ,    10000.  ,         nan,      309.97,      301.9 ]])"
            ]
          },
          "metadata": {},
          "execution_count": 262
        }
      ]
    },
    {
      "cell_type": "code",
      "source": [
        "header = np.genfromtxt(\"/content/sample_data/loan-data.csv\",\n",
        "                             delimiter=\";\",\n",
        "                            skip_footer=raw_data_np.shape[0],\n",
        "                            autostrip=True,\n",
        "                            encoding=\"cp855\",\n",
        "                            dtype = np.str)\n",
        "header"
      ],
      "metadata": {
        "colab": {
          "base_uri": "https://localhost:8080/"
        },
        "id": "NcfhrHqniflO",
        "outputId": "1b565f8c-05dc-4f07-b5c3-38e4d0e2ef5f"
      },
      "execution_count": 263,
      "outputs": [
        {
          "output_type": "stream",
          "name": "stderr",
          "text": [
            "<ipython-input-263-20add4c119f6>:6: DeprecationWarning: `np.str` is a deprecated alias for the builtin `str`. To silence this warning, use `str` by itself. Doing this will not modify any behavior and is safe. If you specifically wanted the numpy scalar type, use `np.str_` here.\n",
            "Deprecated in NumPy 1.20; for more details and guidance: https://numpy.org/devdocs/release/1.20.0-notes.html#deprecations\n",
            "  dtype = np.str)\n"
          ]
        },
        {
          "output_type": "execute_result",
          "data": {
            "text/plain": [
              "array(['id', 'issue_d', 'loan_amnt', 'loan_status', 'funded_amnt', 'term', 'int_rate',\n",
              "       'installment', 'grade', 'sub_grade', 'verification_status', 'url', 'addr_state',\n",
              "       'total_pymnt'], dtype='<U19')"
            ]
          },
          "metadata": {},
          "execution_count": 263
        }
      ]
    },
    {
      "cell_type": "code",
      "source": [
        "str_header , num_header = header[cols_string],header[cols_numeric]"
      ],
      "metadata": {
        "id": "B3xiCcyyiAVl"
      },
      "execution_count": 264,
      "outputs": []
    },
    {
      "cell_type": "code",
      "source": [
        "str_header"
      ],
      "metadata": {
        "colab": {
          "base_uri": "https://localhost:8080/"
        },
        "id": "DW1qqGYjkJhh",
        "outputId": "34cefe00-bcb4-4f47-a53c-6c62926ac58e"
      },
      "execution_count": 265,
      "outputs": [
        {
          "output_type": "execute_result",
          "data": {
            "text/plain": [
              "array(['issue_d', 'loan_status', 'term', 'grade', 'sub_grade', 'verification_status', 'url',\n",
              "       'addr_state'], dtype='<U19')"
            ]
          },
          "metadata": {},
          "execution_count": 265
        }
      ]
    },
    {
      "cell_type": "code",
      "source": [
        "num_header"
      ],
      "metadata": {
        "colab": {
          "base_uri": "https://localhost:8080/"
        },
        "id": "y1l9kn5-kStV",
        "outputId": "ad5fb757-bc4b-48a9-be94-23e3aa02462a"
      },
      "execution_count": 266,
      "outputs": [
        {
          "output_type": "execute_result",
          "data": {
            "text/plain": [
              "array(['id', 'loan_amnt', 'funded_amnt', 'int_rate', 'installment', 'total_pymnt'], dtype='<U19')"
            ]
          },
          "metadata": {},
          "execution_count": 266
        }
      ]
    },
    {
      "cell_type": "code",
      "source": [
        "def checkpoint ( file_name , checkpoint_header , checkpoint_data):\n",
        "  np.savez( file_name , header = checkpoint_header , data = checkpoint_data )\n",
        "  checkpoint_variable = np.load( file_name + \".npz\" )\n",
        "  return(checkpoint_variable)"
      ],
      "metadata": {
        "id": "57IvvhIekbo1"
      },
      "execution_count": 267,
      "outputs": []
    },
    {
      "cell_type": "code",
      "source": [
        "checkpoint_test = checkpoint(\"checkpoint_test\",str_header, loan_data_string)"
      ],
      "metadata": {
        "id": "lEJBcPTfqfE9"
      },
      "execution_count": 268,
      "outputs": []
    },
    {
      "cell_type": "code",
      "source": [
        "checkpoint_test['header']"
      ],
      "metadata": {
        "colab": {
          "base_uri": "https://localhost:8080/"
        },
        "id": "mlaKuWEJq4jb",
        "outputId": "73d7fa46-acf5-49c8-c2a4-b7a58bafcb66"
      },
      "execution_count": 269,
      "outputs": [
        {
          "output_type": "execute_result",
          "data": {
            "text/plain": [
              "array(['issue_d', 'loan_status', 'term', 'grade', 'sub_grade', 'verification_status', 'url',\n",
              "       'addr_state'], dtype='<U19')"
            ]
          },
          "metadata": {},
          "execution_count": 269
        }
      ]
    },
    {
      "cell_type": "code",
      "source": [
        "checkpoint_test['data']"
      ],
      "metadata": {
        "colab": {
          "base_uri": "https://localhost:8080/"
        },
        "id": "bmFpbx6Nq-kL",
        "outputId": "ed7c53da-fc6e-450b-8b33-1e1e46284fcc"
      },
      "execution_count": 270,
      "outputs": [
        {
          "output_type": "execute_result",
          "data": {
            "text/plain": [
              "array([['May-15', 'Current', '36 months', ..., 'Verified',\n",
              "        'https://www.lendingclub.com/browse/loanDetail.action?loan_id=48010226', 'CA'],\n",
              "       ['', 'Current', '36 months', ..., 'Source Verified',\n",
              "        'https://www.lendingclub.com/browse/loanDetail.action?loan_id=57693261', 'NY'],\n",
              "       ['Sep-15', 'Current', '36 months', ..., 'Verified',\n",
              "        'https://www.lendingclub.com/browse/loanDetail.action?loan_id=59432726', 'PA'],\n",
              "       ...,\n",
              "       ['Jun-15', 'Current', '36 months', ..., 'Source Verified',\n",
              "        'https://www.lendingclub.com/browse/loanDetail.action?loan_id=50415990', 'CA'],\n",
              "       ['Apr-15', 'Current', '36 months', ..., 'Source Verified',\n",
              "        'https://www.lendingclub.com/browse/loanDetail.action?loan_id=46154151', 'OH'],\n",
              "       ['Dec-15', 'Current', '36 months', ..., '',\n",
              "        'https://www.lendingclub.com/browse/loanDetail.action?loan_id=66055249', 'IL']],\n",
              "      dtype='<U69')"
            ]
          },
          "metadata": {},
          "execution_count": 270
        }
      ]
    },
    {
      "cell_type": "code",
      "source": [
        "str_header[0] = \"issue_date\""
      ],
      "metadata": {
        "id": "ZX8i1aturO78"
      },
      "execution_count": 271,
      "outputs": []
    },
    {
      "cell_type": "code",
      "source": [
        "str_header"
      ],
      "metadata": {
        "colab": {
          "base_uri": "https://localhost:8080/"
        },
        "id": "v1G1bnN__cll",
        "outputId": "3786c0fc-8055-4adf-dc11-7ae19e253f8f"
      },
      "execution_count": 272,
      "outputs": [
        {
          "output_type": "execute_result",
          "data": {
            "text/plain": [
              "array(['issue_date', 'loan_status', 'term', 'grade', 'sub_grade', 'verification_status', 'url',\n",
              "       'addr_state'], dtype='<U19')"
            ]
          },
          "metadata": {},
          "execution_count": 272
        }
      ]
    },
    {
      "cell_type": "markdown",
      "source": [
        "**issue_date**"
      ],
      "metadata": {
        "id": "NFX9bY2XKMyt"
      }
    },
    {
      "cell_type": "code",
      "source": [
        "loan_data_string[:,:1]"
      ],
      "metadata": {
        "colab": {
          "base_uri": "https://localhost:8080/"
        },
        "id": "Wimk42FJ_zii",
        "outputId": "73b54b2e-e58b-46c7-d86d-c3c2bc3b401c"
      },
      "execution_count": 273,
      "outputs": [
        {
          "output_type": "execute_result",
          "data": {
            "text/plain": [
              "array([['May-15'],\n",
              "       [''],\n",
              "       ['Sep-15'],\n",
              "       ...,\n",
              "       ['Jun-15'],\n",
              "       ['Apr-15'],\n",
              "       ['Dec-15']], dtype='<U69')"
            ]
          },
          "metadata": {},
          "execution_count": 273
        }
      ]
    },
    {
      "cell_type": "code",
      "source": [
        "np.unique(loan_data_string[:,:1])"
      ],
      "metadata": {
        "colab": {
          "base_uri": "https://localhost:8080/"
        },
        "id": "DUDK2pWr_vOa",
        "outputId": "7e8c0fc3-9ae2-47ee-f585-90877cf89870"
      },
      "execution_count": 274,
      "outputs": [
        {
          "output_type": "execute_result",
          "data": {
            "text/plain": [
              "array(['', 'Apr-15', 'Aug-15', 'Dec-15', 'Feb-15', 'Jan-15', 'Jul-15', 'Jun-15', 'Mar-15',\n",
              "       'May-15', 'Nov-15', 'Oct-15', 'Sep-15'], dtype='<U69')"
            ]
          },
          "metadata": {},
          "execution_count": 274
        }
      ]
    },
    {
      "cell_type": "code",
      "source": [
        "loan_data_string[:,:1] = np.sort(np.chararray.strip(loan_data_string[:,:1],\"-15\"))"
      ],
      "metadata": {
        "id": "fpqwZDFRAM0T"
      },
      "execution_count": 275,
      "outputs": []
    },
    {
      "cell_type": "code",
      "source": [
        "months = np.unique(np.sort(np.chararray.strip(loan_data_string[:,:1],\"-15\").squeeze()))"
      ],
      "metadata": {
        "id": "BZFldMgDBIH0"
      },
      "execution_count": 276,
      "outputs": []
    },
    {
      "cell_type": "code",
      "source": [
        "for i in range(13):\n",
        "  loan_data_string[:,0] = np.where(loan_data_string[:,0] == months[i] ,\n",
        "                                    i , \n",
        "                                    loan_data_string[:,0])\n"
      ],
      "metadata": {
        "id": "vxqrvHp7DFgC"
      },
      "execution_count": 277,
      "outputs": []
    },
    {
      "cell_type": "code",
      "source": [
        "np.unique(loan_data_string[:,0])"
      ],
      "metadata": {
        "colab": {
          "base_uri": "https://localhost:8080/"
        },
        "id": "NRBRa8YUGcqc",
        "outputId": "e018cb1f-2af9-4281-9e71-ddbe76128052"
      },
      "execution_count": 278,
      "outputs": [
        {
          "output_type": "execute_result",
          "data": {
            "text/plain": [
              "array(['0', '1', '10', '11', '12', '2', '3', '4', '5', '6', '7', '8', '9'], dtype='<U69')"
            ]
          },
          "metadata": {},
          "execution_count": 278
        }
      ]
    },
    {
      "cell_type": "markdown",
      "source": [
        "**loan_status**"
      ],
      "metadata": {
        "id": "ZdwbaXokJq68"
      }
    },
    {
      "cell_type": "markdown",
      "source": [
        "GOOD  'Charged Off' , 'Default','Late (16-30 days)'\n",
        "==1\n",
        "\n",
        "\n",
        "\n",
        "BAD  'Current' ,  'Fully Paid', 'In Grace Period', 'Issued',  'Late (31-120 days)'\n",
        "==0\n"
      ],
      "metadata": {
        "id": "d4zqHYcBMF5R"
      }
    },
    {
      "cell_type": "code",
      "source": [
        "np.unique(loan_data_string[:,1])"
      ],
      "metadata": {
        "colab": {
          "base_uri": "https://localhost:8080/"
        },
        "id": "-FCMFeZmGoHh",
        "outputId": "c7390eaa-0879-45a1-efbd-22f30ba6144f"
      },
      "execution_count": 279,
      "outputs": [
        {
          "output_type": "execute_result",
          "data": {
            "text/plain": [
              "array(['', 'Charged Off', 'Current', 'Default', 'Fully Paid', 'In Grace Period', 'Issued',\n",
              "       'Late (16-30 days)', 'Late (31-120 days)'], dtype='<U69')"
            ]
          },
          "metadata": {},
          "execution_count": 279
        }
      ]
    },
    {
      "cell_type": "code",
      "source": [
        "status_bad = np.array(['','Charged Off' , 'Default','Late (16-30 days)'])"
      ],
      "metadata": {
        "id": "-dsxTPfrLeNp"
      },
      "execution_count": 280,
      "outputs": []
    },
    {
      "cell_type": "code",
      "source": [
        "loan_data_string[:,1] = np.where(np.isin(loan_data_string[:,1],status_bad),0,1)"
      ],
      "metadata": {
        "id": "C4v7W0XPNNkB"
      },
      "execution_count": 281,
      "outputs": []
    },
    {
      "cell_type": "code",
      "source": [
        "np.unique(loan_data_string[:,1])"
      ],
      "metadata": {
        "colab": {
          "base_uri": "https://localhost:8080/"
        },
        "id": "9MOqyUPoN-Cl",
        "outputId": "4c729a2e-ae1d-450a-fab3-d09ff95e4526"
      },
      "execution_count": 282,
      "outputs": [
        {
          "output_type": "execute_result",
          "data": {
            "text/plain": [
              "array(['0', '1'], dtype='<U69')"
            ]
          },
          "metadata": {},
          "execution_count": 282
        }
      ]
    },
    {
      "cell_type": "markdown",
      "source": [
        "**term_months**"
      ],
      "metadata": {
        "id": "tppCLqhHJgUp"
      }
    },
    {
      "cell_type": "code",
      "source": [
        "np.unique(loan_data_string[:,2])"
      ],
      "metadata": {
        "colab": {
          "base_uri": "https://localhost:8080/"
        },
        "id": "7C7yy7vKOWwY",
        "outputId": "e2c83b64-b651-4bcd-a4c3-87323fd011a8"
      },
      "execution_count": 283,
      "outputs": [
        {
          "output_type": "execute_result",
          "data": {
            "text/plain": [
              "array(['', '36 months', '60 months'], dtype='<U69')"
            ]
          },
          "metadata": {},
          "execution_count": 283
        }
      ]
    },
    {
      "cell_type": "code",
      "source": [
        "loan_data_string[:,2] = np.chararray.strip(loan_data_string[:,2],'months ')"
      ],
      "metadata": {
        "id": "IbppKkW7Onyg"
      },
      "execution_count": 284,
      "outputs": []
    },
    {
      "cell_type": "code",
      "source": [
        "str_header[2] = \"term_months\""
      ],
      "metadata": {
        "id": "mzZli3P1Pceh"
      },
      "execution_count": 285,
      "outputs": []
    },
    {
      "cell_type": "markdown",
      "source": [
        "**sub_grade**"
      ],
      "metadata": {
        "id": "-1u7K39OJZut"
      }
    },
    {
      "cell_type": "code",
      "source": [
        "str_header"
      ],
      "metadata": {
        "colab": {
          "base_uri": "https://localhost:8080/"
        },
        "id": "nQfuWBvIPx-F",
        "outputId": "3d204f7c-5825-427f-825d-a6421fe2022f"
      },
      "execution_count": 286,
      "outputs": [
        {
          "output_type": "execute_result",
          "data": {
            "text/plain": [
              "array(['issue_date', 'loan_status', 'term_months', 'grade', 'sub_grade', 'verification_status',\n",
              "       'url', 'addr_state'], dtype='<U19')"
            ]
          },
          "metadata": {},
          "execution_count": 286
        }
      ]
    },
    {
      "cell_type": "code",
      "source": [
        "np.unique(loan_data_string[:,3])"
      ],
      "metadata": {
        "colab": {
          "base_uri": "https://localhost:8080/"
        },
        "id": "Rr9ot-RJQBxH",
        "outputId": "cc3f5e07-f3ab-4de7-fe7c-eb529200f6ee"
      },
      "execution_count": 287,
      "outputs": [
        {
          "output_type": "execute_result",
          "data": {
            "text/plain": [
              "array(['', 'A', 'B', 'C', 'D', 'E', 'F', 'G'], dtype='<U69')"
            ]
          },
          "metadata": {},
          "execution_count": 287
        }
      ]
    },
    {
      "cell_type": "code",
      "source": [
        "np.unique(loan_data_string[:,4])"
      ],
      "metadata": {
        "colab": {
          "base_uri": "https://localhost:8080/"
        },
        "id": "rUmcEhjVP9LZ",
        "outputId": "c4c14ed4-4d53-43ff-a906-13dfb7570f20"
      },
      "execution_count": 288,
      "outputs": [
        {
          "output_type": "execute_result",
          "data": {
            "text/plain": [
              "array(['', 'A1', 'A2', 'A3', 'A4', 'A5', 'B1', 'B2', 'B3', 'B4', 'B5', 'C1', 'C2', 'C3', 'C4',\n",
              "       'C5', 'D1', 'D2', 'D3', 'D4', 'D5', 'E1', 'E2', 'E3', 'E4', 'E5', 'F1', 'F2', 'F3', 'F4',\n",
              "       'F5', 'G1', 'G2', 'G3', 'G4', 'G5'], dtype='<U69')"
            ]
          },
          "metadata": {},
          "execution_count": 288
        }
      ]
    },
    {
      "cell_type": "code",
      "source": [
        "for i in np.unique(loan_data_string[:,3])[1:]:\n",
        "  loan_data_string[:,4] = np.where( (loan_data_string[:,4]=='') & (loan_data_string[:,3]==i),\n",
        "                                   i + '5' ,\n",
        "                                   loan_data_string[:,4])"
      ],
      "metadata": {
        "id": "r-c2560STbm4"
      },
      "execution_count": 289,
      "outputs": []
    },
    {
      "cell_type": "code",
      "source": [
        "np.unique(loan_data_string[:,4],return_counts=True)"
      ],
      "metadata": {
        "colab": {
          "base_uri": "https://localhost:8080/"
        },
        "id": "YKfyjCtNVWTK",
        "outputId": "f424584f-3f9b-4e0d-9917-da6cd0c2aaee"
      },
      "execution_count": 290,
      "outputs": [
        {
          "output_type": "execute_result",
          "data": {
            "text/plain": [
              "(array(['', 'A1', 'A2', 'A3', 'A4', 'A5', 'B1', 'B2', 'B3', 'B4', 'B5', 'C1', 'C2', 'C3', 'C4',\n",
              "        'C5', 'D1', 'D2', 'D3', 'D4', 'D5', 'E1', 'E2', 'E3', 'E4', 'E5', 'F1', 'F2', 'F3', 'F4',\n",
              "        'F5', 'G1', 'G2', 'G3', 'G4', 'G5'], dtype='<U69'),\n",
              " array([  9, 285, 278, 239, 323, 592, 509, 517, 530, 553, 633, 629, 567, 586, 564, 577, 391, 267,\n",
              "        250, 255, 288, 235, 162, 171, 139, 160,  94,  52,  34,  43,  24,  19,  10,   3,   7,   5]))"
            ]
          },
          "metadata": {},
          "execution_count": 290
        }
      ]
    },
    {
      "cell_type": "code",
      "source": [
        "for i in np.unique(loan_data_string[:,3])[1:]:\n",
        "  loan_data_string[:,4] = np.where( (loan_data_string[:,4]==''),\n",
        "                                   'H1',\n",
        "                                   loan_data_string[:,4])"
      ],
      "metadata": {
        "id": "vWDTMihCVust"
      },
      "execution_count": 291,
      "outputs": []
    },
    {
      "cell_type": "code",
      "source": [
        "np.unique(loan_data_string[:,4],return_counts=True)"
      ],
      "metadata": {
        "colab": {
          "base_uri": "https://localhost:8080/"
        },
        "id": "YtnsqX8FWrf8",
        "outputId": "ef31a4b0-003e-4d00-9176-8a804ed8b718"
      },
      "execution_count": 292,
      "outputs": [
        {
          "output_type": "execute_result",
          "data": {
            "text/plain": [
              "(array(['A1', 'A2', 'A3', 'A4', 'A5', 'B1', 'B2', 'B3', 'B4', 'B5', 'C1', 'C2', 'C3', 'C4', 'C5',\n",
              "        'D1', 'D2', 'D3', 'D4', 'D5', 'E1', 'E2', 'E3', 'E4', 'E5', 'F1', 'F2', 'F3', 'F4', 'F5',\n",
              "        'G1', 'G2', 'G3', 'G4', 'G5', 'H1'], dtype='<U69'),\n",
              " array([285, 278, 239, 323, 592, 509, 517, 530, 553, 633, 629, 567, 586, 564, 577, 391, 267, 250,\n",
              "        255, 288, 235, 162, 171, 139, 160,  94,  52,  34,  43,  24,  19,  10,   3,   7,   5,   9]))"
            ]
          },
          "metadata": {},
          "execution_count": 292
        }
      ]
    },
    {
      "cell_type": "code",
      "source": [
        "loan_data_string = np.delete( loan_data_string , 3 , axis = 1)"
      ],
      "metadata": {
        "id": "Fpg_F5xOWu-3"
      },
      "execution_count": 293,
      "outputs": []
    },
    {
      "cell_type": "code",
      "source": [
        "str_header = np.delete(str_header, 3 )"
      ],
      "metadata": {
        "id": "2deqwhBSXZvg"
      },
      "execution_count": 294,
      "outputs": []
    },
    {
      "cell_type": "code",
      "source": [
        "loan_data_string"
      ],
      "metadata": {
        "colab": {
          "base_uri": "https://localhost:8080/"
        },
        "id": "4r6--wKEXhGa",
        "outputId": "b1949fd1-221e-48ee-9905-33955bbc3b41"
      },
      "execution_count": 295,
      "outputs": [
        {
          "output_type": "execute_result",
          "data": {
            "text/plain": [
              "array([['9', '1', '36', ..., 'Verified',\n",
              "        'https://www.lendingclub.com/browse/loanDetail.action?loan_id=48010226', 'CA'],\n",
              "       ['0', '1', '36', ..., 'Source Verified',\n",
              "        'https://www.lendingclub.com/browse/loanDetail.action?loan_id=57693261', 'NY'],\n",
              "       ['12', '1', '36', ..., 'Verified',\n",
              "        'https://www.lendingclub.com/browse/loanDetail.action?loan_id=59432726', 'PA'],\n",
              "       ...,\n",
              "       ['7', '1', '36', ..., 'Source Verified',\n",
              "        'https://www.lendingclub.com/browse/loanDetail.action?loan_id=50415990', 'CA'],\n",
              "       ['1', '1', '36', ..., 'Source Verified',\n",
              "        'https://www.lendingclub.com/browse/loanDetail.action?loan_id=46154151', 'OH'],\n",
              "       ['3', '1', '36', ..., '',\n",
              "        'https://www.lendingclub.com/browse/loanDetail.action?loan_id=66055249', 'IL']],\n",
              "      dtype='<U69')"
            ]
          },
          "metadata": {},
          "execution_count": 295
        }
      ]
    },
    {
      "cell_type": "code",
      "source": [
        "str_header"
      ],
      "metadata": {
        "colab": {
          "base_uri": "https://localhost:8080/"
        },
        "id": "fhNSj--AYOqw",
        "outputId": "6a31b9ef-5add-45cf-ed8e-7ef806a8d865"
      },
      "execution_count": 296,
      "outputs": [
        {
          "output_type": "execute_result",
          "data": {
            "text/plain": [
              "array(['issue_date', 'loan_status', 'term_months', 'sub_grade', 'verification_status', 'url',\n",
              "       'addr_state'], dtype='<U19')"
            ]
          },
          "metadata": {},
          "execution_count": 296
        }
      ]
    },
    {
      "cell_type": "code",
      "source": [
        "np.unique(loan_data_string[:,4],return_counts=True)"
      ],
      "metadata": {
        "colab": {
          "base_uri": "https://localhost:8080/"
        },
        "id": "vSyh6DVnYTaH",
        "outputId": "0ec4df46-34fb-49c9-9cb6-cc0d81bf102c"
      },
      "execution_count": 297,
      "outputs": [
        {
          "output_type": "execute_result",
          "data": {
            "text/plain": [
              "(array(['', 'Not Verified', 'Source Verified', 'Verified'], dtype='<U69'),\n",
              " array([ 500, 2673, 4116, 2711]))"
            ]
          },
          "metadata": {},
          "execution_count": 297
        }
      ]
    },
    {
      "cell_type": "code",
      "source": [
        "keys  = list(np.unique(loan_data_string[:,3]))\n",
        "#keys"
      ],
      "metadata": {
        "id": "GO1j8m5cYhn3"
      },
      "execution_count": 298,
      "outputs": []
    },
    {
      "cell_type": "code",
      "source": [
        "values = list(range(1,np.unique(loan_data_string[:,3]).shape[0]+1))\n",
        "#values"
      ],
      "metadata": {
        "id": "oABVrerSe3xh"
      },
      "execution_count": 299,
      "outputs": []
    },
    {
      "cell_type": "code",
      "source": [
        "dict_sub_grade = dict(zip(keys,values))\n",
        "#dict_sub_grade"
      ],
      "metadata": {
        "id": "_rQFNa0jfhov"
      },
      "execution_count": 300,
      "outputs": []
    },
    {
      "cell_type": "code",
      "source": [
        "for i in np.unique(loan_data_string[:,3]):\n",
        "  loan_data_string[:,3] = np.where(loan_data_string[:,3] == i ,\n",
        "                                   dict_sub_grade[i],\n",
        "                                   loan_data_string[:,3])"
      ],
      "metadata": {
        "id": "6jTfpoNmgEIJ"
      },
      "execution_count": 301,
      "outputs": []
    },
    {
      "cell_type": "code",
      "source": [
        "np.unique(loan_data_string[:,3])"
      ],
      "metadata": {
        "colab": {
          "base_uri": "https://localhost:8080/"
        },
        "id": "GqzUeLDAhSWX",
        "outputId": "2cce25bb-1d30-4b5a-9df0-d1477a02707c"
      },
      "execution_count": 302,
      "outputs": [
        {
          "output_type": "execute_result",
          "data": {
            "text/plain": [
              "array(['1', '10', '11', '12', '13', '14', '15', '16', '17', '18', '19', '2', '20', '21', '22',\n",
              "       '23', '24', '25', '26', '27', '28', '29', '3', '30', '31', '32', '33', '34', '35', '36',\n",
              "       '4', '5', '6', '7', '8', '9'], dtype='<U69')"
            ]
          },
          "metadata": {},
          "execution_count": 302
        }
      ]
    },
    {
      "cell_type": "code",
      "source": [
        "loan_data_string[:,3]"
      ],
      "metadata": {
        "colab": {
          "base_uri": "https://localhost:8080/"
        },
        "id": "MCMV1hkrhlsG",
        "outputId": "260f2fec-082d-4353-8b10-f5e8dcb895db"
      },
      "execution_count": 303,
      "outputs": [
        {
          "output_type": "execute_result",
          "data": {
            "text/plain": [
              "array(['13', '5', '10', ..., '5', '17', '4'], dtype='<U69')"
            ]
          },
          "metadata": {},
          "execution_count": 303
        }
      ]
    },
    {
      "cell_type": "code",
      "source": [
        "loan_data_string[:,1]"
      ],
      "metadata": {
        "id": "k_Ii2T2qhv8I",
        "colab": {
          "base_uri": "https://localhost:8080/"
        },
        "outputId": "6438629c-c83c-4dc5-8e99-81900360c0c6"
      },
      "execution_count": 304,
      "outputs": [
        {
          "output_type": "execute_result",
          "data": {
            "text/plain": [
              "array(['1', '1', '1', ..., '1', '1', '1'], dtype='<U69')"
            ]
          },
          "metadata": {},
          "execution_count": 304
        }
      ]
    },
    {
      "cell_type": "markdown",
      "source": [
        "**verification_status**"
      ],
      "metadata": {
        "id": "EBhsfDnUJJiH"
      }
    },
    {
      "cell_type": "markdown",
      "source": [
        "'', 'Not Verified'  ----> 0\n",
        "'Source Verified', 'Verified' ----->1"
      ],
      "metadata": {
        "id": "wDGTjEx8HQrd"
      }
    },
    {
      "cell_type": "code",
      "source": [
        "str_header"
      ],
      "metadata": {
        "colab": {
          "base_uri": "https://localhost:8080/"
        },
        "id": "uV3L8Xm6GGGm",
        "outputId": "5b00737a-1a0b-4f79-e8ab-e50e27e1bd3b"
      },
      "execution_count": 305,
      "outputs": [
        {
          "output_type": "execute_result",
          "data": {
            "text/plain": [
              "array(['issue_date', 'loan_status', 'term_months', 'sub_grade', 'verification_status', 'url',\n",
              "       'addr_state'], dtype='<U19')"
            ]
          },
          "metadata": {},
          "execution_count": 305
        }
      ]
    },
    {
      "cell_type": "code",
      "source": [
        "np.unique(loan_data_string[:,4])"
      ],
      "metadata": {
        "colab": {
          "base_uri": "https://localhost:8080/"
        },
        "id": "jCwLx4sVGWEk",
        "outputId": "e749c08c-51ed-45ab-c806-b1249d34b024"
      },
      "execution_count": 306,
      "outputs": [
        {
          "output_type": "execute_result",
          "data": {
            "text/plain": [
              "array(['', 'Not Verified', 'Source Verified', 'Verified'], dtype='<U69')"
            ]
          },
          "metadata": {},
          "execution_count": 306
        }
      ]
    },
    {
      "cell_type": "code",
      "source": [
        "loan_data_string[:,4] = np.where((loan_data_string[:,4] == '')|(loan_data_string[:,4] =='Not Verified'), 0 ,1)"
      ],
      "metadata": {
        "id": "Q68FhewEGs8e"
      },
      "execution_count": 307,
      "outputs": []
    },
    {
      "cell_type": "code",
      "source": [
        "loan_data_string[:,4]"
      ],
      "metadata": {
        "colab": {
          "base_uri": "https://localhost:8080/"
        },
        "id": "C6FDxPFYIb0P",
        "outputId": "378cc8d0-6d4b-4d26-cf2b-68009c2b58a3"
      },
      "execution_count": 308,
      "outputs": [
        {
          "output_type": "execute_result",
          "data": {
            "text/plain": [
              "array(['1', '1', '1', ..., '1', '1', '0'], dtype='<U69')"
            ]
          },
          "metadata": {},
          "execution_count": 308
        }
      ]
    },
    {
      "cell_type": "markdown",
      "source": [
        "**URL**"
      ],
      "metadata": {
        "id": "eMPVMMdQJA7G"
      }
    },
    {
      "cell_type": "code",
      "source": [
        "loan_data_string[:1,5]"
      ],
      "metadata": {
        "colab": {
          "base_uri": "https://localhost:8080/"
        },
        "id": "MceaqSHWIwm9",
        "outputId": "b663abfb-d0d0-4ee3-d376-6399479d0f7b"
      },
      "execution_count": 309,
      "outputs": [
        {
          "output_type": "execute_result",
          "data": {
            "text/plain": [
              "array(['https://www.lendingclub.com/browse/loanDetail.action?loan_id=48010226'], dtype='<U69')"
            ]
          },
          "metadata": {},
          "execution_count": 309
        }
      ]
    },
    {
      "cell_type": "code",
      "source": [
        "loan_data_string[:,5] = np.chararray.strip( loan_data_string[:,5],\"https://www.lendingclub.com/browse/loanDetail.action?loan_id=\")"
      ],
      "metadata": {
        "id": "g3LY8MnsI7JF"
      },
      "execution_count": 310,
      "outputs": []
    },
    {
      "cell_type": "code",
      "source": [
        "loan_data_string[:,5].astype(dtype = np.int32)"
      ],
      "metadata": {
        "colab": {
          "base_uri": "https://localhost:8080/"
        },
        "id": "ny9OVUCELPLk",
        "outputId": "cfa084b8-b966-4975-870b-8b00e276579b"
      },
      "execution_count": 311,
      "outputs": [
        {
          "output_type": "execute_result",
          "data": {
            "text/plain": [
              "array([48010226, 57693261, 59432726, ..., 50415990, 46154151, 66055249], dtype=int32)"
            ]
          },
          "metadata": {},
          "execution_count": 311
        }
      ]
    },
    {
      "cell_type": "code",
      "source": [
        "loan_data_string[:,5]"
      ],
      "metadata": {
        "colab": {
          "base_uri": "https://localhost:8080/"
        },
        "id": "_o6anzjfMBVM",
        "outputId": "79aeea39-2f45-44cc-d8de-e1e892fdd5f9"
      },
      "execution_count": 312,
      "outputs": [
        {
          "output_type": "execute_result",
          "data": {
            "text/plain": [
              "array(['48010226', '57693261', '59432726', ..., '50415990', '46154151', '66055249'], dtype='<U69')"
            ]
          },
          "metadata": {},
          "execution_count": 312
        }
      ]
    },
    {
      "cell_type": "markdown",
      "source": [
        " id and url is as same as each other"
      ],
      "metadata": {
        "id": "xyp5_paEONhb"
      }
    },
    {
      "cell_type": "code",
      "source": [
        "num_header"
      ],
      "metadata": {
        "colab": {
          "base_uri": "https://localhost:8080/"
        },
        "id": "XpWxeUCIN4ZF",
        "outputId": "76aeb687-212e-4063-b358-d4b05faf9854"
      },
      "execution_count": 313,
      "outputs": [
        {
          "output_type": "execute_result",
          "data": {
            "text/plain": [
              "array(['id', 'loan_amnt', 'funded_amnt', 'int_rate', 'installment', 'total_pymnt'], dtype='<U19')"
            ]
          },
          "metadata": {},
          "execution_count": 313
        }
      ]
    },
    {
      "cell_type": "code",
      "source": [
        "loan_data_num[:,0]"
      ],
      "metadata": {
        "colab": {
          "base_uri": "https://localhost:8080/"
        },
        "id": "tCmbRxScMbIH",
        "outputId": "fc22ee7b-0a2c-4a7a-9510-ea7bd69f74ef"
      },
      "execution_count": 314,
      "outputs": [
        {
          "output_type": "execute_result",
          "data": {
            "text/plain": [
              "array([48010226., 57693261., 59432726., ..., 50415990., 46154151., 66055249.])"
            ]
          },
          "metadata": {},
          "execution_count": 314
        }
      ]
    },
    {
      "cell_type": "code",
      "source": [
        "str_header = np.delete(str_header,5)"
      ],
      "metadata": {
        "id": "sxZ9bT_1O3ur"
      },
      "execution_count": 315,
      "outputs": []
    },
    {
      "cell_type": "code",
      "source": [
        "loan_data_string = np.delete(loan_data_string,5,axis=1)"
      ],
      "metadata": {
        "id": "uKUmEBCuNcJN"
      },
      "execution_count": 316,
      "outputs": []
    },
    {
      "cell_type": "markdown",
      "source": [
        "**addr_state**"
      ],
      "metadata": {
        "id": "EA6wuK_lQFnj"
      }
    },
    {
      "cell_type": "code",
      "source": [
        "str_header[5]"
      ],
      "metadata": {
        "colab": {
          "base_uri": "https://localhost:8080/",
          "height": 37
        },
        "id": "VTiC14VxO1_U",
        "outputId": "77de6765-62c3-432e-c983-dcb46f1c6dcc"
      },
      "execution_count": 317,
      "outputs": [
        {
          "output_type": "execute_result",
          "data": {
            "text/plain": [
              "'addr_state'"
            ],
            "application/vnd.google.colaboratory.intrinsic+json": {
              "type": "string"
            }
          },
          "metadata": {},
          "execution_count": 317
        }
      ]
    },
    {
      "cell_type": "markdown",
      "source": [
        "50 states in america"
      ],
      "metadata": {
        "id": "XYTGyZjtRg6z"
      }
    },
    {
      "cell_type": "code",
      "source": [
        "np.unique(loan_data_string[:,5])"
      ],
      "metadata": {
        "colab": {
          "base_uri": "https://localhost:8080/"
        },
        "id": "SjFAiFKvQqCN",
        "outputId": "47705ae9-a111-4171-817f-045ee9a09b49"
      },
      "execution_count": 318,
      "outputs": [
        {
          "output_type": "execute_result",
          "data": {
            "text/plain": [
              "array(['', 'AK', 'AL', 'AR', 'AZ', 'CA', 'CO', 'CT', 'DC', 'DE', 'FL', 'GA', 'HI', 'IL', 'IN',\n",
              "       'KS', 'KY', 'LA', 'MA', 'MD', 'ME', 'MI', 'MN', 'MO', 'MS', 'MT', 'NC', 'ND', 'NE', 'NH',\n",
              "       'NJ', 'NM', 'NV', 'NY', 'OH', 'OK', 'OR', 'PA', 'RI', 'SC', 'SD', 'TN', 'TX', 'UT', 'VA',\n",
              "       'VT', 'WA', 'WI', 'WV', 'WY'], dtype='<U69')"
            ]
          },
          "metadata": {},
          "execution_count": 318
        }
      ]
    },
    {
      "cell_type": "code",
      "source": [
        "np.unique(loan_data_string[:,5]).shape"
      ],
      "metadata": {
        "colab": {
          "base_uri": "https://localhost:8080/"
        },
        "id": "i3PvicDUP8h0",
        "outputId": "bc94ad2f-028e-42cc-8108-7dc6b1ae9380"
      },
      "execution_count": 319,
      "outputs": [
        {
          "output_type": "execute_result",
          "data": {
            "text/plain": [
              "(50,)"
            ]
          },
          "metadata": {},
          "execution_count": 319
        }
      ]
    },
    {
      "cell_type": "code",
      "source": [
        "loan_data_string[:,5] = np.where(loan_data_string[:,5]=='',\n",
        "                                 0,\n",
        "                                 loan_data_string[:,5])"
      ],
      "metadata": {
        "id": "NrgO854vP-7z"
      },
      "execution_count": 320,
      "outputs": []
    },
    {
      "cell_type": "code",
      "execution_count": 321,
      "metadata": {
        "id": "20ZHFQ9EUxmM"
      },
      "outputs": [],
      "source": [
        "states_west = np.array(['WA', 'OR','CA','NV','ID','MT', 'WY','UT','CO', 'AZ','NM','HI','AK'])\n",
        "states_south = np.array(['TX','OK','AR','LA','MS','AL','TN','KY','FL','GA','SC','NC','VA','WV','MD','DE','DC'])\n",
        "states_midwest = np.array(['ND','SD','NE','KS','MN','IA','MO','WI','IL','IN','MI','OH'])\n",
        "states_east = np.array(['PA','NY','NJ','CT','MA','VT','NH','ME','RI'])"
      ]
    },
    {
      "cell_type": "code",
      "source": [
        "loan_data_string[:,5] = np.where(np.isin(loan_data_string[:,5], states_west), 1, loan_data_string[:,5])\n",
        "loan_data_string[:,5] = np.where(np.isin(loan_data_string[:,5], states_south), 2, loan_data_string[:,5])\n",
        "loan_data_string[:,5] = np.where(np.isin(loan_data_string[:,5], states_midwest), 3, loan_data_string[:,5])\n",
        "loan_data_string[:,5] = np.where(np.isin(loan_data_string[:,5], states_east), 4, loan_data_string[:,5])"
      ],
      "metadata": {
        "id": "iju1izT7U6tE"
      },
      "execution_count": 322,
      "outputs": []
    },
    {
      "cell_type": "code",
      "source": [
        "np.unique(loan_data_string[:,5])"
      ],
      "metadata": {
        "colab": {
          "base_uri": "https://localhost:8080/"
        },
        "id": "z0f9O5ZjVAbb",
        "outputId": "8beb9562-b5bd-49fc-ea90-f915ea25f931"
      },
      "execution_count": 323,
      "outputs": [
        {
          "output_type": "execute_result",
          "data": {
            "text/plain": [
              "array(['0', '1', '2', '3', '4'], dtype='<U69')"
            ]
          },
          "metadata": {},
          "execution_count": 323
        }
      ]
    },
    {
      "cell_type": "markdown",
      "source": [
        "change all data to int"
      ],
      "metadata": {
        "id": "MGCaBsRoVshr"
      }
    },
    {
      "cell_type": "code",
      "source": [
        "print(loan_data_string)"
      ],
      "metadata": {
        "colab": {
          "base_uri": "https://localhost:8080/"
        },
        "id": "3c8vB2e0Vcqj",
        "outputId": "a8772328-fdf9-4f7d-ef71-866e46eadc43"
      },
      "execution_count": 324,
      "outputs": [
        {
          "output_type": "stream",
          "name": "stdout",
          "text": [
            "[['9' '1' '36' '13' '1' '1']\n",
            " ['0' '1' '36' '5' '1' '4']\n",
            " ['12' '1' '36' '10' '1' '4']\n",
            " ...\n",
            " ['7' '1' '36' '5' '1' '1']\n",
            " ['1' '1' '36' '17' '1' '3']\n",
            " ['3' '1' '36' '4' '0' '3']]\n"
          ]
        }
      ]
    },
    {
      "cell_type": "code",
      "source": [
        "#numpy.ndarray\n",
        "loan_data_string "
      ],
      "metadata": {
        "colab": {
          "base_uri": "https://localhost:8080/"
        },
        "id": "jk0YYxq4Xz0j",
        "outputId": "c3a216b5-41e4-4a3e-a5e7-247ec461b894"
      },
      "execution_count": 325,
      "outputs": [
        {
          "output_type": "execute_result",
          "data": {
            "text/plain": [
              "array([['9', '1', '36', '13', '1', '1'],\n",
              "       ['0', '1', '36', '5', '1', '4'],\n",
              "       ['12', '1', '36', '10', '1', '4'],\n",
              "       ...,\n",
              "       ['7', '1', '36', '5', '1', '1'],\n",
              "       ['1', '1', '36', '17', '1', '3'],\n",
              "       ['3', '1', '36', '4', '0', '3']], dtype='<U69')"
            ]
          },
          "metadata": {},
          "execution_count": 325
        }
      ]
    },
    {
      "cell_type": "code",
      "source": [
        "type(raw_data_np)"
      ],
      "metadata": {
        "colab": {
          "base_uri": "https://localhost:8080/"
        },
        "id": "7gf9bFPJhz0N",
        "outputId": "bb8f5a90-5a81-4230-8142-b13af97da7cb"
      },
      "execution_count": 329,
      "outputs": [
        {
          "output_type": "execute_result",
          "data": {
            "text/plain": [
              "numpy.ndarray"
            ]
          },
          "metadata": {},
          "execution_count": 329
        }
      ]
    },
    {
      "cell_type": "code",
      "source": [
        "type(loan_data_string)"
      ],
      "metadata": {
        "colab": {
          "base_uri": "https://localhost:8080/"
        },
        "id": "PQEweyVZjdCL",
        "outputId": "1530dc00-1947-4630-ae9b-2cbb9047ce7e"
      },
      "execution_count": 330,
      "outputs": [
        {
          "output_type": "execute_result",
          "data": {
            "text/plain": [
              "numpy.ndarray"
            ]
          },
          "metadata": {},
          "execution_count": 330
        }
      ]
    },
    {
      "cell_type": "code",
      "source": [
        "np.isnan(raw_data_np).sum()"
      ],
      "metadata": {
        "colab": {
          "base_uri": "https://localhost:8080/"
        },
        "outputId": "c9cc22d2-c97a-47e2-b889-696923d5b6e9",
        "id": "P4Pk1FtLjKAs"
      },
      "execution_count": 331,
      "outputs": [
        {
          "output_type": "execute_result",
          "data": {
            "text/plain": [
              "88005"
            ]
          },
          "metadata": {},
          "execution_count": 331
        }
      ]
    },
    {
      "cell_type": "code",
      "source": [
        "import pandas as pd\n",
        "\n",
        "# Assuming 'loan_data_string' is a pandas DataFrame\n",
        "loan_data_string = pd.DataFrame(loan_data_string)\n",
        "\n",
        "# Check for NaN values in the DataFrame\n",
        "nan_count = loan_data_string.isnull().sum()\n",
        "\n",
        "print(\"Number of NaN values:\", nan_count)"
      ],
      "metadata": {
        "colab": {
          "base_uri": "https://localhost:8080/"
        },
        "id": "Ysqc5P78jn77",
        "outputId": "934685d5-ad59-40f5-9309-a1eda22e0408"
      },
      "execution_count": 340,
      "outputs": [
        {
          "output_type": "stream",
          "name": "stdout",
          "text": [
            "Number of NaN values: 0    0\n",
            "1    0\n",
            "2    0\n",
            "3    0\n",
            "4    0\n",
            "5    0\n",
            "dtype: int64\n"
          ]
        }
      ]
    },
    {
      "cell_type": "code",
      "source": [
        "type(loan_data_string[1])\n"
      ],
      "metadata": {
        "colab": {
          "base_uri": "https://localhost:8080/"
        },
        "id": "ubyBRP4qk3QC",
        "outputId": "e3debefa-f970-4494-d2a0-5a2922746513"
      },
      "execution_count": 347,
      "outputs": [
        {
          "output_type": "execute_result",
          "data": {
            "text/plain": [
              "pandas.core.series.Series"
            ]
          },
          "metadata": {},
          "execution_count": 347
        }
      ]
    },
    {
      "cell_type": "code",
      "source": [
        "type(loan_data_string)"
      ],
      "metadata": {
        "colab": {
          "base_uri": "https://localhost:8080/"
        },
        "id": "Bkq-7KtFkB8a",
        "outputId": "48430c83-308e-4a54-8b45-887fa13c4273"
      },
      "execution_count": 336,
      "outputs": [
        {
          "output_type": "execute_result",
          "data": {
            "text/plain": [
              "pandas.core.frame.DataFrame"
            ]
          },
          "metadata": {},
          "execution_count": 336
        }
      ]
    },
    {
      "cell_type": "code",
      "source": [
        "loan_data_string = loan_data_string.to_numpy()"
      ],
      "metadata": {
        "id": "YO3sGVBlkK5f"
      },
      "execution_count": 348,
      "outputs": []
    },
    {
      "cell_type": "code",
      "source": [
        "type(loan_data_string[:,1])"
      ],
      "metadata": {
        "colab": {
          "base_uri": "https://localhost:8080/"
        },
        "id": "Ef_1dey6kqhz",
        "outputId": "60c20cae-7a8f-4316-ec27-29af0eb9db09"
      },
      "execution_count": 351,
      "outputs": [
        {
          "output_type": "execute_result",
          "data": {
            "text/plain": [
              "numpy.ndarray"
            ]
          },
          "metadata": {},
          "execution_count": 351
        }
      ]
    },
    {
      "cell_type": "code",
      "source": [
        "loan_data_string"
      ],
      "metadata": {
        "colab": {
          "base_uri": "https://localhost:8080/"
        },
        "id": "3kY-WLJUkxZC",
        "outputId": "6e1aa9b8-cbec-474b-9e7e-044c9af28703"
      },
      "execution_count": 353,
      "outputs": [
        {
          "output_type": "execute_result",
          "data": {
            "text/plain": [
              "array([['9', '1', '36', '13', '1', '1'],\n",
              "       ['0', '1', '36', '5', '1', '4'],\n",
              "       ['12', '1', '36', '10', '1', '4'],\n",
              "       ...,\n",
              "       ['7', '1', '36', '5', '1', '1'],\n",
              "       ['1', '1', '36', '17', '1', '3'],\n",
              "       ['3', '1', '36', '4', '0', '3']], dtype=object)"
            ]
          },
          "metadata": {},
          "execution_count": 353
        }
      ]
    },
    {
      "cell_type": "code",
      "source": [
        "checkpoint_string = checkpoint(\"checkpoint_test\",str_header, loan_data_string)"
      ],
      "metadata": {
        "id": "fbBOmlOZmv35"
      },
      "execution_count": 367,
      "outputs": []
    },
    {
      "cell_type": "code",
      "source": [
        "checkpoint_string"
      ],
      "metadata": {
        "colab": {
          "base_uri": "https://localhost:8080/"
        },
        "id": "17_n1YVSlz7T",
        "outputId": "8986bad7-d7f5-4999-9260-a1fc5964ac9b"
      },
      "execution_count": 368,
      "outputs": [
        {
          "output_type": "execute_result",
          "data": {
            "text/plain": [
              "<numpy.lib.npyio.NpzFile at 0x7f295a9a5900>"
            ]
          },
          "metadata": {},
          "execution_count": 368
        }
      ]
    },
    {
      "cell_type": "code",
      "source": [
        "checkpoint_string[\"header\"]"
      ],
      "metadata": {
        "colab": {
          "base_uri": "https://localhost:8080/"
        },
        "id": "vu2GcgeDm0VZ",
        "outputId": "a0c5d5c6-dc9a-40b1-dc67-8fd284277656"
      },
      "execution_count": 369,
      "outputs": [
        {
          "output_type": "execute_result",
          "data": {
            "text/plain": [
              "array(['issue_date', 'loan_status', 'term_months', 'sub_grade', 'verification_status',\n",
              "       'addr_state'], dtype='<U19')"
            ]
          },
          "metadata": {},
          "execution_count": 369
        }
      ]
    },
    {
      "cell_type": "code",
      "source": [],
      "metadata": {
        "id": "6pSvb5cNm5_5"
      },
      "execution_count": null,
      "outputs": []
    }
  ]
}